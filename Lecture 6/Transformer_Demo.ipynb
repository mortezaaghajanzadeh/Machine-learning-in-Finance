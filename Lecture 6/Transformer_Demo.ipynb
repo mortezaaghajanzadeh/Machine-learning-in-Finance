{
  "nbformat": 4,
  "nbformat_minor": 0,
  "metadata": {
    "colab": {
      "provenance": [],
      "include_colab_link": true
    },
    "kernelspec": {
      "name": "python3",
      "display_name": "Python 3"
    },
    "language_info": {
      "name": "python"
    }
  },
  "cells": [
    {
      "cell_type": "markdown",
      "metadata": {
        "id": "view-in-github",
        "colab_type": "text"
      },
      "source": [
        "<a href=\"https://colab.research.google.com/github/mortezaaghajanzadeh/Machine-learning-in-Finance/blob/main/Lecture%206/Transformer_Demo.ipynb\" target=\"_parent\"><img src=\"https://colab.research.google.com/assets/colab-badge.svg\" alt=\"Open In Colab\"/></a>"
      ]
    },
    {
      "cell_type": "markdown",
      "source": [
        "#### **Install modules.**"
      ],
      "metadata": {
        "id": "Gew5-N5oKqP4"
      }
    },
    {
      "cell_type": "code",
      "execution_count": null,
      "metadata": {
        "id": "zLkcR3wVKSMJ"
      },
      "outputs": [],
      "source": [
        "!pip install transformers\n",
        "!pip install wordcloud"
      ]
    },
    {
      "cell_type": "markdown",
      "source": [
        "#### **Import modules.**"
      ],
      "metadata": {
        "id": "GFKo9hC1Kuyd"
      }
    },
    {
      "cell_type": "code",
      "source": [
        "from urllib.request import Request, urlopen\n",
        "from bs4 import BeautifulSoup\n",
        "import matplotlib.pyplot as plt\n",
        "from wordcloud import WordCloud\n",
        "from transformers import pipeline, AutoTokenizer, AutoModelForSequenceClassification, AutoModelForSeq2SeqLM"
      ],
      "metadata": {
        "id": "yLh8hYtGKyZm"
      },
      "execution_count": null,
      "outputs": []
    },
    {
      "cell_type": "markdown",
      "source": [
        "#### **Scrape example text.**"
      ],
      "metadata": {
        "id": "Yp2Vee95MWbb"
      }
    },
    {
      "cell_type": "code",
      "source": [
        "# Define header.\n",
        "url = \"https://www.federalreserve.gov/newsevents/speech/yellen20170926a.htm\"\n",
        "\n",
        "# Define user-agent string.\n",
        "headers = {\"User-Agent\": \"Mozilla/5.0 (Windows NT 10.0; Win64; x64) Chrome/90.0.4430.85\"}\n",
        "\n",
        "# Define contents of GET request.\n",
        "req = Request(url, headers=headers)\n",
        "\n",
        "# Send get request.\n",
        "html = urlopen(req)\n",
        "\n",
        "# Parse HTML.\n",
        "soup = BeautifulSoup(html.read())\n",
        "\n",
        "# Extract paragraphs from speech.\n",
        "speech = soup.find_all('p')\n",
        "\n",
        "# Get text from each paragraph.\n",
        "speech = [p.text for p in speech]\n",
        "\n",
        "# Print list of speech paragraphs.\n",
        "print(speech)"
      ],
      "metadata": {
        "id": "0shU7NM4MYUM"
      },
      "execution_count": null,
      "outputs": []
    },
    {
      "cell_type": "markdown",
      "source": [
        "#### **Load transformer models and tokenizers.**"
      ],
      "metadata": {
        "id": "a2lnngkZMc5P"
      }
    },
    {
      "cell_type": "code",
      "source": [
        "# Load distilbert base model.\n",
        "classification_model_name = \"distilbert-base-uncased-finetuned-sst-2-english\"\n",
        "tokenizer_classification = AutoTokenizer.from_pretrained(classification_model_name)\n",
        "model_classification = AutoModelForSequenceClassification.from_pretrained(classification_model_name)\n",
        "\n",
        "# Load t5-small model.\n",
        "summarization_model_name = \"t5-small\"\n",
        "tokenizer_summarization = AutoTokenizer.from_pretrained(summarization_model_name)\n",
        "model_summarization = AutoModelForSeq2SeqLM.from_pretrained(summarization_model_name)"
      ],
      "metadata": {
        "id": "XvIhB-OfKlBk"
      },
      "execution_count": null,
      "outputs": []
    },
    {
      "cell_type": "markdown",
      "source": [
        "#### **Instantiate pipelines.**"
      ],
      "metadata": {
        "id": "I6Z0nb1qas6M"
      }
    },
    {
      "cell_type": "code",
      "source": [
        "# Instantiate sentiment classification pipeline.\n",
        "sentiment_classifier = pipeline(\"sentiment-analysis\", model=model_classification, tokenizer=tokenizer_classification)\n",
        "\n",
        "# Instantiate text summarization pipeline.\n",
        "summarizer = pipeline(\"summarization\", model=model_summarization, tokenizer=tokenizer_summarization)"
      ],
      "metadata": {
        "id": "zsh_numbL7c6"
      },
      "execution_count": null,
      "outputs": []
    },
    {
      "cell_type": "markdown",
      "source": [
        "#### **Apply pipeline to classify and summarize text.**"
      ],
      "metadata": {
        "id": "ugvDtW7zayQc"
      }
    },
    {
      "cell_type": "code",
      "source": [
        "# Define empty lists to hold results.\n",
        "summaries = []\n",
        "sentiment_scores = []\n",
        "\n",
        "# Iterate through speech paragraphs and apply sentiment classification and text summarization\n",
        "for idx, paragraph in enumerate(speech):\n",
        "    # Sentiment classification\n",
        "    sentiment_result = sentiment_classifier(paragraph)[0]\n",
        "\n",
        "    # Recover label and score.\n",
        "    sentiment_label = sentiment_result[\"label\"]\n",
        "    sentiment_score = sentiment_result[\"score\"]\n",
        "\n",
        "    # Change sign if negative.\n",
        "    if sentiment_label == \"NEGATIVE\":\n",
        "        sentiment_score *= -1\n",
        "\n",
        "    # Append score to list.\n",
        "    sentiment_scores.append(sentiment_score)\n",
        "\n",
        "    # Text summarization\n",
        "    summary = summarizer(paragraph, max_length=50, min_length=25, do_sample=False)[0][\"summary_text\"]\n",
        "    summaries.append(summary)\n",
        "\n",
        "    # Print results\n",
        "    print(f\"Paragraph {idx + 1}:\")\n",
        "    print(f\"Sentiment: {sentiment_label} (Score: {sentiment_score:.2f})\")\n",
        "    print(f\"Summary: {summary}\\n\")"
      ],
      "metadata": {
        "id": "BtVdgoijKnPY"
      },
      "execution_count": null,
      "outputs": []
    },
    {
      "cell_type": "markdown",
      "source": [
        "#### **Visualize results.**"
      ],
      "metadata": {
        "id": "P5UMtBhnN2Hl"
      }
    },
    {
      "cell_type": "code",
      "source": [
        "# Define function to generate tick labels.\n",
        "def custom_tick_labels(n, step):\n",
        "    labels = [\"\" for _ in range(n)]\n",
        "    for i in range(0, n, step):\n",
        "        labels[i] = f\"P{i+1}\"\n",
        "    return labels\n",
        "\n",
        "# Tick label parameters.\n",
        "num_paragraphs = len(sentiment_scores)\n",
        "tick_step = num_paragraphs // 10 if num_paragraphs > 10 else 1\n",
        "\n",
        "# Generate bar chart.\n",
        "plt.figure(figsize=(12, 6))\n",
        "plt.bar(range(1, num_paragraphs + 1), sentiment_scores, tick_label=custom_tick_labels(num_paragraphs, tick_step))\n",
        "plt.xlabel(\"Paragraph\")\n",
        "plt.ylabel(\"Adjusted Sentiment Score\")\n",
        "plt.title(\"Adjusted Sentiment Scores for Each Paragraph\")\n",
        "plt.axhline(y=0, color='r', linestyle='-')\n",
        "plt.xticks(rotation=45)\n",
        "plt.show()"
      ],
      "metadata": {
        "id": "W_ePA9m6N7W0"
      },
      "execution_count": null,
      "outputs": []
    },
    {
      "cell_type": "code",
      "source": [
        "# Generate a word cloud from the summarized text.\n",
        "wordcloud = WordCloud(width=800, height=400, background_color=\"white\", colormap=\"viridis\").generate(\" \".join(summaries))\n",
        "\n",
        "# Display the word cloud.\n",
        "plt.figure(figsize=(16, 8))\n",
        "plt.imshow(wordcloud, interpolation=\"bilinear\")\n",
        "plt.axis(\"off\")\n",
        "plt.show()"
      ],
      "metadata": {
        "id": "Z-zpz8wbN_6n"
      },
      "execution_count": null,
      "outputs": []
    }
  ]
}