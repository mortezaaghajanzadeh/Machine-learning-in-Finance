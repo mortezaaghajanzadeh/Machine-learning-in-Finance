{
  "nbformat": 4,
  "nbformat_minor": 0,
  "metadata": {
    "colab": {
      "provenance": [],
      "include_colab_link": true
    },
    "kernelspec": {
      "name": "python3",
      "display_name": "Python 3"
    },
    "language_info": {
      "name": "python"
    }
  },
  "cells": [
    {
      "cell_type": "markdown",
      "metadata": {
        "id": "view-in-github",
        "colab_type": "text"
      },
      "source": [
        "<a href=\"https://colab.research.google.com/github/mortezaaghajanzadeh/Machine-learning-in-Finance/blob/main/Lecture%206/ScrapingNLP.ipynb\" target=\"_parent\"><img src=\"https://colab.research.google.com/assets/colab-badge.svg\" alt=\"Open In Colab\"/></a>"
      ]
    },
    {
      "cell_type": "markdown",
      "metadata": {
        "id": "m5LlShZY0glG"
      },
      "source": [
        "# **Example 1: Submitting GET Requests**"
      ]
    },
    {
      "cell_type": "markdown",
      "metadata": {
        "id": "rSiK8N3k4vvP"
      },
      "source": [
        "This module imports urlopen from `urllib`. It then sends a get request to http://www.math.unm.edu/writingHTML/tut/index.html and prints\n",
        "the HTML returned."
      ]
    },
    {
      "cell_type": "code",
      "metadata": {
        "id": "9TTQRYtox7l2",
        "colab": {
          "base_uri": "https://localhost:8080/"
        },
        "outputId": "3fadbc41-8a26-44c7-bd75-0dfd19f98a59"
      },
      "source": [
        "from urllib.request import urlopen\n",
        "\n",
        "# Define URL as string.\n",
        "url = \"http://www.math.unm.edu/writingHTML/tut/index.html\"\n",
        "\n",
        "# Send get request.\n",
        "html = urlopen(url)\n",
        "\n",
        "# Print HTML as string.\n",
        "print(html.read())"
      ],
      "execution_count": null,
      "outputs": [
        {
          "output_type": "stream",
          "name": "stdout",
          "text": [
            "b'<!DOCTYPE HTML PUBLIC \"-//W3C//DTD HTML 3.2//EN\">\\n<html>\\n<head>\\n<title>Writing HTML</title>\\n<META name=\"description\" content=\"More than just an HTML reference, this is a structured approach for learning how to create web pages, designed by specialists in learning at the Maricopa Center for Learning & Instruction.\">\\n<META  name=\"keywords\" content=\"HTML, tutorial, learn, make, create, design, web page, home page, education, maricopa, mcli, writing, form, tables, frames, javascript\">\\n</head>\\n<body bgcolor=\"#FFFFFF\">\\n<H5><I>Writing HTML</I> |\\nAbout | \\n<A HREF=\"faq.html\">FAQ</A> |\\n<A HREF=\"http://www.mcli.dist.maricopa.edu/cgi-bin/alumni.pl\">Alumni</A> |\\n<A HREF=\"http://www.mcli.dist.maricopa.edu/cgi-bin/kudos_tut.pl\">Kudos</A> |\\n<a href=\"ref.html\">References</a> | \\n<A HREF=\"tags/index.html\">Tags</A> |\\n<A HREF=\"lessons.html\">Lessons</A> | \\n</H5>\\n\\n<img src=\"pictures/tut.gif\" alt=\"...\" width=\"397\" height=\"114\"> <br>\\n<i>/ May 1999 / version 4.0.1 / \\n<A HREF=\"version.html\">version history</A> /</i>\\n<p>\\n<table cellpadding=10 cellspacing=2 border=0 width=90%>\\n<tr>\\n<td valign=top align=right bgcolor=#CCFFCC width=8%><H2>About this Tutorial</H2>\\n<font color=#333333><tt>We created this tutorial way back in 1994, when the web was young.<p>\\nThe newest version featuring new lessons on frames, forms, and javascript are ready as of December 1998. More are in the works.</tt></font></td>\\n<td valign=top>\\n<b><font size=+3>W</font>RITING HTML WAS CREATED</b> to help teachers create learning resources that access information on the Internet. Here, you will be writing a lesson called <i>Volcano Web</i>. \\nHowever, this tutorial may be used by anyone who wants to create web pages. You can get a sense of the results by looking at our illustrious <A HREF=\"http://www.mcli.dist.maricopa.edu/cgi-bin/alumni.pl\">alumni</A> and <A HREF=\"http://www.mcli.dist.maricopa.edu/cgi-bin/kudos_tut.pl\">kudos or what people say</a> about the tutorial.\\n<p>\\nBy the time you have reached the end of this tutorial you will be able to construct a series of linked web pages for any subject that includes formatted text, pictures, and hypertext links to other web pages on the Internet. If you follow the steps for the Basic Level (lessons 1-14) you will develop a <A HREF=\"tut14_ex/index.html\">page about volcanoes</A> and if you go on to the Advanced Level (lessons 15-29), you will create an enhanced <a href=\"final/index.html\">volcano web site</a>. \\n<p>\\nFor faster performance, you can <A HREF=\"download.html\">download</A> an archive of all files used in this tutorial. Most of the lessons can be done off-line. \\n<p>\\nWriting HTML is also available in \\n<ul>\\n<li><A HREF=\"http://www.mcli.dist.maricopa.edu/tut_es/\">Spanish / Espa&ntilde;ol</A> (thanks to Arturo Garc&iacute;a Mart&iacute;n and Andr&eacute;s Valencia)\\n<li><a href=\"http://www.fvi.is/tut/\">Icelandic / &Iacute;slenska</a>  \"Forritun &iacute; HTML\" (thanks to Gudjon Olafsson)\\n<li><A HREF=\"http://learning.cnue-e.ac.kr/html/Tutorials/index.html\">Korean</A> <i>in progress</i> (Thanks to Dr. Byeong choon Lim, Department of Computer Education\\nChuncheon National University of Education)\\n</ul>\\n</td>\\n</tr>\\n\\n<tr>\\n<td valign=top align=right bgcolor=#66FF66 width=8%><H2>Why Create Web Pages?</h2>\\n<font color=#333333><tt>If you\\'ve come this far, you likely have an answer.</tt></font></td>\\n<td valign=top><b><font size=+3>T</font>HE WEB IS BECOMING AN INTEGRAL PART</b> \\nof our working (and playing) world. You cannot spit anymore these days without hitting a URL (if you do not know what a URL is, you will find out here). In a very short time span, the web has revolutionized the way we access information, education, business, entertainment. It has created industries where there were none before.\\n<p>\\nBeing able to develop information on the web might be a job skill, a class requirement, a business necessity, or a personal interest. Unlike any other previous medium, the ability to \"write\" HTML allows you to potentially connect with millions of other people, as your own self-publisher. \\n</td>\\n</tr>\\n\\n<tr>\\n<td valign=top align=right bgcolor=#CCFFCC width=8%><H2>Objectives</h2>\\n<font color=#333333><tt>This tutorial covers the steps for writing HTML files using illustrative examples for creating web pages.</tt></font></td>\\n<td valign=top><b><font size=+3>I</font>N THESE LESSONS YOU WILL:</b> \\n<ul>\\n<li> identify and use different HTML formatting codes.\\n<li> create and modify HTML documents using a simple text editor.\\n<li> write a series of web pages that present information, graphics, and provide hypertext links to other documents on the Internet.\\n</ul>\\nAnd maybe you will have some fun!\\n</td>\\n</tr>\\n\\n<tr>\\n<td valign=top align=right bgcolor=#66FF66 width=8%>\\n<H2>What<br>is<br>HTML?</h2>\\n<font color=#333333><tt><b>H</b>yper<b>T</b>ext <b>M</b>arkup <b>L</b>anguage</tt></font></td>\\n<td valign=top><b><font size=+3>P</font>UT MOST SIMPLY,</b>\\n<A HREF=\"http://www.w3.org/hypertext/WWW/MarkUp/MarkUp.html\"> HTML</A>,\\nis a format that tells a computer how to display a web page. The documents themselves are plain text files (ASCII) with special \"tags\" or codes that a web browser knows how to interpret and display on your screen. \\n<p>\\nThis tutorial teaches you how to create web pages the old-fashioned way -- by hand. There are  software \"tools\" that allow you to spin web pages without touching any HTML. But if you are serious about doing more than a page or two, we believe a grounding in the basics will greatly accelerate what you can do.\\n<p>\\nEverything you create in this tutorial is designed to run from any desktop computer; it does not depend on access to a web server or specialized computer programming.\\n</td>\\n</tr>\\n\\n<tr>\\n<td valign=top align=right bgcolor=#CCFFCC width=8%>\\n<H2>Getting Ready</H2>\\n<font color=#333333><tt>We will assume you have a basic knowledge of how to use your web browser menus, buttons, and hypertext links.</tt></font></td>\\n<td valign=top><b><font size=+3>Y</font>OU WILL ALSO NEED A TEXT EDITOR PROGRAM</b> capable of creating plain text files e.g. SimpleText for the Macintosh or NotePad for Windows. <B><I>We strongly urge that you use the most basic text editor while you learn HTML and then later you can explore HTML \"editors\"</I></B> If you use a word processor program then you <B>must</B> save your files as plain ASCII text format. You should also be familiar with switching between multiple applications as well as using the mouse to copy and paste selections of text. <p>\\nIf you <A HREF=\"download.html\">download</A> the tutorial files, you can do nearly all of the lessons off-line. \\n<p>\\nWe suggest that you proceed through the lessons in order, but at any time you can return to the index to jump to a different lesson. Within each lesson you can compare your work to a sample file for that lesson. Each lesson page has a link to a concise summary of the <A HREF=\"tags/index.html\">tags</A> as well as links to other <A HREF=\"ref.html\">reference</A> sites.\\n<p>\\nFor convention, all menu names and items will be shown in <b>bold</b> text. All text that you should enter from the keyboard will appear in <tt><font color=#000066>typewriter style.</font></tt>\\n<p>\\n</td>\\n</tr>\\n\\n<tr>\\n<td valign=top align=right bgcolor=#66FF66 width=8%>\\n<H2>Keep in Mind</H2>\\n<font color=#333333><tt>Some pointers to help you out</tt></font></td>\\n<td valign=top>\\n<ol type=a>\\n<li>Use the <b>Favorites</b> or <B>Bookmark</B> feature of your\\nweb browser to mark the lesson index page so you can easily navigate to other lessons.\\n<li>We\\'ve aimed to write instructions generic to  (almost) <b>any</b> web browser; sometimes\\nthe menu names or features may not match the web browser you are using. \\n<li>This tutorial <b>will</b> show you how to create web pages that can see outward to the world. It <B>will not</B> tell you how to let the world see them; to do this you need to locate an Internet Service Provider that provides web server space. Try <A HREF=\"http://thelist.internet.com/\">http://thelist.internet.com/</A> or <A HREF=\"http://www.webisplist.com/\">http://www.webisplist.com/</A>. Also, see the free web page hosting service from <A HREF=\"http://www.geocities.com/\">GeoCities</A> or the many others listed from <A HREF=\"http://dir.yahoo.com/Business_and_Economy/Companies/Internet_Services/Web_Services/Free_Web_Pages/\">Yahoo</A>.\\n<li>Creating pages is one thing, designing web sites is another. We cannot highly enough recommend the <A HREF=\"http://info.med.yale.edu/caim/manual/\">Yale C/AIM WWW Style Manual</A>. \\nSun Microsystem\\'s <A HREF=\"http://www.sun.com/styleguide/\">Guide to Web Style</A>, and the <A HREF=\"http://www.sev.com.au/webzone/design.htm\">Sevloid Guide to Web Design</A>. \\n<li>When you are ready for the big time, see web pages like you have never seen web pages at Dave Siegel\\'s <A HREF=\"http://www.dsiegel.com/\">Casbah</A> and <A HREF=\"http://www.highfive.com/\">High Five</A> sites. Trudge on over to his <A HREF=\"http://www.dsiegel.com/tips/index.html\">Web Wonk</A> to get the details. It will amaze you.\\n<li>Refer to the HTML <A HREF=\"tags/index.html\">tag summary page</A> as a reference. You can get to it by following the hypertext link at the top of every lesson page.\\n<li>If you are having trouble, see the Writing HTML <A HREF=\"faq.html\">FAQ</A> (Frequently Asked Questions) before writing us for help. We get lots and lots of e-mail. Too much.<br>\\n</ol>\\n</td>\\n</tr>\\n\\n<tr>\\n<td valign=top align=right bgcolor=#CCFFCC width=8%><H2>Who Did This?</h2>\\n<font color=#333333><tt>Roll the credits!</tt></font></td>\\n<td valign=top><b><font size=+3>T</font>HIS IS A PROJECT</b> of the <A HREF=\"http://www.mcli.dist.maricopa.edu/\">Maricopa Center for Learning and Instruction</A> (MCLI). Writing HTML was developed by <A HREF=\"http://www.mcli.dist.maricopa.edu/alan/\">Alan Levine</A>, instructional technologist at the <A HREF=\"http://www.maricopa.edu/\">Maricopa Community Colleges</A>. Our former intern, Tom Super, provided invaluable instructional design support. Many others have given helpful suggestions, corrected typos, and expressed their thanks!\\n<p>\\nOnce your web pages become available on the Internet, please list them\\non our <A HREF=\"http://www.mcli.dist.maricopa.edu/cgi-bin/alumni.pl\">Writing HTML Alumni</A> page using our <A HREF=\"alumni.html\">registration form.</A><br>\\n</td>\\n</tr>\\n\\n<tr>\\n<td valign=top align=right bgcolor=#66FF66 width=8%><H2>Time to Get Started!</H2></td>\\n<td valign=top><b><font size=+3>I</font>F YOU ARE READY,</b> go to the <A HREF=\"lessons.html\">index of lessons</A> or go directly to the <A HREF=\"tut0.html\">first lesson</A>.\\n<p><br>\\n<font size=+2><tt>h a p p y &nbsp; w e b b i n g</tt></font>\\n<p><br>\\nAnd have fun.\\n<br>\\n</td>\\n</tr>\\n</table>\\n<hr size=1 noshade><font face=\"verdana,helvetica\" size=-1><center>\\n<B>Writing HTML</B><br>\\n&copy;1994-1999 <A HREF=\"http://www.mcli.dist.maricopa.edu/\">\\nMaricopa Center for Learning and Instruction (MCLI)</A><br>\\n<A HREF=\"http://www.maricopa.edu/\">Maricopa Community Colleges</A><p>\\nThe Internet Connection at MCLI is \\n<a href=\"http://www.mcli.dist.maricopa.edu/alan/\">Alan Levine --}</a><br>\\nComments to <b><A HREF=\"mailto:levine@maricopa.edu?subject=Writing HTML\">levine@maricopa.edu</A></b>\\n</font>\\n\\n<p>\\n<tt>URL: http://www.mcli.dist.maricopa.edu/tut/</tt>\\n<p>\\n</body>\\n</html>\\n\\n\\n'\n"
          ]
        }
      ]
    },
    {
      "cell_type": "markdown",
      "metadata": {
        "id": "wAsh2vHr0nau"
      },
      "source": [
        "# **Example 2: Fixing Broken HTML**"
      ]
    },
    {
      "cell_type": "markdown",
      "metadata": {
        "id": "_SxQJZZO4mKH"
      },
      "source": [
        "This module imports `BeautifulSoup` from the `bs4` module. It then defines a string variable that contains broken HTML code. The string is converted into a BeautifulSoup object and then prettified using a parser."
      ]
    },
    {
      "cell_type": "code",
      "metadata": {
        "id": "25Kudwl20snp",
        "colab": {
          "base_uri": "https://localhost:8080/"
        },
        "outputId": "b18bd309-1a60-49e7-ae62-a9a019cad27b"
      },
      "source": [
        "from bs4 import BeautifulSoup\n",
        "\n",
        "# Define broken html as string.\n",
        "broken_html = \"<ul class=country><li>Area<li>Area<li>Population</ul>\"\n",
        "\n",
        "# Convert string to BeautifulSoup object.\n",
        "soup = BeautifulSoup(broken_html)\n",
        "\n",
        "# Correct formatting errors and then print.\n",
        "fixed_html = soup.prettify()\n",
        "print(fixed_html)"
      ],
      "execution_count": null,
      "outputs": [
        {
          "output_type": "stream",
          "name": "stdout",
          "text": [
            "<html>\n",
            " <body>\n",
            "  <ul class=\"country\">\n",
            "   <li>\n",
            "    Area\n",
            "   </li>\n",
            "   <li>\n",
            "    Area\n",
            "   </li>\n",
            "   <li>\n",
            "    Population\n",
            "   </li>\n",
            "  </ul>\n",
            " </body>\n",
            "</html>\n"
          ]
        }
      ]
    },
    {
      "cell_type": "markdown",
      "metadata": {
        "id": "poKSsr0c02d0"
      },
      "source": [
        "# **Example 3: Parsing HTML**"
      ]
    },
    {
      "cell_type": "markdown",
      "metadata": {
        "id": "NEAcd6cG42E-"
      },
      "source": [
        "This module imports urlopen from `urllib` and\n",
        "BeautifulSoup from `bs4`. It sends a get request to\n",
        "https://en.wikipedia.org/wiki/Richard_Thaler, extracts the HTML from the code returned, and then converts it to a `BeautifulSoup` object."
      ]
    },
    {
      "cell_type": "code",
      "metadata": {
        "id": "vZLXklb-07Uw",
        "colab": {
          "base_uri": "https://localhost:8080/"
        },
        "outputId": "2412a097-6b73-4156-a6dd-23e6656d7618"
      },
      "source": [
        "from bs4 import BeautifulSoup\n",
        "from urllib.request import urlopen\n",
        "\n",
        "# Define URL as string.\n",
        "url = \"https://en.wikipedia.org/wiki/Richard_Thaler\"\n",
        "\n",
        "# Send GET request and convert result to BeautifulSoup object.\n",
        "html = urlopen(url)\n",
        "soup = BeautifulSoup(html.read())\n",
        "\n",
        "# Print h1 header tag.\n",
        "print(soup.h1)\n",
        "\n",
        "# Print text attribute of h1 header.\n",
        "print(soup.h1.text)"
      ],
      "execution_count": null,
      "outputs": [
        {
          "output_type": "stream",
          "name": "stdout",
          "text": [
            "<h1 class=\"firstHeading mw-first-heading\" id=\"firstHeading\"><span class=\"mw-page-title-main\">Richard Thaler</span></h1>\n",
            "Richard Thaler\n"
          ]
        }
      ]
    },
    {
      "cell_type": "markdown",
      "metadata": {
        "id": "kk_Epwbv1DbP"
      },
      "source": [
        "# **Example 4: Handling Exceptions**"
      ]
    },
    {
      "cell_type": "markdown",
      "metadata": {
        "id": "CMDdwoM449zA"
      },
      "source": [
        "This module imports urlopen from urllib and\n",
        "BeautifulSoup from bs4. It sends a GET request to\n",
        "http://google.com/404 and receives a 404 error. It then pauses for 60 seconds and attempts the same GET request. If that fails again, it sends a GET request to a different url."
      ]
    },
    {
      "cell_type": "code",
      "metadata": {
        "id": "7uHrw3N11Gdt",
        "colab": {
          "base_uri": "https://localhost:8080/"
        },
        "outputId": "9be6588d-dba6-4adc-9e3d-c96d6748ae58"
      },
      "source": [
        "from bs4 import BeautifulSoup\n",
        "from urllib.request import urlopen\n",
        "from urllib.request import HTTPError\n",
        "import time\n",
        "\n",
        "# Define URLs as strings.\n",
        "url_0 = \"http://google.com/404\"\n",
        "url_1 = \"http://google.com\"\n",
        "\n",
        "# Use try-except block to handle exceptions.\n",
        "try:\n",
        "\thtml = urlopen(url_0)\n",
        "\tsoup = BeautifulSoup(html.read())\n",
        "except HTTPError as e:\n",
        "\tprint(e)\n",
        "\tif str(e).find('404')!=-1:\n",
        "\t\ttime.sleep(5)\n",
        "\t\ttry:\n",
        "\t\t\tprint(e)\n",
        "\t\t\thtml = urlopen(url_0)\n",
        "\t\t\tsoup = BeautifulSoup(html.read())\n",
        "\t\texcept HTTPError as e:\n",
        "\t\t\thtml = urlopen(url_1)\n",
        "\t\t\tsoup = BeautifulSoup(html.read())\n",
        "\t\t\tprint('Page found.')"
      ],
      "execution_count": null,
      "outputs": [
        {
          "output_type": "stream",
          "name": "stdout",
          "text": [
            "HTTP Error 404: Not Found\n",
            "HTTP Error 404: Not Found\n",
            "Page found.\n"
          ]
        }
      ]
    },
    {
      "cell_type": "markdown",
      "metadata": {
        "id": "9rAWpy8v1Kai"
      },
      "source": [
        "# **Example 5: Parsing HTML**"
      ]
    },
    {
      "cell_type": "markdown",
      "metadata": {
        "id": "qmb7WVPy5Ce-"
      },
      "source": [
        "This module imports urlopen from `urllib` and\n",
        "BeautifulSoup from `bs4`. It then sends a GET request to\n",
        "https://online.auktionsverket.com/ and converts the resulting HTML into a `BeautifulSoup` object. The rest of the file demonstrates basic navigational options for a `BeautifulSoup` parse."
      ]
    },
    {
      "cell_type": "code",
      "metadata": {
        "id": "lhOTSkG91M8z"
      },
      "source": [
        "from urllib.request import urlopen\n",
        "from bs4 import BeautifulSoup\n",
        "\n",
        "# Load and parse HTML from auction site.\n",
        "url = \"https://auctionet.com\"\n",
        "html = urlopen(url)\n",
        "soup = BeautifulSoup(html.read())"
      ],
      "execution_count": null,
      "outputs": []
    },
    {
      "cell_type": "code",
      "metadata": {
        "id": "7Y1fnNSj8mMr"
      },
      "source": [
        "# Access first title, paragraph, and link tag.\n",
        "print(soup.title)\n",
        "print(soup.title.name)\n",
        "print(soup.title.string)\n",
        "print(soup.title.parent.name)\n",
        "print(soup.p)\n",
        "print(soup.a)"
      ],
      "execution_count": null,
      "outputs": []
    },
    {
      "cell_type": "code",
      "metadata": {
        "id": "2qdU-d2w8mBw"
      },
      "source": [
        "# Find and print all links.\n",
        "soup.find_all('a')\n",
        "links = soup.find_all('a')\n",
        "for link in links[:5]:\n",
        "\tprint(link)"
      ],
      "execution_count": null,
      "outputs": []
    },
    {
      "cell_type": "markdown",
      "metadata": {
        "id": "TqaQfJK81SdJ"
      },
      "source": [
        "# **Example 6: Counting Words**"
      ]
    },
    {
      "cell_type": "markdown",
      "metadata": {
        "id": "awh70oEj5L8k"
      },
      "source": [
        "This example imports the Natural Language Toolkit (`nltk`) and the Reuters Corpus from `nltk.corpus`. It then loads an article about gold, performs both sentence and word tokenization on the text, and then constructs a frequency distribution from the words."
      ]
    },
    {
      "cell_type": "markdown",
      "metadata": {
        "id": "SCLOBkjBGEWk"
      },
      "source": [
        "#### **Install and download modules.**"
      ]
    },
    {
      "cell_type": "code",
      "metadata": {
        "id": "AFLuY8Id1XbF",
        "colab": {
          "base_uri": "https://localhost:8080/"
        },
        "outputId": "1a71066f-2069-4aac-c6c3-81838b157d03"
      },
      "source": [
        "# Install and import nltk (v3.5)\n",
        "!pip install nltk==3.5\n",
        "import nltk\n",
        "\n",
        "# Download popular submodules and corpuses.\n",
        "nltk.download('popular')\n",
        "nltk.download('reuters')"
      ],
      "execution_count": null,
      "outputs": [
        {
          "output_type": "stream",
          "name": "stdout",
          "text": [
            "Collecting nltk==3.5\n",
            "  Downloading nltk-3.5.zip (1.4 MB)\n",
            "\u001b[?25l     \u001b[90m━━━━━━━━━━━━━━━━━━━━━━━━━━━━━━━━━━━━━━━━\u001b[0m \u001b[32m0.0/1.4 MB\u001b[0m \u001b[31m?\u001b[0m eta \u001b[36m-:--:--\u001b[0m\r\u001b[2K     \u001b[91m━━━━\u001b[0m\u001b[91m╸\u001b[0m\u001b[90m━━━━━━━━━━━━━━━━━━━━━━━━━━━━━━━━━━━\u001b[0m \u001b[32m0.2/1.4 MB\u001b[0m \u001b[31m5.1 MB/s\u001b[0m eta \u001b[36m0:00:01\u001b[0m\r\u001b[2K     \u001b[91m━━━━━━━━━━━━━━━━━━━━━━━━━━━━━━━━━━━━━━━\u001b[0m\u001b[91m╸\u001b[0m \u001b[32m1.4/1.4 MB\u001b[0m \u001b[31m22.2 MB/s\u001b[0m eta \u001b[36m0:00:01\u001b[0m\r\u001b[2K     \u001b[90m━━━━━━━━━━━━━━━━━━━━━━━━━━━━━━━━━━━━━━━━\u001b[0m \u001b[32m1.4/1.4 MB\u001b[0m \u001b[31m18.5 MB/s\u001b[0m eta \u001b[36m0:00:00\u001b[0m\n",
            "\u001b[?25h  Preparing metadata (setup.py) ... \u001b[?25l\u001b[?25hdone\n",
            "Requirement already satisfied: click in /usr/local/lib/python3.10/dist-packages (from nltk==3.5) (8.1.7)\n",
            "Requirement already satisfied: joblib in /usr/local/lib/python3.10/dist-packages (from nltk==3.5) (1.3.2)\n",
            "Requirement already satisfied: regex in /usr/local/lib/python3.10/dist-packages (from nltk==3.5) (2023.6.3)\n",
            "Requirement already satisfied: tqdm in /usr/local/lib/python3.10/dist-packages (from nltk==3.5) (4.66.1)\n",
            "Building wheels for collected packages: nltk\n",
            "  Building wheel for nltk (setup.py) ... \u001b[?25l\u001b[?25hdone\n",
            "  Created wheel for nltk: filename=nltk-3.5-py3-none-any.whl size=1434679 sha256=8dde4cf3712bc016babec3d35c86f95d5528c3e13e4792b62a508fdcf5934752\n",
            "  Stored in directory: /root/.cache/pip/wheels/35/ab/82/f9667f6f884d272670a15382599a9c753a1dfdc83f7412e37d\n",
            "Successfully built nltk\n",
            "Installing collected packages: nltk\n",
            "  Attempting uninstall: nltk\n",
            "    Found existing installation: nltk 3.8.1\n",
            "    Uninstalling nltk-3.8.1:\n",
            "      Successfully uninstalled nltk-3.8.1\n",
            "Successfully installed nltk-3.5\n"
          ]
        },
        {
          "output_type": "stream",
          "name": "stderr",
          "text": [
            "[nltk_data] Downloading collection 'popular'\n",
            "[nltk_data]    | \n",
            "[nltk_data]    | Downloading package cmudict to /root/nltk_data...\n",
            "[nltk_data]    |   Unzipping corpora/cmudict.zip.\n",
            "[nltk_data]    | Downloading package gazetteers to /root/nltk_data...\n",
            "[nltk_data]    |   Unzipping corpora/gazetteers.zip.\n",
            "[nltk_data]    | Downloading package genesis to /root/nltk_data...\n",
            "[nltk_data]    |   Unzipping corpora/genesis.zip.\n",
            "[nltk_data]    | Downloading package gutenberg to /root/nltk_data...\n",
            "[nltk_data]    |   Unzipping corpora/gutenberg.zip.\n",
            "[nltk_data]    | Downloading package inaugural to /root/nltk_data...\n",
            "[nltk_data]    |   Unzipping corpora/inaugural.zip.\n",
            "[nltk_data]    | Downloading package movie_reviews to\n",
            "[nltk_data]    |     /root/nltk_data...\n",
            "[nltk_data]    |   Unzipping corpora/movie_reviews.zip.\n",
            "[nltk_data]    | Downloading package names to /root/nltk_data...\n",
            "[nltk_data]    |   Unzipping corpora/names.zip.\n",
            "[nltk_data]    | Downloading package shakespeare to /root/nltk_data...\n",
            "[nltk_data]    |   Unzipping corpora/shakespeare.zip.\n",
            "[nltk_data]    | Downloading package stopwords to /root/nltk_data...\n",
            "[nltk_data]    |   Unzipping corpora/stopwords.zip.\n",
            "[nltk_data]    | Downloading package treebank to /root/nltk_data...\n",
            "[nltk_data]    |   Unzipping corpora/treebank.zip.\n",
            "[nltk_data]    | Downloading package twitter_samples to\n",
            "[nltk_data]    |     /root/nltk_data...\n",
            "[nltk_data]    |   Unzipping corpora/twitter_samples.zip.\n",
            "[nltk_data]    | Downloading package omw to /root/nltk_data...\n",
            "[nltk_data]    | Downloading package omw-1.4 to /root/nltk_data...\n",
            "[nltk_data]    | Downloading package wordnet to /root/nltk_data...\n",
            "[nltk_data]    | Downloading package wordnet2021 to /root/nltk_data...\n",
            "[nltk_data]    | Downloading package wordnet31 to /root/nltk_data...\n",
            "[nltk_data]    | Downloading package wordnet_ic to /root/nltk_data...\n",
            "[nltk_data]    |   Unzipping corpora/wordnet_ic.zip.\n",
            "[nltk_data]    | Downloading package words to /root/nltk_data...\n",
            "[nltk_data]    |   Unzipping corpora/words.zip.\n",
            "[nltk_data]    | Downloading package maxent_ne_chunker to\n",
            "[nltk_data]    |     /root/nltk_data...\n",
            "[nltk_data]    |   Unzipping chunkers/maxent_ne_chunker.zip.\n",
            "[nltk_data]    | Downloading package punkt to /root/nltk_data...\n",
            "[nltk_data]    |   Unzipping tokenizers/punkt.zip.\n",
            "[nltk_data]    | Downloading package snowball_data to\n",
            "[nltk_data]    |     /root/nltk_data...\n",
            "[nltk_data]    | Downloading package averaged_perceptron_tagger to\n",
            "[nltk_data]    |     /root/nltk_data...\n",
            "[nltk_data]    |   Unzipping taggers/averaged_perceptron_tagger.zip.\n",
            "[nltk_data]    | \n",
            "[nltk_data]  Done downloading collection popular\n",
            "[nltk_data] Downloading package reuters to /root/nltk_data...\n"
          ]
        },
        {
          "output_type": "execute_result",
          "data": {
            "text/plain": [
              "True"
            ]
          },
          "metadata": {},
          "execution_count": 5
        }
      ]
    },
    {
      "cell_type": "markdown",
      "metadata": {
        "id": "-xUhl7NGGHS7"
      },
      "source": [
        "#### **Print article categories and topics.**"
      ]
    },
    {
      "cell_type": "code",
      "metadata": {
        "id": "116ir5Lf9Jq2"
      },
      "source": [
        "print(nltk.corpus.reuters.categories())"
      ],
      "execution_count": null,
      "outputs": []
    },
    {
      "cell_type": "code",
      "metadata": {
        "id": "ycyV5wNX9NLI"
      },
      "source": [
        "print(nltk.corpus.reuters.fileids(['gold']))"
      ],
      "execution_count": null,
      "outputs": []
    },
    {
      "cell_type": "markdown",
      "metadata": {
        "id": "513BU7bUGSvC"
      },
      "source": [
        "#### **Load and explore example article about gold.**"
      ]
    },
    {
      "cell_type": "code",
      "metadata": {
        "id": "9Ixu21ee9amz"
      },
      "source": [
        "# Load article.\n",
        "gold = nltk.corpus.reuters.raw(fileids='training/9799')\n",
        "\n",
        "# Print article length in characters.\n",
        "print(len(gold))\n",
        "\n",
        "# Print first 50 characters of article.\n",
        "print(gold[:50])"
      ],
      "execution_count": null,
      "outputs": []
    },
    {
      "cell_type": "markdown",
      "metadata": {
        "id": "7f3maU6lGf8i"
      },
      "source": [
        "#### **Tokenize data and explore tokens.**"
      ]
    },
    {
      "cell_type": "code",
      "metadata": {
        "id": "LZIY6JhuJy9D"
      },
      "source": [
        "# Tokenize sentences and print example sentence.\n",
        "goldSentences = nltk.sent_tokenize(gold)\n",
        "print(goldSentences[4])"
      ],
      "execution_count": null,
      "outputs": []
    },
    {
      "cell_type": "code",
      "metadata": {
        "id": "2rQE8u4I96ls"
      },
      "source": [
        "# Tokenize words.\n",
        "goldWords = nltk.word_tokenize(gold)\n",
        "\n",
        "# Print number of words and words 150-159.\n",
        "print(len(goldWords))\n",
        "print(goldWords[150:160])"
      ],
      "execution_count": null,
      "outputs": []
    },
    {
      "cell_type": "markdown",
      "metadata": {
        "id": "lrmCFOcoHCXX"
      },
      "source": [
        "#### **Count number of instances of \"rise\" and \"fall\" in text.**"
      ]
    },
    {
      "cell_type": "code",
      "metadata": {
        "id": "rS6kuA3c98ok"
      },
      "source": [
        "# Convert to lower case.\n",
        "goldWords = [w.lower() for w in goldWords]\n",
        "\n",
        "# Compute frequency distribution of words.\n",
        "fdist = nltk.FreqDist(goldWords)\n",
        "\n",
        "# Print frequencies for words in list.\n",
        "print('Rise: ' + str(fdist['rise']))\n",
        "print('Fall: ' + str(fdist['fall']))"
      ],
      "execution_count": null,
      "outputs": []
    },
    {
      "cell_type": "markdown",
      "metadata": {
        "id": "liXD6yfR1dxB"
      },
      "source": [
        "# **Example 7: Analyzing Central Bank Communication**"
      ]
    },
    {
      "cell_type": "markdown",
      "metadata": {
        "id": "HhP5z4NS5UWG"
      },
      "source": [
        "This example first imports urlopen from `urllib`, `BeautifulSoup` from `bs4`, and `nltk`. It uses urlopen and BeautifulSoup to download Janet Yellen's September 26, 2017 speech and parse the HTML content. It then extracts the text from all paragraph projects, cleans them, and computes the frequency with which the word inflation appears in the speech."
      ]
    },
    {
      "cell_type": "markdown",
      "metadata": {
        "id": "V_6bEX-GIE-H"
      },
      "source": [
        "#### **Import modules.**"
      ]
    },
    {
      "cell_type": "code",
      "metadata": {
        "id": "WJAkvOmZ-v3U"
      },
      "source": [
        "from urllib.request import Request, urlopen\n",
        "from bs4 import BeautifulSoup\n",
        "import nltk\n",
        "from nltk.corpus import stopwords"
      ],
      "execution_count": null,
      "outputs": []
    },
    {
      "cell_type": "markdown",
      "metadata": {
        "id": "96xn_J4sIHEF"
      },
      "source": [
        "#### **Download central bank speech and explore text.**"
      ]
    },
    {
      "cell_type": "code",
      "metadata": {
        "id": "9URb5y-g1h_c"
      },
      "source": [
        "# Define URL.\n",
        "url = \"https://www.federalreserve.gov/newsevents/speech/yellen20170926a.htm\"\n",
        "\n",
        "# Define user-agent string.\n",
        "headers = {\"User-Agent\": \"Mozilla/5.0 (Windows NT 10.0; Win64; x64) Chrome/90.0.4430.85\"}\n",
        "\n",
        "# Define contents of GET request.\n",
        "req = Request(url, headers=headers)\n",
        "\n",
        "# Send get request.\n",
        "html = urlopen(req)\n",
        "\n",
        "# Parse HTML.\n",
        "soup = BeautifulSoup(html.read())"
      ],
      "execution_count": null,
      "outputs": []
    },
    {
      "cell_type": "code",
      "source": [
        "soup"
      ],
      "metadata": {
        "colab": {
          "base_uri": "https://localhost:8080/"
        },
        "id": "P5SZ3aELTkpx",
        "outputId": "efd04dbf-fdd3-4a2d-b065-81b1465f8532"
      },
      "execution_count": null,
      "outputs": [
        {
          "output_type": "execute_result",
          "data": {
            "text/plain": [
              "<!DOCTYPE html>\n",
              "<html class=\"no-js\" lang=\"en\">\n",
              "<head>\n",
              "<meta charset=\"utf-8\"/>\n",
              "<meta content=\"IE=edge\" http-equiv=\"X-UA-Compatible\"/>\n",
              "<meta content=\"width=device-width, initial-scale=1.0, minimum-scale=1.0 maximum-scale=1.6, user-scalable=1\" name=\"viewport\"/>\n",
              "<meta content=\" MathJax.Hub.Config({extensions: [&quot;tex2jax.js&quot;],jax: [&quot;input/TeX&quot;, &quot;output/HTML-CSS&quot;],tex2jax: {inlineMath: [ ['$$','$$'], ['$$$','$$$'] ],displayMath: [ ['$$$$\" name=\"description\"/>\n",
              "<meta content=\"Board of Governors of the Federal Reserve System\" property=\"og:site_name\"/>\n",
              "<meta content=\"article\" property=\"og:type\"/>\n",
              "<meta content=\"Speech by Chair Yellen on inflation, uncertainty, and monetary policy\" property=\"og:title\"/>\n",
              "<meta content=\"https://www.federalreserve.gov/images/social-media/social-default-image-opengraph.jpg\" property=\"og:image\"/>\n",
              "<meta content=\"Board of Governors of the Federal Reserve System\" property=\"og:image:alt\"/>\n",
              "<meta content=\" MathJax.Hub.Config({extensions: [&quot;tex2jax.js&quot;],jax: [&quot;input/TeX&quot;, &quot;output/HTML-CSS&quot;],tex2jax: {inlineMath: [ ['$$','$$'], ['$$$','$$$'] ],displayMath: [ ['$$$$\" property=\"og:description\"/>\n",
              "<meta content=\"https://www.federalreserve.gov/newsevents/speech/yellen20170926a.htm\" property=\"og:url\"/>\n",
              "<meta content=\"summary\" name=\"twitter:card\"/>\n",
              "<meta content=\"Speech by Chair Yellen on inflation, uncertainty, and monetary policy\" name=\"twitter:title\"/>\n",
              "<meta content=\"https://www.federalreserve.gov/images/social-media/social-default-image-twitter.jpg\" name=\"twitter:image\"/>\n",
              "<meta content=\"Board of Governors of the Federal Reserve System\" name=\"twitter:image:alt\"/>\n",
              "<meta content=\" MathJax.Hub.Config({extensions: [&quot;tex2jax.js&quot;],jax: [&quot;input/TeX&quot;, &quot;output/HTML-CSS&quot;],tex2jax: {inlineMath: [ ['$$','$$'], ['$$$','$$$'] ],displayMath: [ ['$$$$\" name=\"twitter:description\"/>\n",
              "<title>Speech by Chair Yellen on inflation, uncertainty, and monetary policy - Federal Reserve Board</title>\n",
              "<link href=\"/css/bootstrap.css\" rel=\"stylesheet\" type=\"text/css\"/>\n",
              "<link href=\"/css/bluesteel-theme.css\" rel=\"stylesheet\" type=\"text/css\"/>\n",
              "<script src=\"/js/modernizr-latest.js\" type=\"text/javascript\"></script>\n",
              "<script src=\"/js/grunticon.loader.js\"></script>\n",
              "<script>\n",
              "            grunticon([\"/css/icons.data.svg.css\", \"/css/icons.data.png.css\", \"/css/icons.fallback.css\"]);\n",
              "        </script>\n",
              "<noscript>\n",
              "<link href=\"/css/icons.fallback.css\" rel=\"stylesheet\"/>\n",
              "</noscript>\n",
              "<script src=\"/js/angular.min.js\" type=\"text/javascript\"></script>\n",
              "<script src=\"/js/app.js\" type=\"text/javascript\"></script>\n",
              "<!-- For Linear Gradients in IE9 or greater -->\n",
              "<!--[if gte IE 9]>\n",
              "            <style type=\"text/css\">\n",
              "              .gradient {\n",
              "                 filter: none;\n",
              "              }\n",
              "            </style>\n",
              "        <![endif]-->\n",
              "</head>\n",
              "<body>\n",
              "<a class=\"globalskip\" href=\"#content\">Skip to main content</a>\n",
              "<nav class=\"nav-primary-mobile\" id=\"nav-primary-mobile\"></nav>\n",
              "<div class=\"t1_nav navbar navbar-default navbar-fixed-top\" role=\"navigation\">\n",
              "<div class=\"t1_container clearfix\">\n",
              "<a class=\"btn btn-default icon-FRB_logo-bw visible-xs-table-cell t1__btnlogo\" href=\"/default.htm\" id=\"logo\" role=\"button\"><span class=\"sr-only\">Back to Home</span></a>\n",
              "<a class=\"visible-xs-table-cell t1__banner\" href=\"/default.htm\" id=\"banner\" role=\"button\" title=\"Link to Home Page\">Board of Governors of the Federal Reserve System</a>\n",
              "<ul class=\"nav navbar-nav visible-md visible-lg t1_toplinks\">\n",
              "<li class=\"navbar-text navbar-text__social\">\n",
              "<span class=\"navbar-link\" tabindex=\"0\">Stay Connected</span>\n",
              "<ul class=\"nav navbar-nav t1_social social_nine\">\n",
              "<li class=\"social__item\">\n",
              "<a class=\"noIcon\" data-icon=\"facebook\" href=\"https://www.facebook.com/federalreserve\">\n",
              "<div class=\"icon-facebook-color icon icon__sm\"></div>\n",
              "<span class=\"sr-only\">Federal Reserve Facebook Page</span></a>\n",
              "</li>\n",
              "<li class=\"social__item\">\n",
              "<a class=\"noIcon\" data-icon=\"instagram\" href=\"https://www.instagram.com/federalreserveboard/\">\n",
              "<div class=\"icon-instagram icon icon__sm\"></div>\n",
              "<span class=\"sr-only\">Federal Reserve Instagram Page</span></a>\n",
              "</li>\n",
              "<li class=\"social__item\">\n",
              "<a class=\"noIcon\" data-icon=\"youtube\" href=\"https://www.youtube.com/federalreserve\">\n",
              "<div class=\"icon-youtube-color icon icon__sm\"></div>\n",
              "<span class=\"sr-only\">Federal Reserve YouTube Page</span></a>\n",
              "</li>\n",
              "<li class=\"social__item\">\n",
              "<a class=\"noIcon\" data-icon=\"flickr\" href=\"https://www.flickr.com/photos/federalreserve/\">\n",
              "<div class=\"icon-flickr-color icon icon__sm\"></div>\n",
              "<span class=\"sr-only\">Federal Reserve Flickr Page</span></a>\n",
              "</li>\n",
              "<li class=\"social__item\">\n",
              "<a class=\"noIcon\" data-icon=\"linkedin\" href=\"https://www.linkedin.com/company/federal-reserve-board\">\n",
              "<div class=\"icon-linkedin-color icon icon__sm\"></div>\n",
              "<span class=\"sr-only\">Federal Reserve LinkedIn Page</span></a>\n",
              "</li>\n",
              "<li class=\"social__item\">\n",
              "<a class=\"noIcon\" data-icon=\"threads\" href=\"https://www.threads.net/@federalreserveboard\">\n",
              "<div class=\"icon-threads icon icon__sm\"></div>\n",
              "<span class=\"sr-only\">Federal Reserve Threads Page</span></a>\n",
              "</li>\n",
              "<li class=\"social__item\">\n",
              "<a class=\"noIcon\" data-icon=\"twitter\" href=\"https://twitter.com/federalreserve\">\n",
              "<div class=\"icon-twitter-color icon icon__sm\"></div>\n",
              "<span class=\"sr-only\">Federal Reserve Twitter Page</span></a>\n",
              "</li>\n",
              "<li class=\"social__item\">\n",
              "<a class=\"noIcon\" data-icon=\"rss\" href=\"/feeds/feeds.htm\">\n",
              "<div class=\"icon-rss-color icon icon__sm\"></div>\n",
              "<span class=\"sr-only\">Subscribe to RSS</span></a>\n",
              "</li>\n",
              "<li class=\"social__item\">\n",
              "<a class=\"noIcon\" data-icon=\"email\" href=\"/subscribe.htm\">\n",
              "<div class=\"icon-email-color icon icon__sm\"></div>\n",
              "<span class=\"sr-only\">Subscribe to Email</span></a>\n",
              "</li>\n",
              "</ul>\n",
              "</li>\n",
              "<li class=\"navbar-text\">\n",
              "<a class=\"navbar-link\" href=\"/recentpostings.htm\">Recent Postings</a>\n",
              "</li>\n",
              "<li class=\"navbar-text\">\n",
              "<a class=\"navbar-link\" href=\"/newsevents/calendar.htm\">Calendar</a>\n",
              "</li>\n",
              "<li class=\"navbar-text\">\n",
              "<a class=\"navbar-link\" href=\"/publications.htm\">Publications</a>\n",
              "</li>\n",
              "<li class=\"navbar-text\">\n",
              "<a class=\"navbar-link\" href=\"/sitemap.htm\">Site Map</a>\n",
              "</li>\n",
              "<li class=\"navbar-text\">\n",
              "<a class=\"navbar-link\" href=\"/azindex.htm\">A-Z index</a>\n",
              "</li>\n",
              "<li class=\"navbar-text\">\n",
              "<a class=\"navbar-link\" href=\"/careers.htm\">Careers</a>\n",
              "</li>\n",
              "<li class=\"navbar-text\">\n",
              "<a class=\"navbar-link\" href=\"/faqs.htm\">FAQs</a>\n",
              "</li>\n",
              "<li class=\"navbar-text\">\n",
              "<a class=\"navbar-link\" href=\"/videos.htm\">Videos</a>\n",
              "</li>\n",
              "<li class=\"navbar-text\">\n",
              "<a class=\"navbar-link\" href=\"/aboutthefed/contact-us-topics.htm\">Contact</a>\n",
              "</li>\n",
              "</ul>\n",
              "<form action=\"//www.fedsearch.org/board_public/search\" class=\"nav navbar-form hidden-xs nav__search\" method=\"get\" role=\"search\">\n",
              "<div class=\"form-group input-group input-group-sm\">\n",
              "<label class=\"sr-only\" for=\"t1search\">Search</label>\n",
              "<input class=\"nav__input form-control\" id=\"t1search\" name=\"text\" placeholder=\"Search\" type=\"text\"/>\n",
              "<span class=\"input-group-btn\">\n",
              "<button class=\"nav__button btn btn-default\" id=\"headerTopLinksSearchFormSubmit\" name=\"Search\" type=\"submit\">\n",
              "<span class=\"sr-only\">Submit Search Button</span>\n",
              "<span class=\"icon-magnifying-glass icon icon__xs icon--right\"></span>\n",
              "</button>\n",
              "</span>\n",
              "</div>\n",
              "<div class=\"nav__advanced\">\n",
              "<a class=\"noIcon\" href=\"//www.fedsearch.org/board_public\">Advanced</a>\n",
              "</div>\n",
              "</form>\n",
              "<div class=\"btn-group visible-xs-table-cell visible-sm-table-cell t1__dropdown\">\n",
              "<span class=\"icon icon__md icon--right dropdown-toggle icon-options-nav\" data-toggle=\"dropdown\">\n",
              "<span class=\"sr-only\">Toggle Dropdown Menu</span>\n",
              "</span>\n",
              "</div>\n",
              "</div>\n",
              "</div>\n",
              "<header class=\"jumbotron hidden-xs\">\n",
              "<a class=\"jumbotron__link\" href=\"/default.htm\" title=\"Link to Home Page\">\n",
              "<div class=\"container-fluid\">\n",
              "<h1 class=\"jumbotron__heading\">Board of Governors of the Federal Reserve System\n",
              "            </h1>\n",
              "<p class=\"jumbotron__content\">\n",
              "<em>The Federal Reserve, the central bank of the United States, provides\n",
              "          the nation with a safe, flexible, and stable monetary and financial\n",
              "          system.</em>\n",
              "</p>\n",
              "</div>\n",
              "</a>\n",
              "</header>\n",
              "<div class=\"t2__offcanvas visible-xs-block\">\n",
              "<div class=\"navbar-header\">\n",
              "<button class=\"offcanvas__toggle icon-offcanvas-nav\" data-canvas=\"body\" data-target=\"#offcanvasT2Menu\" data-toggle=\"offcanvas\" type=\"button\">\n",
              "<span class=\"sr-only\">Main Menu Toggle Button</span>\n",
              "</button>\n",
              "<span class=\"navbar-brand offcanvas__title\">Sections</span>\n",
              "<button class=\"offcanvas__search icon-search-nav\" data-target=\"#navbar-collapse\" data-toggle=\"collapse\" type=\"button\">\n",
              "<span class=\"sr-only\">Search Toggle Button</span>\n",
              "</button>\n",
              "</div>\n",
              "<div class=\"navbar-collapse collapse mobile-form\" id=\"navbar-collapse\">\n",
              "<form action=\"//www.fedsearch.org/board_public/search\" class=\"navbar-form\" method=\"get\" role=\"search\">\n",
              "<div class=\"form-group input-group mobileSearch\">\n",
              "<label class=\"sr-only\" for=\"t2search\">Search</label>\n",
              "<input class=\"form-control\" id=\"t2search\" name=\"text\" placeholder=\"Search\" type=\"text\"/>\n",
              "<span class=\"input-group-btn\">\n",
              "<span class=\"sr-only\">Search Submit Button</span>\n",
              "<button class=\"btn btn-default\" type=\"submit\">Submit</button>\n",
              "</span>\n",
              "</div>\n",
              "</form>\n",
              "</div>\n",
              "</div>\n",
              "<nav class=\"nav-primary navbar hidden-xs nav-nine\" id=\"nav-primary\" role=\"navigation\">\n",
              "<ul class=\"nav navbar-nav\" role=\"menubar\">\n",
              "<li class=\"dropdown nav-about dropdown--3Col\" role=\"menuitem\">\n",
              "<a aria-haspopup=\"true\" class=\"sr-only-focusable\" href=\"/aboutthefed.htm\" id=\"aboutMenu\">About<br/>the Fed</a>\n",
              "<ul aria-labelledby=\"aboutMenu\" class=\"dropdown-menu sub-nav-group navmenu-nav\" role=\"menu\">\n",
              "<li>\n",
              "<div class=\"row\">\n",
              "<ul class=\"col-sm-4 list-unstyled\">\n",
              "<li>\n",
              "<a class=\"sr-only-focusable\" href=\"/aboutthefed/structure-federal-reserve-system.htm\">Structure of the Federal Reserve System</a>\n",
              "</li>\n",
              "<li>\n",
              "<a class=\"sr-only-focusable\" href=\"/aboutthefed/the-fed-explained.htm\">The Fed Explained</a>\n",
              "</li>\n",
              "<li>\n",
              "<a class=\"sr-only-focusable\" href=\"/aboutthefed/bios/board/default.htm\">Board Members</a>\n",
              "</li>\n",
              "<li>\n",
              "<a class=\"sr-only-focusable\" href=\"/aboutthefed/advisorydefault.htm\">Advisory Councils</a>\n",
              "</li>\n",
              "<li>\n",
              "<a class=\"sr-only-focusable\" href=\"/aboutthefed/federal-reserve-system.htm\">Federal Reserve Banks</a>\n",
              "</li>\n",
              "<li>\n",
              "<a class=\"sr-only-focusable\" href=\"/aboutthefed/directors/about.htm\">Federal Reserve Bank and Branch Directors</a>\n",
              "</li>\n",
              "<li>\n",
              "<a class=\"sr-only-focusable\" href=\"/aboutthefed/fract.htm\">Federal Reserve Act</a>\n",
              "</li>\n",
              "<li>\n",
              "<a class=\"sr-only-focusable\" href=\"/aboutthefed/currency.htm\">Currency</a>\n",
              "</li>\n",
              "</ul>\n",
              "<ul class=\"col-sm-4 list-unstyled\">\n",
              "<li>\n",
              "<a class=\"sr-only-focusable\" href=\"/aboutthefed/boardmeetings/meetingdates.htm\">Board Meetings</a>\n",
              "</li>\n",
              "<li>\n",
              "<a class=\"sr-only-focusable\" href=\"/aboutthefed/boardvotes.htm\">Board Votes</a>\n",
              "</li>\n",
              "<li>\n",
              "<a class=\"sr-only-focusable\" href=\"/aboutthefed/diversityinclusion.htm\">Diversity &amp; Inclusion</a>\n",
              "</li>\n",
              "<li>\n",
              "<a class=\"sr-only-focusable\" href=\"/careers.htm\">Careers</a>\n",
              "</li>\n",
              "<li>\n",
              "<a class=\"sr-only-focusable\" href=\"/aboutthefed/procurement/about.htm\">Do Business with the Board</a>\n",
              "</li>\n",
              "<li>\n",
              "<a class=\"sr-only-focusable\" href=\"/aboutthefed/k8.htm\">Holidays Observed - K.8</a>\n",
              "</li>\n",
              "<li>\n",
              "<a class=\"sr-only-focusable\" href=\"/aboutthefed/ethics-values.htm\">Ethics &amp; Values</a>\n",
              "</li>\n",
              "</ul>\n",
              "<ul class=\"col-sm-4 list-unstyled\">\n",
              "<li>\n",
              "<a class=\"sr-only-focusable\" href=\"/aboutthefed/contact-us-topics.htm\">Contact</a>\n",
              "</li>\n",
              "<li>\n",
              "<a class=\"sr-only-focusable\" href=\"/foia/about_foia.htm\">Requesting Information (FOIA)</a>\n",
              "</li>\n",
              "<li>\n",
              "<a class=\"sr-only-focusable\" href=\"/faqs.htm\">FAQs</a>\n",
              "</li>\n",
              "<li>\n",
              "<a class=\"sr-only-focusable\" href=\"/aboutthefed/educational-tools/default.htm\">Economic Education</a>\n",
              "</li>\n",
              "<li>\n",
              "<a class=\"sr-only-focusable\" href=\"/aboutthefed/fed-financial-statements.htm\">Fed Financial Statements</a>\n",
              "</li>\n",
              "<li>\n",
              "<a class=\"sr-only-focusable\" href=\"/aboutthefed/innovation.htm\">Innovation</a>\n",
              "</li>\n",
              "</ul>\n",
              "</div>\n",
              "</li>\n",
              "</ul>\n",
              "</li>\n",
              "<li class=\"dropdown nav-news dropdown--1Col\" role=\"menuitem\">\n",
              "<a aria-haspopup=\"true\" class=\"sr-only-focusable\" href=\"/newsevents.htm\" id=\"newsMenu\">News<br/>&amp; Events</a>\n",
              "<ul aria-labelledby=\"newsMenu\" class=\"dropdown-menu sub-nav-group navmenu-nav\" role=\"menu\">\n",
              "<li>\n",
              "<a class=\"sr-only-focusable\" href=\"/newsevents/pressreleases.htm\">Press Releases</a>\n",
              "</li>\n",
              "<li>\n",
              "<a class=\"sr-only-focusable\" href=\"/newsevents/speeches.htm\">Speeches</a>\n",
              "</li>\n",
              "<li>\n",
              "<a class=\"sr-only-focusable\" href=\"/newsevents/testimony.htm\">Testimony</a>\n",
              "</li>\n",
              "<li>\n",
              "<a class=\"sr-only-focusable\" href=\"/newsevents/calendar.htm\">Calendar</a>\n",
              "</li>\n",
              "<li>\n",
              "<a class=\"sr-only-focusable\" href=\"/videos.htm\">Videos</a>\n",
              "</li>\n",
              "<li>\n",
              "<a class=\"sr-only-focusable\" href=\"/photogallery.htm\">Photo Gallery</a>\n",
              "</li>\n",
              "<li>\n",
              "<a class=\"sr-only-focusable\" href=\"/conferences.htm\">Conferences</a>\n",
              "</li>\n",
              "</ul>\n",
              "</li>\n",
              "<li class=\"dropdown nav-monetary dropdown--2Col\" role=\"menuitem\">\n",
              "<a aria-haspopup=\"true\" class=\"sr-only-focusable\" href=\"/monetarypolicy.htm\" id=\"monetaryMenu\">Monetary<br/>Policy</a>\n",
              "<ul aria-labelledby=\"monetaryMenu\" class=\"dropdown-menu sub-nav-group navmenu-nav\" role=\"menu\">\n",
              "<li>\n",
              "<div class=\"row\">\n",
              "<ul class=\"col-sm-6 list-unstyled\">\n",
              "<li class=\"nav__header\">\n",
              "<p>\n",
              "<strong>Federal Open Market Committee</strong>\n",
              "</p>\n",
              "</li>\n",
              "<li>\n",
              "<a class=\"sr-only-focusable\" href=\"/monetarypolicy/fomc.htm\">About the FOMC</a>\n",
              "</li>\n",
              "<li>\n",
              "<a class=\"sr-only-focusable\" href=\"/monetarypolicy/fomccalendars.htm\">Meeting calendars and information</a>\n",
              "</li>\n",
              "<li>\n",
              "<a class=\"sr-only-focusable\" href=\"/monetarypolicy/fomc_historical.htm\">Transcripts and other historical materials</a>\n",
              "</li>\n",
              "<li>\n",
              "<a class=\"sr-only-focusable\" href=\"/monetarypolicy/fomc_projectionsfaqs.htm\">FAQs</a>\n",
              "</li>\n",
              "<li class=\"nav__header\">\n",
              "<p>\n",
              "<strong>Monetary Policy Principles and Practice</strong>\n",
              "</p>\n",
              "</li>\n",
              "<li>\n",
              "<a class=\"sr-only-focusable\" href=\"/monetarypolicy/monetary-policy-principles-and-practice.htm\">Notes</a>\n",
              "</li>\n",
              "</ul>\n",
              "<ul class=\"col-sm-6 list-unstyled\">\n",
              "<li class=\"nav__header\">\n",
              "<p>\n",
              "<strong>Policy Implementation</strong>\n",
              "</p>\n",
              "</li>\n",
              "<li>\n",
              "<a class=\"sr-only-focusable\" href=\"/monetarypolicy/policy-normalization.htm\">Policy Normalization</a>\n",
              "</li>\n",
              "<li>\n",
              "<a class=\"sr-only-focusable\" href=\"/monetarypolicy/policytools.htm\">Policy Tools</a>\n",
              "</li>\n",
              "<li class=\"nav__header\">\n",
              "<p>\n",
              "<strong>Reports</strong>\n",
              "</p>\n",
              "</li>\n",
              "<li>\n",
              "<a class=\"sr-only-focusable\" href=\"/monetarypolicy/publications/mpr_default.htm\">Monetary Policy Report</a>\n",
              "</li>\n",
              "<li>\n",
              "<a class=\"sr-only-focusable\" href=\"/monetarypolicy/publications/beige-book-default.htm\">Beige Book</a>\n",
              "</li>\n",
              "<li>\n",
              "<a class=\"sr-only-focusable\" href=\"/monetarypolicy/publications/balance-sheet-developments-report.htm\">Federal Reserve Balance Sheet Developments</a>\n",
              "</li>\n",
              "<li class=\"nav__header\">\n",
              "<p>\n",
              "<strong>Review of Monetary Policy Strategy, Tools, and Communications</strong>\n",
              "</p>\n",
              "</li>\n",
              "<li>\n",
              "<a class=\"sr-only-focusable\" href=\"/monetarypolicy/review-of-monetary-policy-strategy-tools-and-communications.htm\">Overview</a>\n",
              "</li>\n",
              "</ul>\n",
              "</div>\n",
              "</li>\n",
              "</ul>\n",
              "</li>\n",
              "<li class=\"dropdown nav-supervision dropdown--fw\" role=\"menuitem\">\n",
              "<a aria-haspopup=\"true\" class=\"sr-only-focusable\" href=\"/supervisionreg.htm\" id=\"supervisionMenu\">Supervision<br/>&amp; Regulation</a>\n",
              "<ul aria-labelledby=\"supervisionMenu\" class=\"dropdown-menu sub-nav-group navmenu-nav\" role=\"menu\">\n",
              "<li>\n",
              "<div class=\"row\">\n",
              "<ul class=\"col-sm-3 col-nav list-unstyled\">\n",
              "<li class=\"nav__header\">\n",
              "<p>\n",
              "<strong>Institution Supervision</strong>\n",
              "</p>\n",
              "</li>\n",
              "<li>\n",
              "<a class=\"sr-only-focusable\" href=\"/supervisionreg/community-and-regional-financial-institutions.htm\">Community &amp; Regional Financial Institutions</a>\n",
              "</li>\n",
              "<li>\n",
              "<a class=\"sr-only-focusable\" href=\"/supervisionreg/large-financial-institutions.htm\">Large Financial Institutions</a>\n",
              "</li>\n",
              "<li>\n",
              "<a class=\"sr-only-focusable\" href=\"/supervisionreg/foreign-banking-organizations.htm\">Foreign Banking Organizations</a>\n",
              "</li>\n",
              "<li>\n",
              "<a class=\"sr-only-focusable\" href=\"/supervisionreg/financial-market-utility-supervision.htm\">Financial Market Utilities</a>\n",
              "</li>\n",
              "<li>\n",
              "<a class=\"sr-only-focusable\" href=\"/supervisionreg/consumer-compliance.htm\">Consumer Compliance</a>\n",
              "</li>\n",
              "<li class=\"nav__header\">\n",
              "<p>\n",
              "<strong>Reports</strong>\n",
              "</p>\n",
              "</li>\n",
              "<li>\n",
              "<a class=\"sr-only-focusable\" href=\"/publications/supervision-and-regulation-report.htm\">Federal Reserve Supervision and Regulation Report</a>\n",
              "</li>\n",
              "</ul>\n",
              "<ul class=\"col-sm-3 list-unstyled col-nav\">\n",
              "<li class=\"nav__header\">\n",
              "<p>\n",
              "<strong>Reporting Forms</strong>\n",
              "</p>\n",
              "</li>\n",
              "<li>\n",
              "<a class=\"sr-only-focusable\" href=\"/apps/reportingforms\">All Reporting Forms</a>\n",
              "</li>\n",
              "<li>\n",
              "<a class=\"sr-only-focusable\" href=\"/supervisionreg/reporting-forms-whats-new.htm\">Recent Updates</a>\n",
              "</li>\n",
              "<li>\n",
              "<a class=\"sr-only-focusable\" href=\"/apps/reportingforms/home/review\">Information collections under review</a>\n",
              "</li>\n",
              "<li>\n",
              "<a class=\"sr-only-focusable\" href='/apps/ReportingForms/?reportTypesIdsJson=[\"1\"]'>Financial Statements</a>\n",
              "</li>\n",
              "<li>\n",
              "<a class=\"sr-only-focusable\" href='/apps/ReportingForms/?reportTypesIdsJson=[\"2\"]'>Applications/structure change</a>\n",
              "</li>\n",
              "<li>\n",
              "<a class=\"sr-only-focusable\" href='/apps/ReportingForms/?reportTypesIdsJson=[\"3\"]'>Federal Financial Institutions Examination Council (FFIEC)</a>\n",
              "</li>\n",
              "<li>\n",
              "<a class=\"sr-only-focusable\" href='/apps/ReportingForms/?reportTypesIdsJson=[\"8\"]'>Municipal &amp; Government Securities</a>\n",
              "</li>\n",
              "</ul>\n",
              "<ul class=\"col-sm-3 list-unstyled col-nav\">\n",
              "<li class=\"nav__header\">\n",
              "<p>\n",
              "<strong>Supervision &amp; Regulation Letters</strong>\n",
              "</p>\n",
              "</li>\n",
              "<li>\n",
              "<a class=\"sr-only-focusable\" href=\"/supervisionreg/srletters/srletters.htm\">By Year</a>\n",
              "</li>\n",
              "<li>\n",
              "<a class=\"sr-only-focusable\" href=\"/supervisionreg/topics/topics.htm\">By Topic</a>\n",
              "</li>\n",
              "<li class=\"nav__header\">\n",
              "<p>\n",
              "<strong>Banking Applications &amp; Legal Developments</strong>\n",
              "</p>\n",
              "</li>\n",
              "<li>\n",
              "<a class=\"sr-only-focusable\" href=\"/supervisionreg/application-process.htm\">Application Process</a>\n",
              "</li>\n",
              "<li>\n",
              "<a class=\"sr-only-focusable\" href=\"/supervisionreg/board-and-reserve-bank-actions.htm\">Board &amp; Reserve Bank Action</a>\n",
              "</li>\n",
              "<li>\n",
              "<a class=\"sr-only-focusable\" href=\"/supervisionreg/legal-developments.htm\">Enforcement Actions &amp; Legal Developments</a>\n",
              "</li>\n",
              "</ul>\n",
              "<ul class=\"col-sm-3 list-unstyled col-nav\">\n",
              "<li class=\"nav__header\">\n",
              "<p>\n",
              "<strong>Regulatory Resources</strong>\n",
              "</p>\n",
              "</li>\n",
              "<li>\n",
              "<a class=\"sr-only-focusable\" href=\"/supervisionreg/reglisting.htm\">Regulations</a>\n",
              "</li>\n",
              "<li>\n",
              "<a class=\"sr-only-focusable\" href=\"/publications/supmanual.htm\">Manuals</a>\n",
              "</li>\n",
              "<li>\n",
              "<a class=\"sr-only-focusable\" href=\"/supervisionreg/basel/basel-default.htm\">Basel Regulatory Framework</a>\n",
              "</li>\n",
              "<li>\n",
              "<a class=\"sr-only-focusable\" href=\"/supervisionreg/volcker-rule.htm\">Volcker Rule</a>\n",
              "</li>\n",
              "<li>\n",
              "<a class=\"sr-only-focusable\" href=\"/supervisionreg/training-and-assistance-landing.htm\">Education, Training, and Assistance</a>\n",
              "</li>\n",
              "</ul>\n",
              "<ul class=\"col-sm-3 list-unstyled col-nav\">\n",
              "<li class=\"nav__header\">\n",
              "<p>\n",
              "<strong>Banking &amp; Data Structure</strong>\n",
              "</p>\n",
              "</li>\n",
              "<li>\n",
              "<a class=\"sr-only-focusable\" href=\"/apps/reportforms/insider.aspx\">Beneficial Ownership reports</a>\n",
              "</li>\n",
              "<li>\n",
              "<a class=\"sr-only-focusable\" href=\"/releases/lbr/\">Large Commercial Banks</a>\n",
              "</li>\n",
              "<li>\n",
              "<a class=\"sr-only-focusable\" href=\"/releases/iba/\">U.S. Offices of Foreign Entities</a>\n",
              "</li>\n",
              "<li>\n",
              "<a class=\"sr-only-focusable\" href=\"/supervisionreg/fhc.htm\">Financial Holding Companies</a>\n",
              "</li>\n",
              "<li>\n",
              "<a class=\"sr-only-focusable\" href=\"/supervisionreg/isb-default.htm\">Interstate Branching</a>\n",
              "</li>\n",
              "<li>\n",
              "<a class=\"sr-only-focusable\" href=\"/supervisionreg/suds.htm\">Securities Underwriting &amp; Dealing Subsidiaries</a>\n",
              "</li>\n",
              "<li>\n",
              "<a class=\"sr-only-focusable\" href=\"/supervisionreg/minority-depository-institutions.htm\">Minority Depository Institutions</a>\n",
              "</li>\n",
              "</ul>\n",
              "</div>\n",
              "</li>\n",
              "</ul>\n",
              "</li>\n",
              "<li class=\"dropdown nav-stability dropdown--2Col\" role=\"menuitem\">\n",
              "<a aria-haspopup=\"true\" class=\"sr-only-focusable\" href=\"/financial-stability.htm\" id=\"stabilityMenu\">Financial<br/>Stability</a>\n",
              "<ul aria-labelledby=\"stabilityMenu\" class=\"dropdown-menu sub-nav-group navmenu-nav\" role=\"menu\">\n",
              "<div class=\"row\">\n",
              "<ul class=\"col-sm-6 list-unstyled\">\n",
              "<li class=\"nav__header\">\n",
              "<p>\n",
              "<strong>Financial Stability Assessments </strong>\n",
              "</p>\n",
              "</li>\n",
              "<li>\n",
              "<a class=\"sr-only-focusable\" href=\"/financial-stability/what-is-financial-stability.htm\">About Financial Stability</a>\n",
              "</li>\n",
              "<li>\n",
              "<a class=\"sr-only-focusable\" href=\"/financial-stability/types-of-financial-system-vulnerabilities-and-risks.htm\">Types of Financial System Vulnerabilities &amp; Risks</a>\n",
              "</li>\n",
              "<li>\n",
              "<a class=\"sr-only-focusable\" href=\"/financial-stability/monitoring-risk-across-the-financial-system.htm\">Monitoring Risk Across the Financial System</a>\n",
              "</li>\n",
              "<li>\n",
              "<a class=\"sr-only-focusable\" href=\"/financial-stability/proactive-monitoring-of-markets-and-institutions.htm\">Proactive Monitoring of Markets &amp; Institutions</a>\n",
              "</li>\n",
              "<li>\n",
              "<a class=\"sr-only-focusable\" href=\"/financial-stability/financial-stability-and-stress-testing.htm\">Financial Stability &amp; Stress Testing</a>\n",
              "</li>\n",
              "</ul>\n",
              "<ul class=\"col-sm-6 list-unstyled\">\n",
              "<li class=\"nav__header\">\n",
              "<p>\n",
              "<strong>Financial Stability Coordination &amp; Actions</strong>\n",
              "</p>\n",
              "</li>\n",
              "<li>\n",
              "<a class=\"sr-only-focusable\" href=\"/financial-stability/responding-to-financial-system-emergencies.htm\">Responding to Financial System Emergencies</a>\n",
              "</li>\n",
              "<li>\n",
              "<a class=\"sr-only-focusable\" href=\"/financial-stability/cooperation-on-financial-stability.htm\">Cooperation on Financial Stability</a>\n",
              "</li>\n",
              "<li class=\"nav__header\">\n",
              "<p>\n",
              "<strong>Reports</strong>\n",
              "</p>\n",
              "</li>\n",
              "<li>\n",
              "<a class=\"sr-only-focusable\" href=\"/publications/financial-stability-report.htm\">Financial Stability Report</a>\n",
              "</li>\n",
              "</ul>\n",
              "</div>\n",
              "</ul>\n",
              "</li>\n",
              "<li class=\"dropdown nav-payment dropdown--fw\" role=\"menuitem\">\n",
              "<a aria-haspopup=\"true\" class=\"sr-only-focusable\" href=\"/paymentsystems.htm\" id=\"paymentMenu\">Payment<br/>Systems</a>\n",
              "<ul aria-labelledby=\"paymentMenu\" class=\"dropdown-menu sub-nav-group navmenu-nav\" role=\"menu\">\n",
              "<li>\n",
              "<div class=\"row\">\n",
              "<ul class=\"col-sm-3 col-nav list-unstyled\">\n",
              "<li class=\"nav__header\">\n",
              "<p>\n",
              "<strong>Regulations &amp; Statutes</strong>\n",
              "</p>\n",
              "</li>\n",
              "<li>\n",
              "<a class=\"sr-only-focusable\" href=\"/paymentsystems/regcc-about.htm\">Regulation CC (Availability of Funds and Collection of Checks)</a>\n",
              "</li>\n",
              "<li>\n",
              "<a class=\"sr-only-focusable\" href=\"/paymentsystems/regii-about.htm\">Regulation II (Debit Card Interchange Fees and Routing)</a>\n",
              "</li>\n",
              "<li>\n",
              "<a class=\"sr-only-focusable\" href=\"/paymentsystems/reghh-about.htm\">Regulation HH (Financial Market Utilities)</a>\n",
              "</li>\n",
              "<li>\n",
              "<a class=\"sr-only-focusable\" href=\"/paymentsystems/other-regulations.htm\">Other Regulations and Statutes</a>\n",
              "</li>\n",
              "</ul>\n",
              "<ul class=\"col-sm-3 list-unstyled col-nav\">\n",
              "<li class=\"nav__header\">\n",
              "<p>\n",
              "<strong>Payment Policies</strong>\n",
              "</p>\n",
              "</li>\n",
              "<li>\n",
              "<a class=\"sr-only-focusable\" href=\"/paymentsystems/pfs_about.htm\">Federal Reserve's Key Policies for the Provision of Financial Services</a>\n",
              "</li>\n",
              "<li>\n",
              "<a class=\"sr-only-focusable\" href=\"/paymentsystems/joint_requests.htm\">Guidelines for Evaluating Joint Account Requests</a>\n",
              "</li>\n",
              "<li>\n",
              "<a class=\"sr-only-focusable\" href=\"/paymentsystems/oo_about.htm\">Overnight Overdrafts</a>\n",
              "</li>\n",
              "<li>\n",
              "<a class=\"sr-only-focusable\" href=\"/paymentsystems/psr_about.htm\">Payment System Risk</a>\n",
              "</li>\n",
              "<li>\n",
              "<a class=\"sr-only-focusable\" href=\"/paymentsystems/telecomm.htm\">Sponsorship for Priority Telecommunication Services</a>\n",
              "</li>\n",
              "</ul>\n",
              "<ul class=\"col-sm-3 list-unstyled col-nav\">\n",
              "<li class=\"nav__header\">\n",
              "<p>\n",
              "<strong>Reserve Bank Payment Services &amp; Data</strong>\n",
              "</p>\n",
              "</li>\n",
              "<li>\n",
              "<a class=\"sr-only-focusable\" href=\"/paymentsystems/fedach_about.htm\">Automated Clearinghouse Services</a>\n",
              "</li>\n",
              "<li>\n",
              "<a class=\"sr-only-focusable\" href=\"/paymentsystems/check_about.htm\">Check Services</a>\n",
              "</li>\n",
              "<li>\n",
              "<a class=\"sr-only-focusable\" href=\"/paymentsystems/coin_about.htm\">Currency and Coin Services</a>\n",
              "</li>\n",
              "<li>\n",
              "<a class=\"sr-only-focusable\" href=\"/paymentsystems/psr_data.htm\">Daylight Overdrafts and Fees</a>\n",
              "</li>\n",
              "<li>\n",
              "<a class=\"sr-only-focusable\" href=\"/paymentsystems/fednow_about.htm\">FedNow<sup>®</sup> Service</a>\n",
              "</li>\n",
              "<li>\n",
              "<a class=\"sr-only-focusable\" href=\"/paymentsystems/fedfunds_about.htm\">Fedwire Funds Services</a>\n",
              "</li>\n",
              "<li>\n",
              "<a class=\"sr-only-focusable\" href=\"/paymentsystems/fedsecs_about.htm\">Fedwire Securities Services</a>\n",
              "</li>\n",
              "<li>\n",
              "<a class=\"sr-only-focusable\" href=\"/paymentsystems/fisagy_about.htm\">Fiscal Agency Services</a>\n",
              "</li>\n",
              "<li>\n",
              "<a class=\"sr-only-focusable\" href=\"/paymentsystems/master-account-and-services-database-about.htm\">Master Account and Services Database</a>\n",
              "</li>\n",
              "<li>\n",
              "<a class=\"sr-only-focusable\" href=\"/paymentsystems/natl_about.htm\">National Settlement Service</a>\n",
              "</li>\n",
              "</ul>\n",
              "<ul class=\"col-sm-3 list-unstyled col-nav\">\n",
              "<li class=\"nav__header\">\n",
              "<p>\n",
              "<strong>Financial Market Utilities &amp; Infrastructures</strong>\n",
              "</p>\n",
              "</li>\n",
              "<li>\n",
              "<a class=\"sr-only-focusable\" href=\"/paymentsystems/over_about.htm\">Supervision &amp; Oversight of Financial Market Infrastructures</a>\n",
              "</li>\n",
              "<li>\n",
              "<a class=\"sr-only-focusable\" href=\"/paymentsystems/designated_fmu_about.htm\">Designated Financial Market Utilities</a>\n",
              "</li>\n",
              "<li>\n",
              "<a class=\"sr-only-focusable\" href=\"/paymentsystems/int_standards.htm\">International Standards for Financial Market Infrastructures</a>\n",
              "</li>\n",
              "</ul>\n",
              "<ul class=\"col-sm-3 list-unstyled col-nav\">\n",
              "<li class=\"nav__header\">\n",
              "<p>\n",
              "<strong>Research, Committees, and Forums</strong>\n",
              "</p>\n",
              "</li>\n",
              "<li>\n",
              "<a class=\"sr-only-focusable\" href=\"/paymentsystems/payres_about.htm\">Payment Research</a>\n",
              "</li>\n",
              "<li>\n",
              "<a class=\"sr-only-focusable\" href=\"/paymentsystems/fr-payments-study.htm\">Federal Reserve Payments Study (FRPS)</a>\n",
              "</li>\n",
              "<li>\n",
              "<a class=\"sr-only-focusable\" href=\"/paymentsystems/pspa_committee.htm\">Payments System Policy Advisory Committee</a>\n",
              "</li>\n",
              "<li>\n",
              "<a class=\"sr-only-focusable\" href=\"/paymentsystems/forums.htm\">Forums</a>\n",
              "</li>\n",
              "</ul>\n",
              "</div>\n",
              "</li>\n",
              "</ul>\n",
              "</li>\n",
              "<li class=\"dropdown nav-econ dropdown--right dropdown--2Col\" role=\"menuitem\">\n",
              "<a aria-haspopup=\"true\" class=\"sr-only-focusable\" href=\"/econres.htm\" id=\"econMenu\">Economic<br/>Research</a>\n",
              "<ul aria-labelledby=\"econMenu\" class=\"dropdown-menu sub-nav-group navmenu-nav\" role=\"menu\">\n",
              "<li>\n",
              "<div class=\"row\">\n",
              "<ul class=\"col-sm-6 list-unstyled\">\n",
              "<li>\n",
              "<a class=\"sr-only-focusable\" href=\"/econres/theeconomists.htm\">Meet the Economists</a>\n",
              "</li>\n",
              "<li class=\"nav__header\">\n",
              "<p>\n",
              "<strong>Working Papers and Notes</strong>\n",
              "</p>\n",
              "</li>\n",
              "<li>\n",
              "<a class=\"sr-only-focusable\" href=\"/econres/feds/index.htm\">Finance and Economics Discussion Series (FEDS)</a>\n",
              "</li>\n",
              "<li>\n",
              "<a class=\"sr-only-focusable\" href=\"/econres/notes/feds-notes/default.htm\">FEDS Notes</a>\n",
              "</li>\n",
              "<li>\n",
              "<a class=\"sr-only-focusable\" href=\"/econres/ifdp/index.htm\">International Finance Discussion Papers (IFDP)</a>\n",
              "</li>\n",
              "</ul>\n",
              "<ul class=\"col-sm-6 list-unstyled\">\n",
              "<li class=\"nav__header\">\n",
              "<p>\n",
              "<strong>Data, Models and Tools</strong>\n",
              "</p>\n",
              "</li>\n",
              "<li>\n",
              "<a class=\"sr-only-focusable\" href=\"/econres/economic-research-data.htm\">Economic Research Data</a>\n",
              "</li>\n",
              "<li>\n",
              "<a class=\"sr-only-focusable\" href=\"/econres/us-models-about.htm\">FRB/US Model</a>\n",
              "</li>\n",
              "<li>\n",
              "<a class=\"sr-only-focusable\" href=\"/econres/edo-models-about.htm\">Estimated Dynamic Optimization (EDO) Model</a>\n",
              "</li>\n",
              "<li>\n",
              "<a class=\"sr-only-focusable\" href=\"/econres/scfindex.htm\">Survey of Consumer Finances (SCF)</a>\n",
              "</li>\n",
              "</ul>\n",
              "</div>\n",
              "</li>\n",
              "</ul>\n",
              "</li>\n",
              "<li class=\"dropdown nav-data dropdown--right dropdown--fw\" role=\"menuitem\">\n",
              "<a aria-haspopup=\"true\" class=\"sr-only-focusable\" href=\"/data.htm\" id=\"dataMenu\">Data</a>\n",
              "<ul aria-labelledby=\"dataMenu\" class=\"dropdown-menu sub-nav-group navmenu-nav\" role=\"menu\">\n",
              "<li>\n",
              "<div class=\"row\">\n",
              "<ul class=\"col-sm-3 col-nav list-unstyled\">\n",
              "<li>\n",
              "<a class=\"sr-only-focusable\" href=\"/datadownload\"><span class=\"icon icon-ddp icon__sm\"></span>Data Download Program</a>\n",
              "</li>\n",
              "<li class=\"nav__header\">\n",
              "<p>\n",
              "<strong>Bank Assets and Liabilities</strong>\n",
              "</p>\n",
              "</li>\n",
              "<li>\n",
              "<a class=\"sr-only-focusable\" href=\"/releases/h3/current/default.htm\">Aggregate Reserves of Depository Institutions and the Monetary Base - H.3</a>\n",
              "</li>\n",
              "<li>\n",
              "<a class=\"sr-only-focusable\" href=\"/releases/h8/current/default.htm\">Assets and Liabilities of Commercial Banks in the U.S. - H.8</a>\n",
              "</li>\n",
              "<li>\n",
              "<a class=\"sr-only-focusable\" href=\"/data/assetliab/current.htm\">Assets and Liabilities of U.S. Branches and Agencies of Foreign Banks</a>\n",
              "</li>\n",
              "<li>\n",
              "<a class=\"sr-only-focusable\" href=\"/releases/chargeoff/\">Charge-Off and Delinquency Rates on Loans and Leases at Commercial Banks</a>\n",
              "</li>\n",
              "<li>\n",
              "<a class=\"sr-only-focusable\" href=\"/data/sfos/sfos.htm\">Senior Financial Officer Survey</a>\n",
              "</li>\n",
              "<li>\n",
              "<a class=\"sr-only-focusable\" href=\"/data/sloos.htm\">Senior Loan Officer Opinion Survey on Bank Lending Practices</a>\n",
              "</li>\n",
              "</ul>\n",
              "<ul class=\"col-sm-3 list-unstyled col-nav\">\n",
              "<li class=\"nav__header\">\n",
              "<p>\n",
              "<strong>Bank Structure Data</strong>\n",
              "</p>\n",
              "</li>\n",
              "<li>\n",
              "<a class=\"sr-only-focusable\" href=\"/releases/lbr/\">Large Commercial Banks</a>\n",
              "</li>\n",
              "<li>\n",
              "<a class=\"sr-only-focusable\" href=\"/supervisionreg/minority-depository-institutions.htm\">Minority Depository Institutions</a>\n",
              "</li>\n",
              "<li>\n",
              "<a class=\"sr-only-focusable\" href=\"/releases/iba/default.htm\">Structure and Share Data for the U.S. Offices of Foreign Banks</a>\n",
              "</li>\n",
              "<li class=\"nav__header\">\n",
              "<p>\n",
              "<strong>Business Finance</strong>\n",
              "</p>\n",
              "</li>\n",
              "<li>\n",
              "<a class=\"sr-only-focusable\" href=\"/releases/cp/\">Commercial Paper</a>\n",
              "</li>\n",
              "<li>\n",
              "<a class=\"sr-only-focusable\" href=\"/releases/g20/current/default.htm\">Finance Companies - G.20</a>\n",
              "</li>\n",
              "<li>\n",
              "<a class=\"sr-only-focusable\" href=\"/data/govsecure/current.htm\">New Security Issues, State and Local Governments</a>\n",
              "</li>\n",
              "<li>\n",
              "<a class=\"sr-only-focusable\" href=\"/data/corpsecure/current.htm\">New Security Issues, U.S. Corporations</a>\n",
              "</li>\n",
              "<li class=\"nav__header\">\n",
              "<p>\n",
              "<strong>Dealer Financing Terms</strong>\n",
              "</p>\n",
              "</li>\n",
              "<li>\n",
              "<a class=\"sr-only-focusable\" href=\"/data/scoos.htm\">Senior Credit Officer Opinion Survey on Dealer Financing Terms</a>\n",
              "</li>\n",
              "</ul>\n",
              "<ul class=\"col-sm-3 list-unstyled col-nav\">\n",
              "<li class=\"nav__header\">\n",
              "<p>\n",
              "<strong>Exchange Rates and International Data</strong>\n",
              "</p>\n",
              "</li>\n",
              "<li>\n",
              "<a class=\"sr-only-focusable\" href=\"/releases/h10/current/\">Foreign Exchange Rates - H.10/G.5</a>\n",
              "</li>\n",
              "<li>\n",
              "<a class=\"sr-only-focusable\" href=\"/data/intlsumm/current.htm\">International Summary Statistics</a>\n",
              "</li>\n",
              "<li>\n",
              "<a class=\"sr-only-focusable\" href=\"/data/secholdtrans/current.htm\">Securities Holdings and Transactions</a>\n",
              "</li>\n",
              "<li>\n",
              "<a class=\"sr-only-focusable\" href=\"/data/statbanksus/current.htm\">Statistics Reported by Banks and Other Financial Firms in the United States</a>\n",
              "</li>\n",
              "<li>\n",
              "<a class=\"sr-only-focusable\" href=\"/releases/iba/default.htm\">Structure and Share Data for U.S. Offices of Foreign Banks</a>\n",
              "</li>\n",
              "<li class=\"nav__header\">\n",
              "<p>\n",
              "<strong>Financial Accounts</strong>\n",
              "</p>\n",
              "</li>\n",
              "<li>\n",
              "<a class=\"sr-only-focusable\" href=\"/releases/z1/default.htm\">Financial Accounts of the United States - Z.1</a>\n",
              "</li>\n",
              "</ul>\n",
              "<ul class=\"col-sm-3 list-unstyled col-nav\">\n",
              "<li class=\"nav__header\">\n",
              "<p>\n",
              "<strong>Household Finance</strong>\n",
              "</p>\n",
              "</li>\n",
              "<li>\n",
              "<a class=\"sr-only-focusable\" href=\"/releases/g19/current/default.htm\">Consumer Credit - G.19</a>\n",
              "</li>\n",
              "<li>\n",
              "<a class=\"sr-only-focusable\" href=\"/releases/housedebt/default.htm\">Household Debt Service and Financial Obligations Ratios</a>\n",
              "</li>\n",
              "<li>\n",
              "<a class=\"sr-only-focusable\" href=\"/data/mortoutstand/current.htm\">Mortgage Debt Outstanding</a>\n",
              "</li>\n",
              "<li>\n",
              "<a class=\"sr-only-focusable\" href=\"/econres/scfindex.htm\">Survey of Consumer Finances (SCF)</a>\n",
              "</li>\n",
              "<li>\n",
              "<a class=\"sr-only-focusable\" href=\"/consumerscommunities/shed.htm\">Survey of Household Economics and Decisionmaking</a>\n",
              "</li>\n",
              "<li class=\"nav__header\">\n",
              "<p>\n",
              "<strong>Industrial Activity</strong>\n",
              "</p>\n",
              "</li>\n",
              "<li>\n",
              "<a class=\"sr-only-focusable\" href=\"/releases/g17/current/default.htm\">Industrial Production and Capacity Utilization - G.17</a>\n",
              "</li>\n",
              "<li class=\"nav__header\">\n",
              "<p>\n",
              "<strong>Interest Rates</strong>\n",
              "</p>\n",
              "</li>\n",
              "<li>\n",
              "<a class=\"sr-only-focusable\" href=\"/releases/h15/\">Selected Interest Rates - H.15</a>\n",
              "</li>\n",
              "</ul>\n",
              "<ul class=\"col-sm-3 list-unstyled col-nav\">\n",
              "<li class=\"nav__header\">\n",
              "<p>\n",
              "<strong>Micro Data Reference Manual (MDRM)</strong>\n",
              "</p>\n",
              "</li>\n",
              "<li>\n",
              "<a class=\"sr-only-focusable\" href=\"/data/mdrm.htm\">Micro and Macro Data Collections</a>\n",
              "</li>\n",
              "<li class=\"nav__header\">\n",
              "<p>\n",
              "<strong>Money Stock and Reserve Balances</strong>\n",
              "</p>\n",
              "</li>\n",
              "<li>\n",
              "<a class=\"sr-only-focusable\" href=\"/releases/h41/\">Factors Affecting Reserve Balances - H.4.1</a>\n",
              "</li>\n",
              "<li>\n",
              "<a class=\"sr-only-focusable\" href=\"/releases/h6/current/default.htm\">Money Stock Measures - H.6</a>\n",
              "</li>\n",
              "<li class=\"nav__header\">\n",
              "<p>\n",
              "<strong>Other</strong>\n",
              "</p>\n",
              "</li>\n",
              "<li>\n",
              "<a class=\"sr-only-focusable\" href=\"/data/yield-curve-models.htm\">Yield Curve Models and Data</a>\n",
              "</li>\n",
              "</ul>\n",
              "</div>\n",
              "</li>\n",
              "</ul>\n",
              "</li>\n",
              "<li class=\"dropdown nav-consumer dropdown--right dropdown--4Col\" role=\"menuitem\">\n",
              "<a aria-haspopup=\"true\" class=\"sr-only-focusable\" href=\"/consumerscommunities.htm\" id=\"consumerMenu\">Consumers<br/> &amp; Communities</a>\n",
              "<ul aria-labelledby=\"consumerMenu\" class=\"dropdown-menu sub-nav-group navmenu-nav\" role=\"menu\">\n",
              "<li>\n",
              "<div class=\"row\">\n",
              "<ul class=\"col-sm-3 list-unstyled\">\n",
              "<li class=\"nav__header\">\n",
              "<p>\n",
              "<strong>Regulations</strong>\n",
              "</p>\n",
              "</li>\n",
              "<li>\n",
              "<a class=\"sr-only-focusable\" href=\"/consumerscommunities/cra_about.htm\">Community Reinvestment Act (CRA)</a>\n",
              "</li>\n",
              "<li>\n",
              "<a class=\"sr-only-focusable\" href=\"/supervisionreg/reglisting.htm\">All Regulations</a>\n",
              "</li>\n",
              "<li class=\"nav__header\">\n",
              "<p>\n",
              "<strong>Supervision &amp; Enforcement</strong>\n",
              "</p>\n",
              "</li>\n",
              "<li>\n",
              "<a class=\"sr-only-focusable\" href=\"/supervisionreg/caletters/caletters.htm\">CA Letters</a>\n",
              "</li>\n",
              "<li>\n",
              "<a class=\"sr-only-focusable\" href=\"/apps/enforcementactions/default.aspx\">Enforcement Actions</a>\n",
              "</li>\n",
              "<li>\n",
              "<a class=\"sr-only-focusable\" href=\"/consumerscommunities/independent-foreclosure-review.htm\">Independent Foreclosure Review</a>\n",
              "</li>\n",
              "</ul>\n",
              "<ul class=\"col-sm-3 list-unstyled\">\n",
              "<li class=\"nav__header\">\n",
              "<p>\n",
              "<strong>Community Development</strong>\n",
              "</p>\n",
              "</li>\n",
              "<li>\n",
              "<a class=\"sr-only-focusable\" href=\"/consumerscommunities/neighborhood-revitalization.htm\">Housing and Neighborhood Revitalization</a>\n",
              "</li>\n",
              "<li>\n",
              "<a class=\"sr-only-focusable\" href=\"/consumerscommunities/small-business-and-entrepreneurship.htm\">Small Business and Entrepreneurship</a>\n",
              "</li>\n",
              "<li>\n",
              "<a class=\"sr-only-focusable\" href=\"/consumerscommunities/workforce.htm\">Employment and Workforce Development</a>\n",
              "</li>\n",
              "<li>\n",
              "<a class=\"sr-only-focusable\" href=\"/consumerscommunities/cdf.htm\">Community Development Finance</a>\n",
              "</li>\n",
              "<li>\n",
              "<a class=\"sr-only-focusable\" href=\"/consumerscommunities/rural-community-economic-development.htm\">Rural Community and Economic Development</a>\n",
              "</li>\n",
              "</ul>\n",
              "<ul class=\"col-sm-3 list-unstyled\">\n",
              "<li>\n",
              "<a class=\"sr-only-focusable\" href=\"/conferences.htm\">Conferences</a>\n",
              "</li>\n",
              "<li class=\"nav__header\">\n",
              "<p>\n",
              "<strong>Research &amp; Analysis</strong>\n",
              "</p>\n",
              "</li>\n",
              "<li>\n",
              "<a class=\"sr-only-focusable\" href=\"/consumerscommunities/shed.htm\">Survey of Household Economics and Decisionmaking</a>\n",
              "</li>\n",
              "<li>\n",
              "<a class=\"sr-only-focusable\" href=\"/consumerscommunities/community-development-publications.htm\">Research Publications &amp; Data Analysis</a>\n",
              "</li>\n",
              "</ul>\n",
              "<ul class=\"col-sm-3 list-unstyled\">\n",
              "<li>\n",
              "<a class=\"sr-only-focusable\" href=\"/aboutthefed/cac.htm\">Community Advisory Council</a>\n",
              "</li>\n",
              "<li class=\"nav__header\">\n",
              "<p>\n",
              "<strong>Consumer Resources</strong>\n",
              "</p>\n",
              "</li>\n",
              "<li>\n",
              "<a class=\"sr-only-focusable\" href=\"/consumerscommunities/foreclosure.htm\">Mortgage and Foreclosure Resources</a>\n",
              "</li>\n",
              "<li>\n",
              "<a class=\"sr-only-focusable\" href=\"/consumerscommunities/comm-dev-system-map.htm\">Federal Reserve Community Development Resources</a>\n",
              "</li>\n",
              "</ul>\n",
              "</div>\n",
              "</li>\n",
              "</ul>\n",
              "</li>\n",
              "</ul>\n",
              "</nav>\n",
              "<div class=\"container container__main\" id=\"content\" role=\"main\">\n",
              "<div class=\"row\">\n",
              "<div class=\"page-header\">\n",
              "<ol class=\"breadcrumb\" id=\"t3_nav\">\n",
              "<li class=\"breadcrumb__item\"><a class=\"breadcrumb__link\" href=\"/default.htm\">Home</a></li>\n",
              "<li class=\"breadcrumb__item\"><a class=\"breadcrumb__link\" href=\"/newsevents.htm\">News &amp; Events</a></li>\n",
              "<li class=\"breadcrumb__item\"><a class=\"breadcrumb__link\" href=\"/newsevents/speeches.htm\">Speeches</a></li>\n",
              "</ol>\n",
              "<div class=\"header-group\">\n",
              "<div class=\"page-title\" id=\"page-title\">\n",
              "<h2>\n",
              "                            Speech\n",
              "                        </h2>\n",
              "</div>\n",
              "<div class=\"shareDL\">\n",
              "<a class=\"btn shareDL__button\" href=\"/newsevents/speech/files/yellen20170926a.pdf\" type=\"button\">\n",
              "<span class=\"icon icon__sm icon--centered icon-download-header\"></span>\n",
              "<span class=\"shareDL__iconTitle\">PDF</span>\n",
              "</a>\n",
              "</div>\n",
              "</div>\n",
              "</div>\n",
              "<noscript>\n",
              "<div class=\"js-disabled text-center\">\n",
              "<span class=\"icon icon-alert icon--jsAlert\"></span>\n",
              "<span><strong>Please enable JavaScript if it is disabled in your browser or access the information through the links provided below.</strong> </span>\n",
              "</div>\n",
              "</noscript>\n",
              "</div>\n",
              "<div class=\"row\">\n",
              "<div id=\"article\">\n",
              "<div class=\"heading col-xs-12 col-sm-8 col-md-8\">\n",
              "<p class=\"article__time\">September 26, 2017</p>\n",
              "<h3 class=\"title\"><em>Inflation, Uncertainty, and Monetary Policy</em></h3>\n",
              "<p class=\"speaker\">Chair Janet L. Yellen</p>\n",
              "<p class=\"location\">At the \"Prospects for Growth: Reassessing the Fundamentals\" 59th Annual Meeting of the National Association for Business Economics, Cleveland, Ohio</p>\n",
              "<ul class=\"list-unstyled\">\n",
              "<li class=\"share btn-group\">\n",
              "<a aria-labelledby=\"shareMenu\" class=\"shareLink dropdown-toggle\" data-toggle=\"dropdown\" href=\"#\" role=\"button\">Share<span class=\"icon-share icon icon__sm icon--right\"></span></a>\n",
              "<ul class=\"dropdown-menu shareDL__dropdown shareDL__dropdown--inline shareDL__dropdown--right\" id=\"shareMenu\" role=\"menu\">\n",
              "<li class=\"shareDL__item\">\n",
              "<a class=\"shareDL__link icon__link sr-only-focusable\" href=\"https://twitter.com/share?url=https://www.federalreserve.gov/newsevents/speech/yellen20170926a.htm&amp;text=Inflation, Uncertainty, and Monetary Policy&amp;via=FederalReserve\">\n",
              "<span class=\"icon icon__sm icon--centered icon-twitter-color\"></span>\n",
              "</a>\n",
              "</li>\n",
              "<li class=\"shareDL__item\">\n",
              "<a class=\"shareDL__link icon__link sr-only-focusable\" href=\"https://www.facebook.com/sharer.php?u=https://www.federalreserve.gov/newsevents/speech/yellen20170926a.htm&amp;name=Inflation, Uncertainty, and Monetary Policy\">\n",
              "<span class=\"icon icon__sm icon--centered icon-facebook-color\"></span>\n",
              "</a>\n",
              "</li>\n",
              "<li class=\"shareDL__item\">\n",
              "<a class=\"shareDL__link icon__link sr-only-focusable\" href=\"https://www.linkedin.com/shareArticle?url=https://www.federalreserve.gov/newsevents/speech/yellen20170926a.htm&amp;title=Inflation, Uncertainty, and Monetary Policy&amp;mini=true\">\n",
              "<span class=\"icon icon__sm icon--centered icon-linkedin-color\"></span>\n",
              "</a>\n",
              "</li>\n",
              "<li class=\"shareDL__item\">\n",
              "<a class=\"shareDL__link icon__link sr-only-focusable\" href=\"/cdn-cgi/l/email-protection#b38cd1dcd7ca8edbc7c7c3c0899c9cc4c4c49dd5d6d7d6c1d2dfc1d6c0d6c1c5d69dd4dcc59cddd6c4c0d6c5d6ddc7c09cc0c3d6d6d0db9ccad6dfdfd6dd81838284838a8185d29ddbc7de95c0c6d1d9d6d0c78efaddd5dfd2c7dadcdd9f93e6ddd0d6c1c7d2daddc7ca9f93d2ddd793fedcddd6c7d2c1ca93e3dcdfdad0ca\">\n",
              "<span class=\"icon icon__sm icon--centered icon-email-color\"></span>\n",
              "</a>\n",
              "</li>\n",
              "</ul>\n",
              "</li>\n",
              "</ul>\n",
              "</div>\n",
              "<div class=\"col-xs-12 col-sm-4 col-md-4 hidden-sm\"></div>\n",
              "<div class=\"col-xs-12 col-sm-8 col-md-8\">\n",
              "<script data-cfasync=\"false\" src=\"/cdn-cgi/scripts/5c5dd728/cloudflare-static/email-decode.min.js\"></script><script type=\"text/x-mathjax-config\">\n",
              "MathJax.Hub.Config({\n",
              "extensions: [\"tex2jax.js\"],\n",
              "jax: [\"input/TeX\", \"output/HTML-CSS\"],\n",
              "tex2jax: {\n",
              "inlineMath: [ ['$$','$$'], ['$$$','$$$'] ],\n",
              "displayMath: [ ['$$$$','$$$$'] ],\n",
              "processEscapes: true\n",
              "},\n",
              "\"HTML-CSS\": { availableFonts: [\"TeX\"] }\n",
              "});\n",
              "</script><script src=\"https://www.federalreserve.gov/resources/MathJax/MathJax.js?config=TeX-AMS-MML_HTMLorMML\" type=\"text/javascript\"></script>\n",
              "<p>I would like to thank the National Association for Business Economics for inviting me to speak today and for the vital role the association plays in fostering debate on important economic policy questions.</p>\n",
              "<p>Today I will discuss uncertainty and monetary policy, particularly as it relates to recent inflation developments. Because changes in interest rates influence economic activity and inflation with a substantial lag, the Federal Open Market Committee (FOMC) sets monetary policy with an eye to its effects on the outlook for the economy. But the outlook is subject to considerable uncertainty from multiple sources, and dealing with these uncertainties is an important feature of policymaking. Key among current uncertainties are the forces driving inflation, which has remained low in recent years despite substantial improvement in labor market conditions. As I will discuss, this low inflation likely reflects factors whose influence should fade over time. But as I will also discuss, many uncertainties attend this assessment, and downward pressures on inflation could prove to be unexpectedly persistent. My colleagues and I may have misjudged the strength of the labor market, the degree to which longer-run inflation expectations are consistent with our inflation objective, or even the fundamental forces driving inflation. In interpreting incoming data, we will need to stay alert to these possibilities and, in light of incoming information, adjust our views about inflation, the overall economy, and the stance of monetary policy best suited to promoting maximum employment and price stability.</p>\n",
              "<p><strong>Recent Inflation Developments and the Outlook</strong><br/>\n",
              "Let me begin by reviewing recent inflation developments and the economic outlook. As the solid blue line in <a data-caption=\"\" data-content=\"\" data-flickr=\"false\" data-gallery=\"global-figures\" data-title=\"\" data-toggle=\"lightbox\" href=\"/newsevents/images/yellen-figure1-20170926.png\" id=\"fig1\">figure 1</a> indicates, inflation as measured by the price index for personal consumption expenditures (PCE) has generally run below the FOMC's 2 percent longer-run objective since that goal was announced in January 2012.<a href=\"#fn1\" title=\"footnote 1\"><sup>1</sup></a><a name=\"f1\"></a> Core inflation, which strips out volatile food and energy prices, has also fallen persistently short of 2 percent (the red dashed line). Furthermore, both overall and core inflation, after moving up appreciably last year, have slipped again in recent months. Sustained low inflation such as this is undesirable because, among other things, it generally leads to low settings of the federal funds rate in normal times, thereby providing less scope to ease monetary policy to fight recessions. In addition, a persistent undershoot of our stated 2 percent goal could undermine the FOMC's credibility, causing inflation expectations to drift and actual inflation and economic activity to become more volatile.</p>\n",
              "<p>As noted in its recent statement, the FOMC continues to anticipate that, with gradual adjustments in the stance of monetary policy, inflation will rise and stabilize at around 2 percent over the medium term. This expectation is illustrated by the green stars, which represent the medians of the inflation projections submitted by FOMC participants at our meeting last week. In part, this expectation reflects the significant improvement in labor market conditions over the past few years. As shown in <a data-caption=\"\" data-content=\"\" data-flickr=\"false\" data-gallery=\"global-figures\" data-title=\"\" data-toggle=\"lightbox\" href=\"/newsevents/images/yellen-figure2-20170926.png\" id=\"fig2\">figure 2</a>, the unemployment rate (the blue line) now stands at 4.4 percent, somewhat below the median of FOMC participants' estimates of its longer-run sustainable level (the black line). As the green stars indicate, labor market conditions are expected to strengthen a bit further. The inflation outlook also reflects the Committee's judgment that inflation expectations will remain reasonably well anchored at a level consistent with PCE price inflation of 2 percent in the long run, and that the restraint imposed in recent years by a variety of special factors, including movements in the relative prices of food, energy, and imports, will wane in coming quarters.</p>\n",
              "<p>To understand this assessment, it is useful to decompose the forces driving movements in inflation since the financial crisis, as estimated using a simple model of inflation that I presented in a speech two years ago.<a href=\"#fn2\" title=\"footnote 2\"><sup>2</sup></a><a name=\"f2\"></a> <a data-caption=\"\" data-content=\"\" data-flickr=\"false\" data-gallery=\"global-figures\" data-title=\"\" data-toggle=\"lightbox\" href=\"/newsevents/images/yellen-figure3-20170926.png\" id=\"fig3\">Figure 3</a> reports this decomposition as the contributions made by various factors to the shortfall of PCE price inflation from 2 percent, year by year. As illustrated by the purple dotted portion of the bars, labor underutilization, or \"slack,\" accounts for a shrinking share of the shortfall since 2012 and is now having a negligible effect. By comparison, the influence of changes in relative food, energy, and import prices--the solid blue and checkered red portions--has been more substantial in the past few years, although their contribution is estimated to have greatly diminished this year.<a href=\"#fn3\" title=\"footnote 3\"><sup>3</sup></a><a name=\"f3\"></a></p>\n",
              "<p>Not surprisingly, the simple model does not account for all of the year-to-year movements in inflation. As indicated by the green striped portion of the bars, the residual component of the shortfall was modestly positive on average from 2008 through last year. This year, however, inflation has been unexpectedly weak from the model's perspective. This unusually large error does not necessarily imply that inflation is more likely to continue to come in on the low side in coming years.<a href=\"#fn4\" title=\"footnote 4\"><sup>4</sup></a><a name=\"f4\"></a> Some of the recent decline in inflation, although not all, reflects idiosyncratic shifts in the prices of some items, such as the large decline in telecommunication service prices seen earlier in the year, that are unlikely to be repeated. As the green dashed line in <a data-caption=\"\" data-content=\"\" data-flickr=\"false\" data-gallery=\"global-figures\" data-title=\"\" data-toggle=\"lightbox\" href=\"/newsevents/images/yellen-figure4-20170926.png\" id=\"fig4\">figure 4</a> illustrates, if the average change in consumer prices each month is calculated excluding items whose price changes are outliers on both the high and low side, the resulting \"trimmed mean\" measure of inflation shows less of a slowdown this year.<a href=\"#fn5\" title=\"footnote 5\"><sup>5</sup></a><a name=\"f5\"></a></p>\n",
              "<p>Based on analyses of this sort, my colleagues and I currently think that this year's low inflation is probably temporary, so we continue to anticipate that inflation is likely to stabilize around 2 percent over the next few years. But our understanding of the forces driving inflation is imperfect, and we recognize that something more persistent may be responsible for the current undershooting of our longer-run objective. Accordingly, we will monitor incoming data closely and stand ready to modify our views based on what we learn.</p>\n",
              "<p><strong>Uncertainty about the Inflation Outlook</strong><br/>\n",
              "Although we judge that inflation will most likely stabilize around 2 percent over the next few years, the odds that it could turn out to be noticeably different are considerable. This point is illustrated by <a data-caption=\"\" data-content=\"\" data-flickr=\"false\" data-gallery=\"global-figures\" data-title=\"\" data-toggle=\"lightbox\" href=\"/newsevents/images/yellen-figure5-20170926.png\" id=\"fig5\">figure 5</a>. Here the red line indicates the median of the latest inflation projections submitted by FOMC participants that I showed previously. The pertinent feature of this figure is the blue shaded region around the red line, which shows a 70 percent confidence interval around FOMC participants' median outlook. The width of this region reflects the average accuracy of inflation projections made by private and government forecasters over the past 20 years. As the figure shows, based on that history, there is a 30 percent probability that inflation could be greater than 3 percent or less than 1 percent next year.<a href=\"#fn6\" title=\"footnote 6\"><sup>6</sup></a><a name=\"f6\"></a></p>\n",
              "<p>Most of this uncertainty reflects the influence of unexpected movements in oil prices and the foreign exchange value of the dollar, as well as that of idiosyncratic developments unrelated to broader economic conditions. These factors could easily push overall inflation noticeably above or below 2 percent for a time. But such disturbances are not a great concern from a policy perspective because their effects fade away as long as inflation expectations remain anchored.<a href=\"#fn7\" title=\"footnote 7\"><sup>7</sup></a><a name=\"f7\"></a> For this reason, the FOMC strives to look through these transitory inflation effects when setting monetary policy. Such was the case when rising oil prices pushed headline inflation noticeably above 2 percent for several years prior to the financial crisis. Similarly, the Committee substantially discounted the reductions in inflation that occurred from 2014 through 2016 as a result of the decline in oil prices and the effects of the dollar's appreciation on import prices.</p>\n",
              "<p>A more important issue from a policy standpoint is that some key assumptions underlying the baseline outlook could be wrong in ways that imply that inflation will remain low for longer than currently projected. For example, labor market conditions may not be as tight as they appear to be, and thus they may exert less upward pressure on inflation than anticipated. Alternatively, long-run inflation expectations, which have an important influence on actual inflation, may not be consistent with the FOMC's 2 percent goal. More broadly, the conventional framework for understanding inflation dynamics could be misspecified in some fundamental way. Let's now consider each of these possibilities in turn.</p>\n",
              "<p><strong>Resource Utilization</strong><br/>\n",
              "The unemployment rate consistent with long-run price stability at any time is not known with certainty; we can only estimate it. The median of the longer-run unemployment rate projections submitted by FOMC participants last week is around 4‑1/2 percent. But the long-run sustainable unemployment rate can drift over time because of demographic changes and other factors, some of which can be difficult to quantify--or even identify--in real time.<a href=\"#fn8\" title=\"footnote 8\"><sup>8</sup></a><a name=\"f8\"></a> For these and other reasons, the statistical precision of such estimates is limited, and the actual value of the sustainable rate could well be noticeably lower than currently projected.<a href=\"#fn9\" title=\"footnote 9\"><sup>9</sup></a><a name=\"f9\"></a> Thus, although FOMC participants generally view current labor utilization as probably somewhat greater than what can be sustained in the longer run, the statistical evidence from past experience does not rule out the possibility that some slack still remains in the labor market. If so, the economy could sustain a higher level of employment and output in the longer run than now anticipated--a very beneficial outcome, albeit one that would require recalibrating monetary policy over time in order to reap those benefits and compensate for the accompanying reduction in inflationary pressures.</p>\n",
              "<p>A related question is whether the unemployment rate alone is an adequate gauge of economic slack for the purposes of explaining inflation. Although the unemployment rate is probably the best single summary measure of labor utilization, some indicators have shown less improvement since the financial crisis.<a href=\"#fn10\" title=\"footnote 10\"><sup>10</sup></a><a name=\"f10\"></a> As the solid blue line in <a data-caption=\"\" data-content=\"\" data-flickr=\"false\" data-gallery=\"global-figures\" data-title=\"\" data-toggle=\"lightbox\" href=\"/newsevents/images/yellen-figure6-20170926.png\" id=\"fig6\">figure 6</a> illustrates, the employed share of the \"prime-age worker\" population--that is, persons from ages 25 to 54--remains noticeably below the 2007 level.<a href=\"#fn11\" title=\"footnote 11\"><sup>11</sup></a><a name=\"f11\"></a> But employment rates for this group may now be permanently lower than in the past as a result of declining employment opportunities for less-skilled workers, a rising number of people receiving disability insurance, and other worrisome trends.<a href=\"#fn12\" title=\"footnote 12\"><sup>12</sup></a><a name=\"f12\"></a> Similarly, although the share of part-time workers who would like a full-time job is still somewhat above where it stood before the last two recessions (the dashed red line), it could reflect a structural change in firms' reliance on part-time labor.<a href=\"#fn13\" title=\"footnote 13\"><sup>13</sup></a><a name=\"f13\"></a> In addition, these two measures have to be weighed against other labor indicators that have either returned to, or are currently above, their pre-recession levels. As shown in <a data-caption=\"\" data-content=\"\" data-flickr=\"false\" data-gallery=\"global-figures\" data-title=\"\" data-toggle=\"lightbox\" href=\"/newsevents/images/yellen-figure7-20170926.png\" id=\"fig7\">figure 7</a>, those indicators include the quits rate (the short-dashed blue line), household perceptions of job availability (the short-and-long-dashed green line), the jobs opening rate (the long-dashed red line), and the percentage of small firms finding it hard to fill jobs (the solid black line).</p>\n",
              "<p>On balance, the unemployment rate probably is correct in signaling that overall labor market conditions have returned to pre-crisis levels. But that return does not necessarily demonstrate that the economy is now at maximum employment because, due to demographic and other structural changes, the unemployment rate that is sustainable today may be lower than the rate that was sustainable in the past.</p>\n",
              "<p>In that regard, some observers have pointed to the continued subdued pace of wage growth as evidence that the economy is not yet back to full employment. As shown in <a data-caption=\"\" data-content=\"\" data-flickr=\"false\" data-gallery=\"global-figures\" data-title=\"\" data-toggle=\"lightbox\" href=\"/newsevents/images/yellen-figure8-20170926.png\" id=\"fig8\">figure 8</a>, labor compensation as measured by the employment cost index (the short-dashed red line) has been growing at more or less the same rate since 2014, and hourly compensation in the nonfarm business sector (the short-and-long-dashed green line)--a quite noisy measure, even after smoothing--is actually growing more slowly. But growth in average hourly earnings (the solid blue line) and the Atlanta Fed's Wage Growth Tracker (the long-dashed black line) have clearly picked up.<a href=\"#fn14\" title=\"footnote 14\"><sup>14</sup></a><a name=\"f14\"></a> In addition, productivity growth has been quite weak in recent years, and empirical analysis suggests that it is has been holding down aggregate growth in labor compensation independent of labor utilization in recent years.<a href=\"#fn15\" title=\"footnote 15\"><sup>15</sup></a><a name=\"f15\"></a> An analysis of the pattern of wage growth at the U.S. state level also suggests that subdued growth for the country as a whole probably reflects sluggish productivity or some other factor common to all states, because cross-state differences in wage growth are about what one would expect given cross-state differences in unemployment rates.<a href=\"#fn16\" title=\"footnote 16\"><sup>16</sup></a><a name=\"f16\"></a> Finally, I would note that the percentage of firms planning wage increases has moved back up to its pre-recession level, many firms report difficulties in finding qualified workers, and some have responded by expanding training programs and offering signing bonuses--possible harbingers of stronger wage gains to come.</p>\n",
              "<p>Overall, I view the data we have in hand as suggesting a generally healthy labor market, not one in which substantial slack remains or one that is overheated. That said, the evidence does not allow for any definitive assessment, so policymakers must remain open minded on this question and its implications for reaching our inflation goal.</p>\n",
              "<p><strong>Inflation Expectations</strong><br/>\n",
              "Another source of uncertainty concerns inflation expectations. In standard economic models, inflation expectations are an important determinant of actual inflation because, in deciding how much to adjust wages for individual jobs and prices of goods and services at a particular time, firms take into account the rate of overall inflation they expect to prevail in the future. Monetary policy presumably plays a key role in shaping these expectations by influencing the average rate of inflation experienced in the past over long periods of time, as well as by providing guidance about the FOMC's objectives for inflation in the future. Even so, economists' understanding of exactly how and why inflation expectations change over time is limited.<a href=\"#fn17\" title=\"footnote 17\"><sup>17</sup></a><a name=\"f17\"></a> Moreover, we have to contend with the fact that we do not directly observe the inflation expectations relevant to wage and price setting. Instead, we can only imperfectly infer how they might have changed based on survey responses and other data.</p>\n",
              "<p>The FOMC's outlook depends importantly on the view that longer-run inflation expectations have been stable for many years at a level consistent with PCE price inflation that will average around 2 percent in the longer run. Provided this stability continues, standard models suggest that actual inflation should stabilize at about 2 percent over the next two or three years in an environment of roughly full employment, absent any future shocks. However, there is a risk that inflation expectations may not be as well anchored as they appear and perhaps are not consistent with our 2 percent goal. To assess this risk, the FOMC considers a variety of survey measures of expected longer-run inflation, some of which are shown in <a data-caption=\"\" data-content=\"\" data-flickr=\"false\" data-gallery=\"global-figures\" data-title=\"\" data-toggle=\"lightbox\" href=\"/newsevents/images/yellen-figure9-20170926.png\" id=\"fig9\">figure 9</a>. Long-range projections of PCE price inflation made by private forecasters, the solid red line, have been remarkably stable for many years, as have been the longer-run inflation expectations reported in surveys of financial market participants (not shown).<a href=\"#fn18\" title=\"footnote 18\"><sup>18</sup></a><a name=\"f18\"></a> Households' longer-term expectations as reported in the University of Michigan Surveys of Consumers, the short-dashed blue line, have also been fairly stable overall since the late 1990s.<a href=\"#fn19\" title=\"footnote 19\"><sup>19</sup></a><a name=\"f19\"></a> That said, results from this survey, as well as a survey of consumers carried out by the Federal Reserve Bank of New York, do hint that expectations may have slipped a bit over the past two or three years. If so, stabilizing inflation at around 2 percent could prove to be more difficult than expected.<a href=\"#fn20\" title=\"footnote 20\"><sup>20</sup></a><a name=\"f20\"></a></p>\n",
              "<p>In theory, differences between yields on conventional Treasury securities and those on Treasury Inflation-Protected Securities (TIPS) are also informative about inflation expectations in that they measure the compensation received by investors for exposing themselves to future changes in consumer prices. As indicated by the long-dashed green line, TIPS inflation compensation for the five-year period starting five years from now has fallen roughly 1 percentage point over the past three years. This decline could be interpreted as a significant drop in market participants' expectations for the most likely outcome for inflation in the longer run. However, research suggests that the fall in TIPS inflation compensation instead primarily reflects a decline in inflation risk premiums and differences in the liquidity of nominal and indexed Treasury securities.<a href=\"#fn21\" title=\"footnote 21\"><sup>21</sup></a><a name=\"f21\"></a> This research notwithstanding, the notable decline in inflation compensation may be a sign that longer-term inflation expectations have slipped recently.</p>\n",
              "<p><strong>Misspecified Inflation Dynamics</strong><br/>\n",
              "Another risk is that our framework for understanding inflation dynamics could be misspecified in some fundamental way, perhaps because our econometric models overlook some factor that will restrain inflation in coming years despite solid labor market conditions. One possibility in this vein is a continuation of the subdued growth in health-care prices that we have seen in recent years--a sector-specific factor not controlled for in standard models. Because health care accounts for a large share of total consumer spending, this slow growth has restrained overall inflation materially and may continue to do so for some time.<a href=\"#fn22\" title=\"footnote 22\"><sup>22</sup></a><a name=\"f22\"></a> A similar situation occurred during the 1990s, when a significant shift in health insurance enrollment away from fee-for-service and toward HMO (that is, Health Maintenance Organization) plans reduced cost pressures and held down overall inflation for several years. If these sorts of favorable supply-type shocks continue, achieving our 2 percent inflation goal over the medium term may require a more accommodative stance of monetary policy than might otherwise be appropriate.</p>\n",
              "<p>Some commentators have conjectured that, because of rising trade volumes and the integration of production chains across countries, U.S. inflation now depends on global resource utilization, not just on conditions here at home and those effects arising through movements in energy and import prices. However, studies of this issue do not, on balance, provide much empirical support for this possibility.<a href=\"#fn23\" title=\"footnote 23\"><sup>23</sup></a><a name=\"f23\"></a> Moreover, foreign economic growth has firmed this year and the global economy appears to have largely recovered, so any influence that global resource utilization might have on U.S. inflation would presumably be small. Nevertheless, increased competition from the integration of China and other emerging market countries into the world economy may have materially restrained price margins and labor compensation in the United States and other advanced economies. In fact, one study concludes that most of the decline in the labor share of national income in the United States since the late 1980s can be attributed to offshoring of labor-intensive production.<a href=\"#fn24\" title=\"footnote 24\"><sup>24</sup></a><a name=\"f24\"></a> If this restraint on the labor share continues to build over the next few years (and not merely holds steady), then it could indirectly hold down the growth of domestic wages and prices in ways not captured by conventional models.</p>\n",
              "<p>More speculatively, changes in the structure of the domestic economy may also be altering inflation dynamics in ways not captured by conventional models. The growing importance of online shopping, by increasing the competitiveness of the U.S. retail sector, may have reduced price margins and restrained the ability of firms to raise prices in response to rising demand.<a href=\"#fn25\" title=\"footnote 25\"><sup>25</sup></a><a name=\"f25\"></a> That said, the economy overall appears to have become more concentrated and less dynamic in recent years, which may tend to <em>increase</em> firms' pricing power.<a href=\"#fn26\" title=\"footnote 26\"><sup>26</sup></a><a name=\"f26\"></a> Because these changes occur slowly, determining their complex effects on the economy will, as a practical matter, require studying data over a considerable time.</p>\n",
              "<p>Finally, I would note the possibility that inflation may rise more sharply in response to robust labor market conditions than anticipated. The influence of labor utilization on inflation has become quite modest over the past 20 years, implying that the inflationary consequences of misjudging the sustainable rate of unemployment are low. But we cannot be sure that this modest sensitivity will persist in the face of strong labor market conditions, given that we do not fully understand how it came to be so modest in the first place. Although the evidence is weak that inflation responds in a nonlinear manner to resource utilization, this risk is one that we cannot entirely dismiss.</p>\n",
              "<p><strong>Policy Implications</strong><br/>\n",
              "What are the policy implications of these uncertainties? For one, my colleagues and I must be ready to adjust our assessments of economic conditions and the outlook when new data warrant it. In this spirit, FOMC participants--like private forecasters--have reduced their estimates of the sustainable unemployment rate appreciably over the past few years in response to the continual flow of information about the always changing economy.<a href=\"#fn27\" title=\"footnote 27\"><sup>27</sup></a><a name=\"f27\"></a> To the extent these assessments change over time, so too will the outlook and judgments about the appropriate stance of monetary policy. Importantly, even if resource utilization is currently lower than we estimate or if longer-run inflation expectations are running at levels consistent with longer-run PCE price inflation somewhat below 2 percent, the FOMC can still achieve its inflation goal. Under those conditions, continuing to revise our assessments in response to incoming data would naturally result in a policy path that is somewhat easier than that now anticipated--an appropriate course correction that would reflect our commitment to maximum employment and price stability.</p>\n",
              "<p>Similar considerations apply to other important sources of uncertainty, such as the value of the neutral real interest rate--that is, the inflation-adjusted level of the federal funds rate consistent with keeping the economy operating on an even keel. Estimates of this rate have declined considerably in recent years, and, by some estimates, the real neutral rate is currently close to zero. But the neutral rate changes over time as a result of the interaction of many forces, including demographics, productivity growth, fiscal policy, and the strength of global demand, so its value at any point in time cannot be estimated or projected with much precision. My FOMC colleagues and I will therefore need to continue to reassess and revise our assessments of the neutral rate in response to incoming data and adjust monetary policy accordingly.</p>\n",
              "<p>How should policy be formulated in the face of such significant uncertainties? In my view, it strengthens the case for a gradual pace of adjustments. Moving too quickly risks overadjusting policy to head off projected developments that may not come to pass. A gradual approach is particularly appropriate in light of subdued inflation and a low neutral real interest rate, which imply that the FOMC will have only limited scope to cut the federal funds rate should the economy be hit with an adverse shock.<a href=\"#fn28\" title=\"footnote 28\"><sup>28</sup></a><a name=\"f28\"></a> But we should also be wary of moving <em>too</em> gradually. Job gains continue to run well ahead of the longer-run pace we estimate would be sufficient, on average, to provide jobs for new entrants to the labor force. Thus, without further modest increases in the federal funds rate over time, there is a risk that the labor market could eventually become overheated, potentially creating an inflationary problem down the road that might be difficult to overcome without triggering a recession. Persistently easy monetary policy might also eventually lead to increased leverage and other developments, with adverse implications for financial stability. For these reasons, and given that monetary policy affects economic activity and inflation with a substantial lag, it would be imprudent to keep monetary policy on hold until inflation is back to 2 percent.</p>\n",
              "<p><strong>Conclusion</strong><br/>\n",
              "To conclude, standard empirical analyses support the FOMC's outlook that, with gradual adjustments in monetary policy, inflation will stabilize at around the FOMC's 2 percent objective over the next few years, accompanied by some further strengthening in labor market conditions. But the outlook is uncertain, reflecting, among other things, the inherent imprecision in our estimates of labor utilization, inflation expectations, and other factors. As a result, we will need to carefully monitor the incoming data and, as warranted, adjust our assessments of the outlook and the appropriate stance of monetary policy. But in making these adjustments, our longer-run objectives will remain unchanged--to promote maximum employment and 2 percent inflation.</p>\n",
              "<p><strong>Appendix: PCE Inflation Model, Inflation Decomposition Procedure, and the ECI Growth Equation</strong></p>\n",
              "<p><strong>PCE Inflation Model</strong></p>\n",
              "<p>The inflation model used in the decomposition procedure includes two equations: an identity for the change in the price index for total personal consumption expenditures (PCE) and a simple reduced-form forecasting equation for core PCE price inflation. The identity is</p>\n",
              "<p>$$$$ \\pi_t=\\pi_t^c+\\omega_t^e{RPIE}_t+\\omega_t^f{RPIF}_t,$$$$</p>\n",
              "<p>where $$ \\pi_t$$ and $$ \\pi_t^c$$ denote growth rates (expressed as annualized log differences) of total and core PCE prices, respectively. $$ {RPIE}_t$$ and $$ {RPIF}_t$$ are annualized growth rates for prices of consumer energy goods and services and prices of food and beverages, both expressed relative to core PCE prices, and $$ \\omega_t^e$$ and $$ \\omega_t^f$$ are the weights of energy and food in total consumption. The core inflation forecasting equation is</p>\n",
              "<p>$$$$ \\pi_t^c=.41\\pi_t^e+.36\\pi_{t-1}^c+.23\\pi_{t-2}^c-.08{SLACK}_t+.56{RPIM}_t+\\epsilon_t,$$$$</p>\n",
              "<p>where $$ \\pi_t^e$$ is expected long-run inflation; $$ {SLACK}_t$$ denotes the level of resource utilization, $$ {RPIM}_t$$ controls for the effect of changes in the relative price of core imported goods, $$ \\epsilon_t$$ is a white-noise error term, and the coefficients are ordinary least squares estimates obtained using data from 1990:Q1 to 2014:Q4. <a href=\"#fn29\" title=\"footnote 29\"><sup>29</sup></a><a name=\"f29\"></a></p>\n",
              "<p>For estimation purposes, $$ {SLACK}_t$$ is approximated using the unemployment rate less the Congressional Budget Office's (CBO) historical series for the long-run natural rate. From 2007 to the present, $$ \\pi_t^e$$ is approximated using the median forecasts of long-run PCE price inflation reported in the Survey of Professional Forecasters; from 1991:Q4 to 2006:Q4, the series is based on the median long-run forecasts of inflation as measured by the consumer price index (CPI), less a constant adjustment of 40 basis points to put the CPI forecasts on a PCE basis; before 1991:Q4, $$ \\pi_t^e$$ is approximated by the long-run inflation expectations reported in the Hoey survey. The relative import price term, $$ {RPIM}_t$$, is defined as the annualized growth rate of the price index for core imported goods (defined to exclude petroleum, natural gas, computers, and semiconductors) less the lagged four-quarter change in core PCE inflation, all multiplied by the share of nominal core imported goods in nominal GDP.<a href=\"#fn30\" title=\"footnote 30\"><sup>30</sup></a><a name=\"f30\"></a></p>\n",
              "<p><strong>Inflation Decomposition Procedure</strong></p>\n",
              "<p>To decompose recent movements in inflation into its various components, the series used in the inflation model--for which complete quarterly data are available only through 2017:Q2 in most cases--are first extended through the end of 2017. In the case of inflation, the extensions are consistent with the medians of Federal Open Market Committee (FOMC) participants' projections for total and core PCE inflation in 2017 that were reported at the press conference following the September 2017 FOMC meeting.<a href=\"#fn31\" title=\"footnote 31\"><sup>31</sup></a><a name=\"f31\"></a> Similarly, $$ {SLACK}_t$$ over the second half of 2017 is defined to be consistent with the median of FOMC projections for the 2017:Q4 unemployment rate less the CBO's estimates of the historical path of the long-run natural rate. The CBO's 2017 estimate is slightly higher than the median of FOMC participants' most recent projections of the normal longer-run level of the unemployment rate. For changes in the price of core imports, the 2017:H2 extrapolations are based on a regression of this series on current and lagged changes in exchange rates. This approach predicts that core import prices should rise about 4-1/2 percent at an annual rate in the second half of this year.<a href=\"#fn32\" title=\"footnote 32\"><sup>32</sup></a><a name=\"f32\"></a> Energy and food prices over the second half of 2017 are assumed to rise at annual rates of 10 percent and 1.6 percent, respectively; these assumptions (which take into account published monthly PCE data through July and published CPI data through August, as well as recent movements in gasoline prices in the wake of Hurricanes Harvey and Irma) ensure that the combined contribution of food and energy prices to inflation in 2017 is consistent with the median difference between FOMC participants' projections for total and core inflation. Finally, nominal spending shares for food, energy, and core imports are assumed to remain unchanged at their 2017:Q2 levels, and long-run inflation expectations are assumed to remain constant at 2 percent.</p>\n",
              "<p>After computing historical $$ \\epsilon_t$$ tracking errors for the two equations of the model, the final step in the decomposition procedure is to run a sequence of counterfactual simulations of the model from 1990:Q1 through 2017:Q4. One by one, each explanatory variable of the model is set to zero, and the model is simulated; the resulting difference between actual inflation and its simulated value equals the historical contribution of that particular factor. Importantly, the simulations are all dynamic in that the lagged inflation term in the core inflation equation is set equal to its simulated value in the preceding period rather than its actual value. As a result, the decompositions incorporate the effects of changes in lagged inflation that are attributable to previous movements in the explanatory variables.</p>\n",
              "<p><strong>ECI Growth Equation</strong></p>\n",
              "<p>The estimated equation for the employment cost index (ECI) is:</p>\n",
              "<p>$$$$ \\pi_t^w=-0.72+.58\\pi_{t-1}^e+.10\\pi_{t-1}^w+.12\\pi_{t-2}^w+.10\\pi_{t-3}^w+.11\\pi_{t-4}^w-.19{SLACK}_t-.57\\Delta{SLACK}_t+.58{MA\\_PROD}_t+\\varepsilon_t,$$$$</p>\n",
              "<p>where $$ \\pi_t^w$$ is the annualized log difference of the ECI for hourly compensation of private industry workers, $$ \\pi_t^e$$ and $$ {SLACK}_t$$ have the same definition as the corresponding variables from the PCE price inflation model, $$ \\Delta{SLACK}_t$$ denotes the first difference of $$ {SLACK}_t$$, $$ {MA\\_PROD}_t$$ is a moving average of an estimate of trend productivity growth for the business sector, and $$ \\varepsilon_t$$ is an error term.<a href=\"#fn33\" title=\"footnote 33\"><sup>33</sup></a><a name=\"f33\"></a> The coefficients are obtained from a restricted least squares regression using quarterly data from 1988:Q1 to 2017:Q2.<a href=\"#fn34\" title=\"footnote 34\"><sup>34</sup></a><a name=\"f34\"></a> Trend productivity growth is estimated as the low-frequency component of the annualized log difference of business-sector output per hour from the Bureau of Labor Statistics Productivity and Costs report.<a href=\"#fn35\" title=\"footnote 35\"><sup>35</sup></a><a name=\"f35\"></a> The moving average of trend productivity growth (which is used in the estimation) is computed as a geometrically declining weighted average,</p>\n",
              "<p>$$$$ {MA\\_PROD}_t=0.95{MA\\_PROD}_{t-1}+0.05{PROD}_t,$$$$</p>\n",
              "<p>where $$ {PROD}_t$$ denotes trend productivity growth and where the moving average is initialized in 1955:Q1 with that quarter's estimate of the trend growth rate.</p>\n",
              "<p>The model is used to compute a decomposition of ECI growth following a procedure similar to that used to construct the decomposition for core PCE price inflation. The table summarizes the results of this decomposition over various periods; note that the column labeled \"Slack\" combines the effects of $$ \\Delta{SLACK}_t$$ and $$ {SLACK}_t$$, the effect of the model's constant term is included in the column labeled \"Trend productivity,\" and the column labeled \"Other\" gives the contributions of the model's tracking errors.</p>\n",
              "<p class=\"tablehead\" id=\"t1p1\"><strong>Model-Based Decomposition of ECI Hourly Compensation Growth</strong></p>\n",
              "<div class=\"data-table\" data-table-popout=\"\">\n",
              "<table aria-describedby=\"t1p1\" class=\"pubtables\" data-other-sticky-ids=\"navbar-mobile,nav-primary\" data-sticky-columns=\"1\" data-sticky-rows=\"2\" title=\"Model-Based Decomposition of ECI Hourly Compensation Growth\">\n",
              "<thead>\n",
              "<tr>\n",
              "<td class=\"colhead\" rowspan=\"2\"> </td>\n",
              "<th class=\"colhead verbtm\" id=\"t1p1a1\" rowspan=\"2\">ECI growth</th>\n",
              "<th class=\"colhead italic verbtm\" colspan=\"4\" id=\"t1p1a2\">Contributions of:</th>\n",
              "</tr>\n",
              "<tr>\n",
              "<th class=\"colhead verbtm\" headers=\"t1p1a2\" id=\"t1p1b1\">Expected<br/>\n",
              "\t\t\tinflation</th>\n",
              "<th class=\"colhead verbtm\" headers=\"t1p1a2\" id=\"t1p1b2\">Trend<br/>\n",
              "\t\t\tproductivity</th>\n",
              "<th class=\"colhead verbtm\" headers=\"t1p1a2\" id=\"t1p1b3\">Slack</th>\n",
              "<th class=\"colhead verbtm\" headers=\"t1p1a2\" id=\"t1p1b4\">Other</th>\n",
              "</tr>\n",
              "</thead>\n",
              "<tbody>\n",
              "<tr>\n",
              "<th class=\"stub\" id=\"t1p1r1\">2002-07</th>\n",
              "<td class=\"data horizctr\" headers=\"t1p1a1 t1p1r1\">3.28</td>\n",
              "<td class=\"data horizctr\" headers=\"t1p1a2 t1p1b1 t1p1r1\">2.09</td>\n",
              "<td class=\"data horizctr\" headers=\"t1p1a2 t1p1b2 t1p1r1\">1.44</td>\n",
              "<td class=\"data horizctr\" headers=\"t1p1a2 t1p1b3 t1p1r1\">-0.08</td>\n",
              "<td class=\"data horizctr\" headers=\"t1p1a2 t1p1b4 t1p1r1\">-0.17</td>\n",
              "</tr>\n",
              "<tr>\n",
              "<th class=\"stub\" id=\"t1p1r2\">2008-09</th>\n",
              "<td class=\"data horizctr\" headers=\"t1p1a1 t1p1r2\">1.80</td>\n",
              "<td class=\"data horizctr\" headers=\"t1p1a2 t1p1b1 t1p1r2\">2.16</td>\n",
              "<td class=\"data horizctr\" headers=\"t1p1a2 t1p1b2 t1p1r2\">1.18</td>\n",
              "<td class=\"data horizctr\" headers=\"t1p1a2 t1p1b3 t1p1r2\">-0.97</td>\n",
              "<td class=\"data horizctr\" headers=\"t1p1a2 t1p1b4 t1p1r2\">-0.56</td>\n",
              "</tr>\n",
              "<tr>\n",
              "<th class=\"stub\" id=\"t1p1r3\">2010-11</th>\n",
              "<td class=\"data horizctr\" headers=\"t1p1a1 t1p1r3\">2.08</td>\n",
              "<td class=\"data horizctr\" headers=\"t1p1a2 t1p1b1 t1p1r3\">2.14</td>\n",
              "<td class=\"data horizctr\" headers=\"t1p1a2 t1p1b2 t1p1r3\">0.82</td>\n",
              "<td class=\"data horizctr\" headers=\"t1p1a2 t1p1b3 t1p1r3\">-1.09</td>\n",
              "<td class=\"data horizctr\" headers=\"t1p1a2 t1p1b4 t1p1r3\">0.22</td>\n",
              "</tr>\n",
              "<tr>\n",
              "<th class=\"stub\" id=\"t1p1r4\">2012-13</th>\n",
              "<td class=\"data horizctr\" headers=\"t1p1a1 t1p1r4\">1.92</td>\n",
              "<td class=\"data horizctr\" headers=\"t1p1a2 t1p1b1 t1p1r4\">2.12</td>\n",
              "<td class=\"data horizctr\" headers=\"t1p1a2 t1p1b2 t1p1r4\">0.44</td>\n",
              "<td class=\"data horizctr\" headers=\"t1p1a2 t1p1b3 t1p1r4\">-0.67</td>\n",
              "<td class=\"data horizctr\" headers=\"t1p1a2 t1p1b4 t1p1r4\">0.02</td>\n",
              "</tr>\n",
              "<tr>\n",
              "<th class=\"stub\" id=\"t1p1r5\">2014-15</th>\n",
              "<td class=\"data horizctr\" headers=\"t1p1a1 t1p1r5\">2.05</td>\n",
              "<td class=\"data horizctr\" headers=\"t1p1a2 t1p1b1 t1p1r5\">2.01</td>\n",
              "<td class=\"data horizctr\" headers=\"t1p1a2 t1p1b2 t1p1r5\">0.15</td>\n",
              "<td class=\"data horizctr\" headers=\"t1p1a2 t1p1b3 t1p1r5\">-0.20</td>\n",
              "<td class=\"data horizctr\" headers=\"t1p1a2 t1p1b4 t1p1r5\">0.09</td>\n",
              "</tr>\n",
              "<tr>\n",
              "<th class=\"stub\" id=\"t1p1r6\">2016-17:Q2</th>\n",
              "<td class=\"data horizctr\" headers=\"t1p1a1 t1p1r6\">2.31</td>\n",
              "<td class=\"data horizctr\" headers=\"t1p1a2 t1p1b1 t1p1r6\">1.99</td>\n",
              "<td class=\"data horizctr\" headers=\"t1p1a2 t1p1b2 t1p1r6\">0.01</td>\n",
              "<td class=\"data horizctr\" headers=\"t1p1a2 t1p1b3 t1p1r6\">0.03</td>\n",
              "<td class=\"data horizctr\" headers=\"t1p1a2 t1p1b4 t1p1r6\">0.28</td>\n",
              "</tr>\n",
              "</tbody>\n",
              "</table>\n",
              "<div class=\"footnotes\">\n",
              "<p>Note: ECI growth is reported as average percent changes at an annual rate for the periods shown; contributions are expressed in percentage points. The contribution of the model's constant term is included in the contribution for trend productivity. Contributions may not sum to total growth because of rounding.</p>\n",
              "</div>\n",
              "</div>\n",
              "<p><strong>References</strong><br/>\n",
              "Aaronson, Daniel, Luojia Hu, Arian Seifoddini, and Daniel G. Sullivan (2015). \"<a href=\"http://www.chicagofed.org/publications/chicago-fed-letter/2015/338\">Changing Labor Force Composition and the Natural Rate of Unemployment</a>,\" Chicago Fed Letter 338. Chicago: Federal Reserve Bank of Chicago, May.</p>\n",
              "<p>Aaronson, Stephanie, Tomaz Cajner, Bruce Fallick, Felix Galbis-Reig, Christopher Smith, and William Wascher (2014). \"<a href=\"http://www.brookings.edu/bpea-articles/labor-force-participation-recent-developments-and-future-prospects\">Labor Force Participation: Recent Developments and Future Prospects</a>,\" <em>Brookings Papers on Economic Activity,</em> Fall, pp. 197-255.</p>\n",
              "<p>Acemoglu, Daron, and David Autor (2011). \"Skills, Tasks and Technologies: Implications for Employment and Earnings,\" in David Card and Orley Ashenfelter, eds., <em>Handbook of Labor Economics</em>, vol. 4B (Amsterdam: North Holland), pp. 1043-171.</p>\n",
              "<p>Andreasen, Martin M., and Jens H.E. Christensen (2016). \"<a href=\"http://www.frbsf.org/economic-research/publications/economic-letter/2016/november/tips-liquidity-and-the-outlook-for-inflation\">TIPS Liquidity and the Outlook for Inflation</a>,\" FRBSF Economic Letter 2016-35. San Francisco: Federal Reserve Bank of San Francisco, November 21.</p>\n",
              "<p>Autor, David, David Dorn, and Gordon Hanson (2013). \"<a href=\"https://ideas.repec.org/a/aea/aecrev/v103y2013i6p2121-68.html\">The China Syndrome: Local Labor Market Effects of Import Competition in the United States</a>,\" <em>American Economic Review,</em> vol. 103 (October), pp. 2121-68.</p>\n",
              "<p>Autor, David H., and Mark G. Duggan (2003). \"<a href=\"https://ideas.repec.org/a/oup/qjecon/v118y2003i1p157-206..html\">The Rise in the Disability Rolls and the Decline in Unemployment</a>,\" <em>Quarterly Journal of Economics</em><em>,</em> vol. 118 (February), pp. 157-205.</p>\n",
              "<p>Barnichon, Regis, and Christian Matthes (2017). \"<a href=\"http://www.frbsf.org/economic-research/publications/economic-letter/2017/august/natural-rate-of-unemployment-over-past-100-years\">The Natural Rate of Unemployment over the Past 100 Years</a>,\" FRBSF Economic Letter 2017-23. San Francisco: Federal Reserve Bank of San Francisco, August 14.</p>\n",
              "<p>Barnichon, Regis, and Geert Mesters (2017). \"<a href=\"http://www.frbsf.org/economic-research/publications/economic-letter/2017/march/how-tight-is-labor-market\">How Tight Is the U.S. Labor Market?</a>\" FRBSF Economic Letter 2017-07. San Francisco: Federal Reserve Bank of San Francisco, March 20.</p>\n",
              "<p>Borio, Claudio, and Andrew Filardo (2007). \"<a href=\"http://www.bis.org/publ/work227.pdf\">Globalization and Inflation: New Cross-Country Evidence on the Global Determinants of Domestic Inflation (PDF)</a>,\" BIS Working Paper 227. Basel, Switzerland: Bank for International Settlements, May.</p>\n",
              "<p>Case, Anne, and Angus Deaton (2017). \"<a href=\"https://www.brookings.edu/wp-content/uploads/2017/08/casetextsp17bpea.pdf\">Mortality and Morbidity in the 21st Century (PDF)</a>,\" <em>Brookings Papers on Economic Activity,</em> Spring, pp. 397-476.</p>\n",
              "<p>Clemens, Jeffery, Joshua D. Gottlieb, and Adam Hale Shapiro (2016). \"<a href=\"http://www.frbsf.org/economic-research/publications/economic-letter/2016/may/medicare-payment-cuts-affect-core-inflation\">Medicare Payment Cuts Continue to Restrain Inflation</a>,\" FRBSF Economic Letter 2016-15. San Francisco: Federal Reserve Bank of San Francisco, May 9.</p>\n",
              "<p>Council of Economic Advisers (2016). \"<a href=\"https://obamawhitehouse.archives.gov/sites/default/files/page/files/20160414_cea_competition_issue_brief.pdf\">Benefits of Competition and Indicators of Market Power (PDF)</a>,\" Council of Economic Advisers Issue Brief. Washington: CEA, April.</p>\n",
              "<p>Curran, Enda, and Michelle Jamrisko (2017). \"Expect a Return to Inflation--But Not as We Once Knew It,\" Bloomberg, May 16, www.bloomberg.com/news/articles/2017-05-16/amazon-effect-means-global-inflation-just-ain-t-what-it-once-was.</p>\n",
              "<p>Daly, Mary C., and Bart Hobijn (2017). \"<a href=\"https://ideas.repec.org/a/aea/aecrev/v107y2017i5p349-52.html\">Composition and Aggregate Real Wage Growth</a>,\" <em>American Economic Review,</em> vol. 107 (May), pp. 349-52.</p>\n",
              "<p>Daly, Mary C., Bart Hobijn, and Benjamin Pyle (2016). \"<a href=\"http://www.frbsf.org/economic-research/publications/economic-letter/2016/march/slow-wage-growth-and-the-labor-market\">What's Up with Wage Growth?</a>\" FRBSF Economic Letter 2016-07. San Francisco: Federal Reserve Bank of San Francisco, March 7.</p>\n",
              "<p>Decker, Ryan A., John Haltiwanger, Ron S. Jarmin, and Javier Miranda (2016). \"<a href=\"http://www.brookings.edu/research/declining-business-dynamism-implications-for-productivity\">Declining Business Dynamism: Implications for Productivity?</a>\" Hutchins Center Working Paper 23. Washington: Hutchins Center on Fiscal and Monetary Policy, Brookings Institution, September.</p>\n",
              "<p>Deming, David J. (forthcoming). \"The Growing Importance of Social Skills in the Labor Market,\" <em>Quarterly Journal of Economics.</em></p>\n",
              "<p>Elsby, Michael W., Bart Hobijn, and Aysegul Sahin (2013). \"<a href=\"http://www.brookings.edu/wp-content/uploads/2016/07/2013b_elsby_labor_share.pdf\">The Decline of the U.S. Labor Share (PDF)</a>,\" <em>Brookings Papers on Economic Activity,</em> Fall, pp. 1-52.</p>\n",
              "<p>Feenstra, Robert C., and David E. Weinstein (2017). \"<a href=\"https://ideas.repec.org/a/ucp/jpolec/doi10.1086-692695.html\">Globalization, Markups, and U.S. Welfare</a>,\" <em>Journal of Political Economy,</em> vol. 125 (August), pp. 1040-74.</p>\n",
              "<p>French, Eric, and Jae Song (2014). \"<a href=\"https://ideas.repec.org/a/aea/aejpol/v6y2014i2p291-337.html\">The Effect of Disability Insurance Receipt on Labor Supply</a>,\" <em>American Economic Journal: Economic Policy</em><em>,</em> vol. 6 (May), pp. 291-337.</p>\n",
              "<p>Hathaway, Ian, and Robert E. Litan (2014). <em><a href=\"https://www.brookings.edu/research/declining-business-dynamism-in-the-united-states-a-look-at-states-and-metros\">Declining Business Dynamism in the United States: A Look at States and Metros</a>.</em> Washington: Brookings Institution, May.</p>\n",
              "<p>Ihrig, Jane, Steven B. Kamin, Deborah Lindner, and Jaime Marquez (2010). \"<a href=\"https://ideas.repec.org/a/bla/intfin/v13y2010i3p343-375.html\">Some Simple Tests of the Globalization and Inflation Hypotheses</a>,\" <em>International Finance,</em> vol. 13 (Winter), pp. 343-75.</p>\n",
              "<p>J.P. Morgan (2017). \"U.S.: Tight State Labor Markets Show Effects on Wage Growth,\" Economic Research Note. New York: J.P. Morgan, August 3.</p>\n",
              "<p>Juselius, Mikael, and Elod Takats (2015). \"<a href=\"http://www.bis.org/publ/work485.htm\">Can Demography Affect Inflation and Monetary Policy?</a>\" BIS Working Paper 485. Basel, Switzerland: Bank for International Settlements, February.</p>\n",
              "<p>Peneva, Ekaterina (2014). \"<a href=\"http://www.federalreserve.gov/econresdata/notes/feds-notes/2014/residual-seasonality-in-core-consumer-price-inflation-20141014.html\">Residual Seasonality in Core Consumer Price Inflation</a>,\" FEDS Notes. Washington: Board of Governors of the Federal Reserve System, October 14.</p>\n",
              "<p>Pierce, Justin R., and Peter K. Schott (2016). \"<a href=\"https://ideas.repec.org/a/aea/aecrev/v106y2016i7p1632-62.html\">The Surprisingly Swift Decline of US Manufacturing Employment</a>,\" <em>American Economic Review,</em> vol. 106 (July), pp. 1632-62.</p>\n",
              "<p>Reifschneider, David, and Peter Tulip (2017). \"<a href=\"https://www.federalreserve.gov/econresdata/feds/2017/files/2017020pap.pdf\">Gauging the Uncertainty of the Economic Outlook Using Historical Forecasting Errors: The Federal Reserve's Approach (PDF)</a>,\" Finance and Economics Discussion Series 2017-020. Washington: Board of Governors of the Federal Reserve System, February.</p>\n",
              "<p>Reifschneider, Dave, William Wascher, and David Wilcox (2015). \"<a href=\"https://ideas.repec.org/a/pal/imfecr/v63y2015i1p71-109.html\">Aggregate Supply in the United States: Recent Developments and Implications for the Conduct of Monetary Policy</a>,\" <em>IMF Economic Review,</em> vol. 63 (May), pp. 71-109.</p>\n",
              "<p>Schanzenbach, Diane Whitmore, Ryan Nunn, Lauren Bauer, and Audrey Breitwieser (2017). <em><a href=\"http://www.hamiltonproject.org/papers/the_closing_of_the_jobs_gap_a_decade_of_recession_and_recovery\">The Closing of the Jobs Gap: A Decade of Recession and Recovery</a>.</em> Washington: Hamilton Project, Brookings Institution, August 4.</p>\n",
              "<p>Trainer, David (2016). \"How the Internet Economy Killed Inflation,\" <em>Forbes,</em> September 28.</p>\n",
              "<p>Valletta, Rob, and Catherine van der List (2015). \"<a href=\"http://www.frbsf.org/economic-research/publications/economic-letter/2015/june/involuntary-part-time-work-labor-market-slack-post-recession-unemployment\">Involuntary Part-Time Work: Here to Stay?</a>\" FRBSF Economic Letter 2015-19. San Francisco: Federal Reserve Bank of San Francisco, June 8.</p>\n",
              "<p>Yellen, Janet L. (2014). \"<a href=\"http://www.federalreserve.gov/newsevents/speech/yellen20140822a.htm\">Labor Market Dynamics and Monetary Policy</a>,\" speech delivered at \"Re-evaluating Labor Market Dynamics,\" a symposium sponsored by the Federal Reserve Bank of Kansas City, held in Jackson Hole, Wyo., August 21-23.</p>\n",
              "<p>-------- (2015). \"<a href=\"http://www.federalreserve.gov/newsevents/speech/yellen20150924a.htm\">Inflation Dynamics and Monetary Policy</a>,\" speech delivered at the Philip Gamble Memorial Lecture, University of Massachusetts, Amherst, Amherst, Mass., September 24.</p>\n",
              "<p>-------- (2016). \"<a href=\"http://www.federalreserve.gov/newsevents/speech/yellen20161014a.htm\">Macroeconomic Research after the Crisis</a>,\" speech delivered at \"The Elusive 'Great' Recovery: Causes and Implications for Future Business Cycle Dynamics,\" 60th annual economic conference sponsored by the Federal Reserve Bank of Boston, Boston, Mass., October 14.</p>\n",
              "<p>Yoon, Jong-Won, Janill Kim, and Jungjin Lee (2014). \"<a href=\"http://www.imf.org/external/pubs/ft/wp/2014/wp14210.pdf\">Impact of Demographic Changes on Inflation and the Macroeconomy (PDF)</a>,\" IMF Working Paper WP/14/210. Washington: International Monetary Fund, November.</p>\n",
              "<hr align=\"left\" size=\"1\" width=\"33%\"/>\n",
              "<p><a name=\"fn1\"></a>1. The Statement on Longer-Run Goals and Monetary Policy Strategy is available on the Board's website at <a href=\"http://www.federalreserve.gov/monetarypolicy/files/FOMC_LongerRunGoals.pdf\">www.federalreserve.gov/monetarypolicy/files/FOMC_LongerRunGoals.pdf</a>. <a href=\"#f1\">Return to text</a></p>\n",
              "<p><a name=\"fn2\"></a>2. The simple model links the current rate of inflation to several factors, including lagged inflation, long-run inflation expectations, labor utilization, and changes in the relative prices of food, energy and imports (Yellen, 2015). Additional details on the model can be found in the appendix. <a href=\"#f2\">Return to text</a></p>\n",
              "<p><a name=\"fn3\"></a>3. In the decomposition procedure, movements in core inflation affect headline inflation one-for-one; as a result, the contributions of food and energy price inflation are defined as each component's price change relative to the core, weighted by its share in total nominal consumer spending. The estimated contribution of movements in import prices is also computed relative to core inflation; thus, if import prices are rising at the same rate as core inflation, they have no estimated effect on the shortfall of overall inflation from 2 percent. In addition, the decomposition takes account of lags in the adjustment of core inflation to movements in resource utilization and other factors. More details on the decomposition procedure can be found in the appendix. <a href=\"#f3\">Return to text</a></p>\n",
              "<p><a name=\"fn4\"></a>4. In the simple model, inflation depends in part on lagged inflation. As a result, an unexplained movement in inflation is predicted to influence inflation beyond the current quarter, but to a degree that fades over time. On average, the model predicts that roughly 85 percent of any unexplained movement will have disappeared after four quarters. <a href=\"#f4\">Return to text</a></p>\n",
              "<p><a name=\"fn5\"></a>5. In general, price changes measured over a few months tend to be noisy, even when measured on a core or trimmed-mean basis. For this reason, the FOMC usually focuses on the growth rate of PCE prices over the previous 12 months, which smooths through the volatility in the monthly price data. This approach also sidesteps distortions in the monthly data associated with residual seasonality; these distortions are likely to hold down month-to-month changes in prices over the balance of the year (see Peneva, 2014). That said, 12‑month rates of inflation will continue to be held down through early 2018 by the unusually weak <em>monthly</em> readings on price changes recorded in early 2017. <a href=\"#f5\">Return to text</a></p>\n",
              "<p><a name=\"fn6\"></a>6. See Reifschneider and Tulip (2017) for details on the calculation of these confidence intervals. <a href=\"#f6\">Return to text</a></p>\n",
              "<p><a name=\"fn7\"></a>7. This statement abstracts from any persistent effects such disturbances might have on real activity, which could have implications for monetary policy. <a href=\"#f7\">Return to text</a></p>\n",
              "<p><a name=\"fn8\"></a>8. For example, Aaronson and others (2015) estimate that increases in the average age and educational attainment of U.S. workers will reduce the sustainable rate of unemployment almost 1/2 percentage point between 2014 and 2020. Barnichon and Mesters (2017) also present evidence that demographic changes have somewhat reduced the structural unemployment rate in the United States in recent years. Relatedly, Yoon, Kim, and Lee (2014) and Juselius and Takats (2015) estimate that ongoing demographic transitions are having modest disinflationary effects in the United States and other developed economies. <a href=\"#f8\">Return to text</a></p>\n",
              "<p><a name=\"fn9\"></a>9. The statistical evidence also suggests that the sustainable rate of unemployment could be higher. As illustrated by the results reported in Reifschneider, Wascher, and Wilcox (2015) and Barnichon and Matthes (2017), standard errors for estimates of the sustainable rate of unemployment are typically at least 1/2 percentage point. Accordingly, if the sustainable rate is estimated to be about 4-1/2 percent, there is roughly a 15 percent probability that the actual value is less than 4 percent; symmetrically, there is a 15 percent probability that it is greater than 5 percent. <a href=\"#f9\">Return to text</a></p>\n",
              "<p><a name=\"fn10\"></a>10. Several years ago, I discussed the interpretation of a wide range of labor market indicators at length (Yellen, 2014). <a href=\"#f10\">Return to text</a></p>\n",
              "<p><a name=\"fn11\"></a>11. The employment-to-population ratio for all persons aged 16 and over has recovered much less than the prime-age ratio since 2007, in large part reflecting the ongoing retirement of the baby boomers and a rise in school attendance rates for young adults aged 20 to 24 (Aaronson and others, 2014). Schanzenbach and others (2017) estimate that the substantial overall employment-to-population gap that opened up in the wake of the financial crisis finally closed in July 2017. <a href=\"#f11\">Return to text</a></p>\n",
              "<p><a name=\"fn12\"></a>12. The labor force participation rate for prime-age men has been declining for decades. Evidence suggests that a portion of the decline is attributable to a reduction in the demand for low-skilled workers resulting from advances in technology and globalization. For a general discussion of the decline in male labor force participation, see Aaronson and others (2014). For a discussion of the role played by technical factors in this decline, see Deming (forthcoming) and Acemoglu and Autor (2011); for a discussion of the role of globalization, see Autor, Dorn, and Hanson (2013) and Pierce and Schott (2016). In addition to these factors, Autor and Duggan (2003) and French and Song (2014) present evidence suggesting that increases in the number of people on disability rolls have also been important. Relatedly, an alarming deterioration in health outcomes among low-education workers, including a rise in deaths related to alcohol, drugs, and suicide, may be having an adverse effect on both male and female employment (Case and Deaton, 2017). <a href=\"#f12\">Return to text</a></p>\n",
              "<p><a name=\"fn13\"></a>13. For a discussion of how secular forces may be influencing the trend share of part-time employment, see Valletta and van der List (2015). <a href=\"#f13\">Return to text</a></p>\n",
              "<p><a name=\"fn14\"></a>14. In contrast to the other wage and compensation measures, the Wage Growth Tracker only measures wage changes for individuals who had a job in both the current month and a year ago. <a href=\"#f14\">Return to text</a></p>\n",
              "<p><a name=\"fn15\"></a>15. For example, predictions from a simple empirical model track recent movements in the employment cost index reasonably well, because the model estimates that the increasing upward pressure on compensation growth from rising labor utilization is being offset by a declining contribution from productivity growth. (See the appendix for further details.) Relatedly, research also suggests that cyclical changes in the composition of the workforce associated with the absorption of new workers with relatively low skills and experience may be currently restraining growth in both aggregate wages and productivity. See Daly and Hobijn (2017) and Daly, Hobijn, and Pyle (2016), who also point to the retirement of baby boomers as a factor holding down wage growth. <a href=\"#f15\">Return to text</a></p>\n",
              "<p><a name=\"fn16\"></a>16. See J.P. Morgan (2017) for more on this analysis. <a href=\"#f16\">Return to text</a></p>\n",
              "<p><a name=\"fn17\"></a>17. As I discussed in a speech one year ago, I view expectations formation as one of the key areas requiring further research by economists (see Yellen, 2016). <a href=\"#f17\">Return to text</a></p>\n",
              "<p><a name=\"fn18\"></a>18. In the Survey of Primary Dealers conducted by the Federal Reserve Bank of New York, the median of respondents' longer-term projections for PCE inflation have been essentially flat at 2 percent since the survey began in 2011. Similarly, in the Blue Chip Financial Indicators survey, which solicits the views of a large number of financial firms (as well as a few other institutions) about the extended outlook every June and December, the median of long-run expectations for GDP price inflation has stayed close to 2.1 percent over the past six years. Comparisons of results from these surveys to those reported in the Survey of Professional Forecasters (as well as surveys of households) are somewhat complicated by differences in the projection period used. For example, some surveys include the low rates of inflation expected over the next few years in the calculation of projected longer-run averages, while other surveys exclude them. <a href=\"#f18\">Return to text</a></p>\n",
              "<p><a name=\"fn19\"></a>19. Expected inflation over the next 5 to 10 years as reported in the Michigan survey runs appreciably above PCE price inflation on average since the mid-1990s, perhaps because households are less informed about actual inflation developments than professional forecasters and financial firms. For this reason, it may be best to focus on changes over time in the Michigan measure, not on the level. <a href=\"#f19\">Return to text</a></p>\n",
              "<p><a name=\"fn20\"></a>20. In addition to monitoring survey measures of expected inflation, Federal Reserve staff also use statistical techniques to try to directly estimate possible movements over time in the underlying long-run trend in inflation, using data for actual inflation and other series, including resource utilization. Many of these statistical estimates suggest that the underlying trend in PCE inflation is currently somewhat below 2 percent. Econometrically, however, it is extremely difficult if not impossible to disentangle estimates of the underlying trend in PCE inflation from estimates of the sustainable rate of unemployment. To be consistent with the data, the higher one's estimate of trend inflation or expected long-run inflation, the lower must be one's estimate of the sustainable unemployment rate, at least over the medium run. <a href=\"#f20\">Return to text</a></p>\n",
              "<p><a name=\"fn21\"></a>21. For example, Andreasen and Christensen (2016) show that once TIPS liquidity premiums are taken into account, the model-implied one-year inflation expectation becomes more stable and shows a smaller decline since 2013. In addition, quotes on inflation derivatives suggest that most of the decline in inflation compensation over this period is associated with investor perceptions of reduced risks of above-target inflation outcomes rather than increased risks of below-target inflation outcomes. <a href=\"#f21\">Return to text</a></p>\n",
              "<p><a name=\"fn22\"></a>22. Personal consumption expenditures include all medical services, including those paid by Medicare and Medicaid; prices for the latter may be viewed as \"administered\" because they are essentially set by the government. The formulas used to set Medicare prices were adjusted by the 2010 Affordable Care Act and additional legislation passed in 2015, resulting in smaller increases in prices for the same increase in costs than would have been the case in the prior decade. In addition, Medicaid prices have probably been restrained somewhat by budget pressures on state governments. Aside from these direct influences of government policy on healthcare prices, some research suggests that lower Medicare prices tend to lead to lower negotiated prices by private insurers as well (see Clemens, Gottlieb, and Shapiro, 2016). <a href=\"#f22\">Return to text</a></p>\n",
              "<p><a name=\"fn23\"></a>23. In an early study, Borio and Filardo (2007) reported results suggesting that global economic slack adds considerable explanatory power to reduced-form inflation equations (such as the one discussed in the appendix), and that its role has been growing over time. However, Ihrig, Kamin, Lindner, and Marquez (2010) subsequently argued that the estimated link was not robust to alternative measures of global resource utilization. Federal Reserve Board staff have updated this analysis using data through early 2017 and confirmed that global slack does not appear to exert an appreciable direct effect on domestic inflation in the United States and most other advanced economies. <a href=\"#f23\">Return to text</a></p>\n",
              "<p><a name=\"fn24\"></a>24. Using sector-level data, Elsby, Hobijn, and Sahin (2013) estimate the contributions of offshoring, the substitution of capital for low-skilled labor, and several other factors on the aggregate U.S. labor share of income, and find that only offshoring has been important. They also conclude that the decline in the labor share since the late 1980s has been overstated as a result of statistical measurement problems. In contrast to the influence of globalization on the U.S. labor share, Feenstra and Weinstein (2017) find that the influence of increased globalization on price markups in the United States has been modest. <a href=\"#f24\">Return to text</a></p>\n",
              "<p><a name=\"fn25\"></a>25. For more on the inflation implications of innovation in the retail sector, see Curran and Jamrisko (2017) and Trainer (2016). <a href=\"#f25\">Return to text</a></p>\n",
              "<p><a name=\"fn26\"></a>26. For a review of changes over time in the competitive structure of the overall economy, see Council of Economic Advisers (2016). For a discussion of the evidence for, and some of the implications of, changes in the dynamism of the economy, see Hathaway and Litan (2014) and Decker and others (2016). <a href=\"#f26\">Return to text</a></p>\n",
              "<p><a name=\"fn27\"></a>27. The median of FOMC participants' projections of the longer-run unemployment rate has declined almost a full percentage point over the past five years; the revision in the long-run consensus forecast reported in the Blue Chip Survey between October 2012 and March 2017 was slightly larger. <a href=\"#f27\">Return to text</a></p>\n",
              "<p><a name=\"fn28\"></a>28. It might be thought that the FOMC could mitigate this problem by raising the federal funds rate higher than might otherwise be called for while the economy continues to expand in order to increase the extent to which interest rates could be cut later should a recession occur. But this strategy would be counterproductive, because it would only serve to weaken economic activity and push down inflation before the recession. <a href=\"#f28\">Return to text</a></p>\n",
              "<p><a name=\"fn29\"></a>29. Although the data used in the decomposition analysis have been revised and extended, the specification of the model and the estimation period are the same as that discussed in a speech I gave two years ago (Yellen, 2015). As a result, the estimated coefficients of the model are essentially unchanged. Extending the estimation period through 2017:Q2 has little effect on the estimated coefficients and the decomposition estimates. <a href=\"#f29\">Return to text</a></p>\n",
              "<p><a name=\"fn30\"></a>30. This measure of core import prices is constructed by Board staff using published and unpublished data provided by the Bureau of Economic Analysis and the Bureau of Labor Statistics. <a href=\"#f30\">Return to text</a></p>\n",
              "<p><a name=\"fn31\"></a>31. The information on participants' forecasts provided at the September 20, 2017, press conference is available on the Board's website at <a href=\"https://www.federalreserve.gov/monetarypolicy/files/fomcprojtabl20170920.pdf\">https://www.federalreserve.gov/monetarypolicy/files/fomcprojtabl20170920.pdf</a>. <a href=\"#f31\">Return to text</a></p>\n",
              "<p><a name=\"fn32\"></a>32. The level of core import prices, expressed relative to core consumer prices, displayed a modest downward trend from 1990 through 2001 but since then has displayed little persistent trend, particularly if one controls for shifts related to recent changes in the real exchange rate. If the post-2001 pattern persists in coming years, then $$ {RPIM}_t$$ would be expected to converge to zero within a few quarters and core PCE inflation to converge to 2 percent within two or three years, assuming that the unemployment rate remains near 4-1/2 percent (the median of the longer-run projections provided by FOMC participants) and there are no further shocks to the exchange rate and other factors. If, however, core import prices were expected to resume trending down relative to consumer prices, then the model as specified would imply that the unemployment rate consistent with inflation stabilizing at 2 percent in the longer run would be somewhat lower than 4-1/2 percent. <a href=\"#f32\">Return to text</a></p>\n",
              "<p><a name=\"fn33\"></a>33. The ECI series used here is obtained from a ratio splice of the SIC- and NAICS-based indexes; the SIC-based index is used before 2001 and the NAICS-based index used thereafter. (All data used in the model were current as of September 1, 2017.) <a href=\"#f33\">Return to text</a></p>\n",
              "<p><a name=\"fn34\"></a>34. The estimation procedure imposes the joint restriction that the sum of the coefficients on $$ \\pi_{t-1}^e$$ and the lagged ECI growth terms are equal to 1, and that the coefficients on $$ \\pi_{t-1}^e$$ and $$ {MA\\_PROD}_t$$ are equal. This joint restriction receives a $$ p$$ value of 0.57. <a href=\"#f34\">Return to text</a></p>\n",
              "<p><a name=\"fn35\"></a>35. The low-pass component is obtained from a band-pass filter. The filter width and cutoffs are set equal to the values used in Douglas Staiger, James Stock, and Mark Watson (2001), \"Prices, Wages, and the U.S. NAIRU in the 1990s,\" in Alan Krueger and Robert Solow, eds., <em>The Roaring Nineties: Can Full Employment Be Sustained?</em> (New York: Russell Sage Foundation and Century Foundation Press), pp. 3‑60. Before the series' starting point in 1947:Q2, actual productivity growth is padded with an ARIMA(4,1,0) model; after its 2017:Q2 endpoint, the series is padded with the CBO's January 2017 forecast of average nonfarm business trend productivity growth from 2017 to 2027 (which is 1.67 percent in log differences) and with the 2027 value of the CBO forecast (1.77 percent) thereafter. <a href=\"#f35\">Return to text</a></p>\n",
              "<div class=\"panel panel-attachments col-xs-12 col-sm-8 col-md-8\">\n",
              "<div class=\"panel-body\">\n",
              "<ul class=\"list-unstyled\">\n",
              "<li class=\"list__icon\">\n",
              "<a data-click=\"false\" data-target=\"#fig1\" href=\"#\"><span class=\"icon-figures icon icon__sm\"></span>View speech charts and figures</a>\n",
              "</li>\n",
              "<p><br/>\n",
              "<a href=\"/newsevents/speech/yellen20170926a1.htm\">Accessible Version</a></p>\n",
              "</ul>\n",
              "</div>\n",
              "</div>\n",
              "</div>\n",
              "<div class=\"col-xs-12 col-sm-4 col-md-4\">\n",
              "</div>\n",
              "</div>\n",
              "</div>\n",
              "<div class=\"row\">\n",
              "<div class=\"lastUpdate\" id=\"lastUpdate\">Last Update:\n",
              "                \n",
              "                            September 26, 2017\n",
              "                        \n",
              "            </div>\n",
              "</div>\n",
              "</div>\n",
              "<a class=\"icon__backTop icon-backtop\" href=\"#\" id=\"back-top\" title=\"Scroll To Top\"><span class=\"sr-only\">Back to Top</span></a>\n",
              "<footer class=\"container footer\">\n",
              "<div class=\"row footer__content\">\n",
              "<div class=\"col-xs-12 col-sm-4\">\n",
              "<h6 class=\"footer__heading\"><span class=\"text-uppercase\">Board of Governors</span> <em>of the</em> <span class=\"text-uppercase\">Federal Reserve System</span></h6>\n",
              "<ul class=\"list-unstyled\">\n",
              "<li class=\"footer__listItem\"><a class=\"footer__link\" href=\"/aboutthefed.htm\">About the Fed</a></li><li class=\"footer__listItem\"><a class=\"footer__link\" href=\"/newsevents.htm\">News &amp; Events</a></li><li class=\"footer__listItem\"><a class=\"footer__link\" href=\"/monetarypolicy.htm\">Monetary Policy</a></li><li class=\"footer__listItem\"><a class=\"footer__link\" href=\"/supervisionreg.htm\">Supervision &amp; Regulation</a></li><li class=\"footer__listItem\"><a class=\"footer__link\" href=\"/financial-stability.htm\">Financial Stability</a></li><li class=\"footer__listItem\"><a class=\"footer__link\" href=\"/paymentsystems.htm\">Payment Systems</a></li><li class=\"footer__listItem\"><a class=\"footer__link\" href=\"/econres.htm\">Economic Research</a></li><li class=\"footer__listItem\"><a class=\"footer__link\" href=\"/data.htm\">Data</a></li><li class=\"footer__listItem\"><a class=\"footer__link\" href=\"/consumerscommunities.htm\">Consumers &amp; Communities</a></li><li class=\"footer__listItem\"><a class=\"footer__link\" href=\"/instagram.htm\">Linktree</a></li>\n",
              "</ul>\n",
              "</div>\n",
              "<div class=\"col-xs-12 col-sm-4\">\n",
              "<h6 class=\"text-uppercase footer__heading\">Tools and Information</h6>\n",
              "<ul class=\"list-unstyled\">\n",
              "<li class=\"footer__listItem\"><a class=\"footer__link\" href=\"/aboutthefed/contact-us-topics.htm\">Contact</a></li>\n",
              "<li class=\"footer__listItem\"><a class=\"footer__link\" href=\"/publications.htm\">Publications</a></li>\n",
              "<li class=\"footer__listItem\"><a class=\"footer__link\" href=\"/foia/about_foia.htm\">Freedom of Information (FOIA)</a></li>\n",
              "<li class=\"footer__listItem\"><a class=\"footer__link\" href=\"https://oig.federalreserve.gov/\">Office of Inspector General</a></li>\n",
              "<li class=\"footer__listItem\"><a class=\"footer__link\" href=\"/publications/annual-report.htm\">Budget &amp; Performance</a> | <a class=\"footer__link\" href=\"/regreform/audit.htm\">Audit</a></li>\n",
              "<li class=\"footer__listItem\"><a class=\"footer__link\" href=\"/eeo.htm\">No FEAR Act</a></li>\n",
              "<li class=\"footer__listItem\"><a class=\"footer__link\" href=\"/espanol.htm\">Español</a></li>\n",
              "<li class=\"footer__listItem\"><a class=\"footer__link\" href=\"/website-linking-policies.htm\">Website Policies</a>  | <a class=\"footer__link\" href=\"/privacy.htm\">Privacy Program</a></li>\n",
              "<li class=\"footer__listItem\"><a class=\"footer__link\" href=\"/accessibility.htm\">Accessibility</a></li>\n",
              "</ul>\n",
              "</div>\n",
              "<div class=\"col-xs-12 col-sm-4\">\n",
              "<div class=\"footer__social\">\n",
              "<h6 class=\"text-uppercase footer__heading footer__heading--social\">Stay Connected</h6>\n",
              "<a class=\"icon__md icon footer__btn icon-facebook-color\" href=\"https://www.facebook.com/federalreserve\"><span class=\"sr-only\">Federal Reserve Facebook Page</span></a>\n",
              "<a class=\"icon__md icon footer__btn icon-instagram\" href=\"https://www.instagram.com/federalreserveboard/\"><span class=\"sr-only\">Federal Reserve Instagram Page</span></a>\n",
              "<a class=\"icon__md icon footer__btn icon-youtube-color\" href=\"https://www.youtube.com/federalreserve\"><span class=\"sr-only\">Federal Reserve YouTube Page</span></a>\n",
              "<a class=\"icon__md icon footer__btn icon-flickr-color\" href=\"https://www.flickr.com/photos/federalreserve/\"><span class=\"sr-only\">Federal Reserve Flickr Page</span></a>\n",
              "<a class=\"icon__md icon footer__btn icon-linkedin-color\" href=\"https://www.linkedin.com/company/federal-reserve-board\"><span class=\"sr-only\">Federal Reserve LinkedIn Page</span></a>\n",
              "<a class=\"icon__md icon footer__btn icon-threads\" href=\"https://www.threads.net/@federalreserveboard\"><span class=\"sr-only\">Federal Reserve Threads Page</span></a>\n",
              "<a class=\"icon__md icon footer__btn icon-twitter-color\" href=\"https://twitter.com/federalreserve\"><span class=\"sr-only\">Link to Federal Reserve Twitter Page</span></a>\n",
              "<a class=\"icon__md icon footer__btn icon-rss-color\" href=\"/feeds/feeds.htm\"><span class=\"sr-only\">Subscribe to RSS</span></a>\n",
              "<a class=\"icon__md icon footer__btn icon-email-color\" href=\"/subscribe.htm\"><span class=\"sr-only\">Subscribe to Email</span></a>\n",
              "</div>\n",
              "<a href=\"https://www.usa.gov/\" target=\"_blank\" title=\"Link to USA.gov\">\n",
              "<img alt=\"Link to USA.gov\" class=\"footer__image\" src=\"/images/USAGov%402x.png\"/>\n",
              "</a>\n",
              "<a href=\"/open/open.htm\" target=\"_blank\" title=\"Link to Open.gov\">\n",
              "<img alt=\"Link to Open.gov\" class=\"footer__image\" src=\"/images/OpenGov%402x.png\"/>\n",
              "</a>\n",
              "</div>\n",
              "</div>\n",
              "<div class=\"row\">\n",
              "<div class=\"col-xs-12 footer__footer\">\n",
              "<p class=\"text-uppercase footer__text footer__text--left\">Board of Governors <em class=\"text-lowercase\">of the</em> Federal Reserve System</p>\n",
              "<p class=\"footer__text footer__text--right\">20th Street and Constitution Avenue N.W., Washington, DC 20551</p>\n",
              "</div>\n",
              "</div>\n",
              "</footer>\n",
              "<script src=\"/js/jquery.min.js\" type=\"text/javascript\"></script>\n",
              "<script src=\"/js/bootstrap.min.js\" type=\"text/javascript\"></script>\n",
              "<script src=\"/js/scripts.js\" type=\"text/javascript\"></script>\n",
              "<script src=\"/js/modal.js\" type=\"text/javascript\"></script>\n",
              "<script src=\"/js/sticky-tables.js\" type=\"text/javascript\"></script>\n",
              "<script src=\"/js/slides/ekko-lightbox.min.js\" type=\"text/javascript\"></script>\n",
              "<script src=\"/js/t4-nav-controller.js\" type=\"text/javascript\"></script>\n",
              "<script type=\"text/javascript\">\n",
              "                $(document).ready(function($) {\n",
              "                    // delegate calls to data-toggle=\"lightbox\"\n",
              "                    $(document).delegate('*[data-toggle=\"lightbox\"]:not([data-gallery=\"navigateTo\"])', 'click', function(event) {\n",
              "                        event.preventDefault();\n",
              "                        $(this).ekkoLightbox();\n",
              "                    });\n",
              "                    $('a[data-click=\"false\"]').click(function(e) {\n",
              "                        e.preventDefault();\n",
              "                        var target = $(this).data('target');\n",
              "                        $(target).click();\n",
              "                    });\n",
              "                });\n",
              "            </script>\n",
              "<!-- /newsevents/speech/yellen20170926a1.htm-->\n",
              "<script>(function(){var js = \"window['__CF$cv$params']={r:'82db41730f1e1265',t:'MTcwMTI2NTE1NS4wOTcwMDA='};_cpo=document.createElement('script');_cpo.nonce='',_cpo.src='/cdn-cgi/challenge-platform/scripts/jsd/main.js',document.getElementsByTagName('head')[0].appendChild(_cpo);\";var _0xh = document.createElement('iframe');_0xh.height = 1;_0xh.width = 1;_0xh.style.position = 'absolute';_0xh.style.top = 0;_0xh.style.left = 0;_0xh.style.border = 'none';_0xh.style.visibility = 'hidden';document.body.appendChild(_0xh);function handler() {var _0xi = _0xh.contentDocument || _0xh.contentWindow.document;if (_0xi) {var _0xj = _0xi.createElement('script');_0xj.innerHTML = js;_0xi.getElementsByTagName('head')[0].appendChild(_0xj);}}if (document.readyState !== 'loading') {handler();} else if (window.addEventListener) {document.addEventListener('DOMContentLoaded', handler);} else {var prev = document.onreadystatechange || function () {};document.onreadystatechange = function (e) {prev(e);if (document.readyState !== 'loading') {document.onreadystatechange = prev;handler();}};}})();</script></body>\n",
              "</html>"
            ]
          },
          "metadata": {},
          "execution_count": 8
        }
      ]
    },
    {
      "cell_type": "code",
      "metadata": {
        "id": "xi5fFmsBIUP1",
        "colab": {
          "base_uri": "https://localhost:8080/"
        },
        "outputId": "0e9c8165-66fd-4149-e9fe-ac927aaaeec3"
      },
      "source": [
        "# Extract text from all paragraph objects.\n",
        "paragraphs = soup.find_all('p')\n",
        "paragraphs = [p.text for p in paragraphs]\n",
        "print(len(paragraphs))"
      ],
      "execution_count": null,
      "outputs": [
        {
          "output_type": "stream",
          "name": "stdout",
          "text": [
            "162\n"
          ]
        }
      ]
    },
    {
      "cell_type": "code",
      "metadata": {
        "id": "_KWZBo3X-4pI",
        "colab": {
          "base_uri": "https://localhost:8080/"
        },
        "outputId": "59964654-d418-4c2a-81d9-0c99e342707c"
      },
      "source": [
        "# Join the paragraphs into a speech and identify references section.\n",
        "speech = ' '.join(paragraphs)\n",
        "print(speech.split('References')[1][:50])"
      ],
      "execution_count": null,
      "outputs": [
        {
          "output_type": "stream",
          "name": "stdout",
          "text": [
            "\r\n",
            "Aaronson, Daniel, Luojia Hu, Arian Seifoddini, a\n"
          ]
        }
      ]
    },
    {
      "cell_type": "code",
      "metadata": {
        "id": "kkqu0ri3IbqQ"
      },
      "source": [
        "# Remove references section.\n",
        "speech = speech.split('References')[0]"
      ],
      "execution_count": null,
      "outputs": []
    },
    {
      "cell_type": "markdown",
      "metadata": {
        "id": "tbIIb7VGIg8q"
      },
      "source": [
        "#### **Compute relative frequency of term inflation in text.**"
      ]
    },
    {
      "cell_type": "code",
      "metadata": {
        "id": "xApcC842_N6w",
        "colab": {
          "base_uri": "https://localhost:8080/"
        },
        "outputId": "9934d7ec-fba4-4b35-e7df-e690fe05afac"
      },
      "source": [
        "# Tokenize the speech into words.\n",
        "wordTokens = nltk.word_tokenize(speech)\n",
        "\n",
        "# Convert characters to lower case.\n",
        "wordTokens = [w.lower() for w in wordTokens]\n",
        "\n",
        "# Compute the frequency distribution of word use.\n",
        "fdist = nltk.FreqDist(wordTokens)\n",
        "\n",
        "# Count the number of uses of inflation and of all words.\n",
        "speechLength = len(wordTokens)\n",
        "inflationCount = fdist['inflation']\n",
        "\n",
        "# Compute and print inflation intensity.\n",
        "print(100.0*inflationCount/speechLength)"
      ],
      "execution_count": null,
      "outputs": [
        {
          "output_type": "stream",
          "name": "stdout",
          "text": [
            "2.0097136158097473\n"
          ]
        }
      ]
    },
    {
      "cell_type": "code",
      "metadata": {
        "id": "QpIT45Iq_Woq",
        "colab": {
          "base_uri": "https://localhost:8080/"
        },
        "outputId": "d09452bb-0016-47f0-d0ab-177024e9ec3e"
      },
      "source": [
        "# Remove stop words.\n",
        "stops = stopwords.words(\"english\")\n",
        "wordTokens = [word for word in wordTokens if word not in stops]\n",
        "fdist = nltk.FreqDist(wordTokens)\n",
        "\n",
        "# Print modified inflation intensity.\n",
        "print(100.0*fdist['inflation']/len(wordTokens))"
      ],
      "execution_count": null,
      "outputs": [
        {
          "output_type": "stream",
          "name": "stdout",
          "text": [
            "3.0698388334612434\n"
          ]
        }
      ]
    },
    {
      "cell_type": "markdown",
      "metadata": {
        "id": "A-w5-7Z31vyc"
      },
      "source": [
        "# **Example 8: Text Classification**"
      ]
    },
    {
      "cell_type": "markdown",
      "metadata": {
        "id": "Khs-F0vg5nwp"
      },
      "source": [
        "This example imports classes from `nltk`, `re`,\n",
        "`numpy`, and `sklearn`. It then pulls Reuters articles about corn and wheat. The articles are separated into train and tests sets and the text is cleaned. We then 1) compute a Tfidf vectorization of the text corpus; and 2) use the word vectors to estimate a naive bayes and logistic model. We show that the logistic model performs better both in and out of sample."
      ]
    },
    {
      "cell_type": "markdown",
      "metadata": {
        "id": "ONPpkDzVJpEC"
      },
      "source": [
        "#### **Import modules**."
      ]
    },
    {
      "cell_type": "code",
      "metadata": {
        "id": "5PT4VSe6BoIG"
      },
      "source": [
        "import nltk\n",
        "from nltk.corpus import reuters, stopwords\n",
        "import re\n",
        "import numpy as np\n",
        "from sklearn.feature_extraction.text import CountVectorizer\n",
        "from sklearn.naive_bayes import GaussianNB\n",
        "from sklearn.metrics import confusion_matrix"
      ],
      "execution_count": null,
      "outputs": []
    },
    {
      "cell_type": "markdown",
      "metadata": {
        "id": "SQ1aOWsGJyRe"
      },
      "source": [
        "#### **Create train and test sets.**"
      ]
    },
    {
      "cell_type": "code",
      "metadata": {
        "id": "QqYZXOcJ1067",
        "colab": {
          "base_uri": "https://localhost:8080/"
        },
        "outputId": "b2be19e6-17f8-420f-f602-cd1f0b357daa"
      },
      "source": [
        "# Load reuters categories.\n",
        "print(reuters.categories())\n",
        "\n",
        "# Load silver and gold categories.\n",
        "corn = reuters.fileids(['corn'])\n",
        "wheat = reuters.fileids(['wheat'])\n",
        "\n",
        "# Drop common ids.\n",
        "common = set(corn).intersection(wheat)\n",
        "corn = [id for id in corn if id not in common]\n",
        "wheat = [id for id in wheat if id not in common]\n",
        "\n",
        "# Separate test and train files.\n",
        "train_corn_ids = [train for train in corn if train.find('train')>-1]\n",
        "test_corn_ids = [test for test in corn if test.find('test')>-1]\n",
        "\n",
        "train_wheat_ids = [train for train in wheat if train.find('train')>-1]\n",
        "test_wheat_ids = [test for test in wheat if test.find('test')>-1]"
      ],
      "execution_count": null,
      "outputs": [
        {
          "output_type": "stream",
          "name": "stdout",
          "text": [
            "['acq', 'alum', 'barley', 'bop', 'carcass', 'castor-oil', 'cocoa', 'coconut', 'coconut-oil', 'coffee', 'copper', 'copra-cake', 'corn', 'cotton', 'cotton-oil', 'cpi', 'cpu', 'crude', 'dfl', 'dlr', 'dmk', 'earn', 'fuel', 'gas', 'gnp', 'gold', 'grain', 'groundnut', 'groundnut-oil', 'heat', 'hog', 'housing', 'income', 'instal-debt', 'interest', 'ipi', 'iron-steel', 'jet', 'jobs', 'l-cattle', 'lead', 'lei', 'lin-oil', 'livestock', 'lumber', 'meal-feed', 'money-fx', 'money-supply', 'naphtha', 'nat-gas', 'nickel', 'nkr', 'nzdlr', 'oat', 'oilseed', 'orange', 'palladium', 'palm-oil', 'palmkernel', 'pet-chem', 'platinum', 'potato', 'propane', 'rand', 'rape-oil', 'rapeseed', 'reserves', 'retail', 'rice', 'rubber', 'rye', 'ship', 'silver', 'sorghum', 'soy-meal', 'soy-oil', 'soybean', 'strategic-metal', 'sugar', 'sun-meal', 'sun-oil', 'sunseed', 'tea', 'tin', 'trade', 'veg-oil', 'wheat', 'wpi', 'yen', 'zinc']\n"
          ]
        }
      ]
    },
    {
      "cell_type": "code",
      "metadata": {
        "id": "W0hNcelBBzQR"
      },
      "source": [
        "# Define empty lists for targets.\n",
        "train_corn_target = []\n",
        "test_corn_target = []\n",
        "train_wheat_target = []\n",
        "test_wheat_target = []\n",
        "\n",
        "# Define empty lists for features.\n",
        "train_corn = []\n",
        "test_corn = []\n",
        "train_wheat = []\n",
        "test_wheat = []\n",
        "\n",
        "# Define function to load train data.\n",
        "def load_train_data():\n",
        "\ttrain = []\n",
        "\ttrain_target = []\n",
        "\tfor id in train_corn_ids:\n",
        "\t\ttrain_corn_target.append(0)\n",
        "\t\ttrain_corn.append(reuters.raw(id))\n",
        "\tfor id in train_wheat_ids:\n",
        "\t\ttrain_wheat_target.append(1)\n",
        "\t\ttrain_wheat.append(reuters.raw(id))\n",
        "\ttrain = train_corn + train_wheat\n",
        "\ttrain_target = train_corn_target + train_wheat_target\n",
        "\treturn train, train_target\n",
        "\n",
        "# Define function to load test data.\n",
        "def load_test_data():\n",
        "\tfor id in test_corn_ids:\n",
        "\t\ttest_corn_target.append(0)\n",
        "\t\ttest_corn.append(reuters.raw(id))\n",
        "\tfor id in test_wheat_ids:\n",
        "\t\ttest_wheat_target.append(1)\n",
        "\t\ttest_wheat.append(reuters.raw(id))\n",
        "\ttest = test_corn + test_wheat\n",
        "\ttest_target = test_corn_target + test_wheat_target\n",
        "\treturn test, test_target\n",
        "\n",
        "# Load train and test data.\n",
        "train, train_target = load_train_data()\n",
        "test, test_target = load_test_data()"
      ],
      "execution_count": null,
      "outputs": []
    },
    {
      "cell_type": "markdown",
      "metadata": {
        "id": "APty3u7LJ1vJ"
      },
      "source": [
        "#### **Clean text.**"
      ]
    },
    {
      "cell_type": "code",
      "metadata": {
        "id": "gNHgHOKuCJ4s"
      },
      "source": [
        "# Remove special characters and stopwords.\n",
        "def preprocess_text(text):\n",
        "  try:\n",
        "    text = re.sub('[^A-Za-z]+', ' ', text)\n",
        "    wordTokens = nltk.word_tokenize(text)\n",
        "    wordTokens = [token.lower() for token in wordTokens if len(token)>1]\n",
        "    stops = set(stopwords.words(\"english\"))\n",
        "    wordTokens = [token for token in wordTokens if token not in stops]\n",
        "    cleanedText = ' '.join(wordTokens)\n",
        "  except:\n",
        "    cleanedText = ''\n",
        "  return cleanedText\n",
        "\n",
        "# Pre-process data.\n",
        "train = [preprocess_text(doc) for doc in train]\n",
        "test = [preprocess_text(doc) for doc in test]\n",
        "\n",
        "# Drop unusable documents.\n",
        "train = [doc for doc in train if len(doc)>0]\n",
        "test = [doc for doc in test if len(doc)>0]"
      ],
      "execution_count": null,
      "outputs": []
    },
    {
      "cell_type": "markdown",
      "metadata": {
        "id": "QD2smpfGJ7X7"
      },
      "source": [
        "#### **Construct feature matrix.**"
      ]
    },
    {
      "cell_type": "code",
      "metadata": {
        "id": "w3MTjneRCXZS"
      },
      "source": [
        "# Extract features. Use train and test.\n",
        "vectorizer = CountVectorizer()\n",
        "counts = vectorizer.fit_transform(np.hstack([train,test])).toarray()\n",
        "train_counts = counts[:len(train),:]\n",
        "test_counts = counts[len(train):,:]"
      ],
      "execution_count": null,
      "outputs": []
    },
    {
      "cell_type": "markdown",
      "metadata": {
        "id": "dCgzJiITD6g4"
      },
      "source": [
        "#### **Train Naive Bayes classifier.**"
      ]
    },
    {
      "cell_type": "code",
      "metadata": {
        "id": "s5v3Jy9xD5Vv"
      },
      "source": [
        "# Train Naive Bayes classifier.\n",
        "nbm = GaussianNB()\n",
        "nbm.fit(train_counts, train_target)\n",
        "\n",
        "# Predict train and test set.\n",
        "train_pred = nbm.predict(train_counts)\n",
        "test_pred = nbm.predict(test_counts)"
      ],
      "execution_count": null,
      "outputs": []
    },
    {
      "cell_type": "code",
      "metadata": {
        "id": "Y7fJrG0EDk_3",
        "colab": {
          "base_uri": "https://localhost:8080/"
        },
        "outputId": "841ca562-b400-4305-dcb1-74c6559de77c"
      },
      "source": [
        "# Compute train data confusion matrix.\n",
        "confusion_matrix(train_target, train_pred)"
      ],
      "execution_count": null,
      "outputs": [
        {
          "output_type": "execute_result",
          "data": {
            "text/plain": [
              "array([[122,   0],\n",
              "       [  3, 150]])"
            ]
          },
          "metadata": {},
          "execution_count": 24
        }
      ]
    },
    {
      "cell_type": "code",
      "metadata": {
        "id": "1QC--n3bDiDt",
        "colab": {
          "base_uri": "https://localhost:8080/"
        },
        "outputId": "30349ae8-1d4d-426c-8959-79b21332140b"
      },
      "source": [
        "# Compute test data confusion matrix.\n",
        "confusion_matrix(test_target, test_pred)"
      ],
      "execution_count": null,
      "outputs": [
        {
          "output_type": "execute_result",
          "data": {
            "text/plain": [
              "array([[22, 12],\n",
              "       [ 6, 43]])"
            ]
          },
          "metadata": {},
          "execution_count": 25
        }
      ]
    },
    {
      "cell_type": "markdown",
      "metadata": {
        "id": "MyvTn7NCEWXY"
      },
      "source": [
        "#### **Train deep learning classifier.**"
      ]
    },
    {
      "cell_type": "code",
      "metadata": {
        "id": "vVcKiXYUZPVx"
      },
      "source": [
        "from keras.layers import Dense, Dropout\n",
        "from keras.models import Sequential\n",
        "from keras.utils import to_categorical"
      ],
      "execution_count": null,
      "outputs": []
    },
    {
      "cell_type": "code",
      "metadata": {
        "id": "p4vmGj4FDY8B",
        "colab": {
          "base_uri": "https://localhost:8080/"
        },
        "outputId": "69845825-3605-4311-ec25-e2e76adb7709"
      },
      "source": [
        "# Convert training target to categorical variable.\n",
        "train_target = to_categorical(train_target)\n",
        "\n",
        "# Define dense neural network.\n",
        "model = Sequential()\n",
        "model.add(Dense(32, activation='relu'))\n",
        "model.add(Dropout(0.30))\n",
        "model.add(Dense(16, activation='relu'))\n",
        "model.add(Dropout(0.30))\n",
        "model.add(Dense(2, activation='softmax'))\n",
        "\n",
        "# Compile network.\n",
        "model.compile(optimizer='adam',\n",
        "              loss='binary_crossentropy',\n",
        "              metrics=['acc'])\n",
        "\n",
        "# Train model.\n",
        "history = model.fit(train_counts, train_target,\n",
        " \t\t\t\tepochs=20, batch_size=32, shuffle=True,\n",
        " \t\t\t\tvalidation_split=0.20)"
      ],
      "execution_count": null,
      "outputs": [
        {
          "output_type": "stream",
          "name": "stdout",
          "text": [
            "Epoch 1/20\n",
            "7/7 [==============================] - 2s 117ms/step - loss: 0.6860 - acc: 0.5727 - val_loss: 0.8167 - val_acc: 0.0000e+00\n",
            "Epoch 2/20\n",
            "7/7 [==============================] - 0s 19ms/step - loss: 0.6139 - acc: 0.7000 - val_loss: 0.7491 - val_acc: 0.3636\n",
            "Epoch 3/20\n",
            "7/7 [==============================] - 0s 19ms/step - loss: 0.5287 - acc: 0.8227 - val_loss: 0.7407 - val_acc: 0.5091\n",
            "Epoch 4/20\n",
            "7/7 [==============================] - 0s 19ms/step - loss: 0.4642 - acc: 0.8909 - val_loss: 0.7320 - val_acc: 0.5636\n",
            "Epoch 5/20\n",
            "7/7 [==============================] - 0s 19ms/step - loss: 0.4104 - acc: 0.9000 - val_loss: 0.6904 - val_acc: 0.6000\n",
            "Epoch 6/20\n",
            "7/7 [==============================] - 0s 19ms/step - loss: 0.3466 - acc: 0.9409 - val_loss: 0.6206 - val_acc: 0.6909\n",
            "Epoch 7/20\n",
            "7/7 [==============================] - 0s 15ms/step - loss: 0.2925 - acc: 0.9818 - val_loss: 0.5876 - val_acc: 0.7273\n",
            "Epoch 8/20\n",
            "7/7 [==============================] - 0s 17ms/step - loss: 0.2404 - acc: 0.9909 - val_loss: 0.5679 - val_acc: 0.7273\n",
            "Epoch 9/20\n",
            "7/7 [==============================] - 0s 16ms/step - loss: 0.2049 - acc: 0.9818 - val_loss: 0.5142 - val_acc: 0.7273\n",
            "Epoch 10/20\n",
            "7/7 [==============================] - 0s 17ms/step - loss: 0.1723 - acc: 0.9955 - val_loss: 0.4580 - val_acc: 0.8000\n",
            "Epoch 11/20\n",
            "7/7 [==============================] - 0s 11ms/step - loss: 0.1482 - acc: 0.9909 - val_loss: 0.4049 - val_acc: 0.8727\n",
            "Epoch 12/20\n",
            "7/7 [==============================] - 0s 11ms/step - loss: 0.1320 - acc: 0.9864 - val_loss: 0.3750 - val_acc: 0.8364\n",
            "Epoch 13/20\n",
            "7/7 [==============================] - 0s 11ms/step - loss: 0.1077 - acc: 1.0000 - val_loss: 0.3501 - val_acc: 0.8545\n",
            "Epoch 14/20\n",
            "7/7 [==============================] - 0s 10ms/step - loss: 0.1047 - acc: 0.9955 - val_loss: 0.3211 - val_acc: 0.8909\n",
            "Epoch 15/20\n",
            "7/7 [==============================] - 0s 13ms/step - loss: 0.0801 - acc: 1.0000 - val_loss: 0.2992 - val_acc: 0.8909\n",
            "Epoch 16/20\n",
            "7/7 [==============================] - 0s 10ms/step - loss: 0.0752 - acc: 0.9955 - val_loss: 0.2999 - val_acc: 0.8909\n",
            "Epoch 17/20\n",
            "7/7 [==============================] - 0s 12ms/step - loss: 0.0595 - acc: 1.0000 - val_loss: 0.2784 - val_acc: 0.9091\n",
            "Epoch 18/20\n",
            "7/7 [==============================] - 0s 11ms/step - loss: 0.0610 - acc: 0.9909 - val_loss: 0.2558 - val_acc: 0.9273\n",
            "Epoch 19/20\n",
            "7/7 [==============================] - 0s 11ms/step - loss: 0.0688 - acc: 0.9955 - val_loss: 0.2289 - val_acc: 0.9273\n",
            "Epoch 20/20\n",
            "7/7 [==============================] - 0s 11ms/step - loss: 0.0387 - acc: 1.0000 - val_loss: 0.2196 - val_acc: 0.9273\n"
          ]
        }
      ]
    },
    {
      "cell_type": "code",
      "metadata": {
        "id": "iVvebIZhDej_",
        "colab": {
          "base_uri": "https://localhost:8080/"
        },
        "outputId": "1a31ba1a-849b-4a7b-99af-6148ffc52edf"
      },
      "source": [
        "# Predict test weights.\n",
        "test_pred = model.predict(test_counts)\n",
        "\n",
        "# Compute confusion matrix.\n",
        "confusion_matrix(test_target, np.argmax(test_pred, axis=1))"
      ],
      "execution_count": null,
      "outputs": [
        {
          "output_type": "stream",
          "name": "stdout",
          "text": [
            "3/3 [==============================] - 0s 5ms/step\n"
          ]
        },
        {
          "output_type": "execute_result",
          "data": {
            "text/plain": [
              "array([[29,  5],\n",
              "       [ 6, 43]])"
            ]
          },
          "metadata": {},
          "execution_count": 28
        }
      ]
    },
    {
      "cell_type": "code",
      "metadata": {
        "id": "ocybNmzoDcDz",
        "colab": {
          "base_uri": "https://localhost:8080/"
        },
        "outputId": "41b86420-2135-45a5-a013-a96c88a1e63d"
      },
      "source": [
        "# Summarize model architecture.\n",
        "model.summary()"
      ],
      "execution_count": null,
      "outputs": [
        {
          "output_type": "stream",
          "name": "stdout",
          "text": [
            "Model: \"sequential\"\n",
            "_________________________________________________________________\n",
            " Layer (type)                Output Shape              Param #   \n",
            "=================================================================\n",
            " dense (Dense)               (None, 32)                151712    \n",
            "                                                                 \n",
            " dropout (Dropout)           (None, 32)                0         \n",
            "                                                                 \n",
            " dense_1 (Dense)             (None, 16)                528       \n",
            "                                                                 \n",
            " dropout_1 (Dropout)         (None, 16)                0         \n",
            "                                                                 \n",
            " dense_2 (Dense)             (None, 2)                 34        \n",
            "                                                                 \n",
            "=================================================================\n",
            "Total params: 152274 (594.82 KB)\n",
            "Trainable params: 152274 (594.82 KB)\n",
            "Non-trainable params: 0 (0.00 Byte)\n",
            "_________________________________________________________________\n"
          ]
        }
      ]
    },
    {
      "cell_type": "markdown",
      "metadata": {
        "id": "-xVOYjs02AOa"
      },
      "source": [
        "### **Example 9: Sentiment Analysis and Topic Modeling**"
      ]
    },
    {
      "cell_type": "markdown",
      "metadata": {
        "id": "475Csh8i54K2"
      },
      "source": [
        "This example scrapes and parses two ECB speeches using `urllib` and `BeautifulSoup`. It then uses `pysentiment2` to measure the sentiment of the paragraphs in the documents and `sklearn` to uncover latent topics using the `LatentDirichletAllocation` model."
      ]
    },
    {
      "cell_type": "markdown",
      "metadata": {
        "id": "g_8rmegqFcXB"
      },
      "source": [
        "#### **Install and import modules.**"
      ]
    },
    {
      "cell_type": "code",
      "source": [
        "!pip install pysentiment2"
      ],
      "metadata": {
        "id": "_bTVruKU54ZQ"
      },
      "execution_count": null,
      "outputs": []
    },
    {
      "cell_type": "code",
      "metadata": {
        "id": "BLnaObUXEppt"
      },
      "source": [
        "from urllib.request import urlopen\n",
        "from bs4 import BeautifulSoup\n",
        "import numpy as np\n",
        "import pysentiment2 as ps\n",
        "from sklearn.feature_extraction.text import CountVectorizer"
      ],
      "execution_count": null,
      "outputs": []
    },
    {
      "cell_type": "markdown",
      "metadata": {
        "id": "Rn0GXpHuFgyG"
      },
      "source": [
        "#### **Scrape and clean data.**"
      ]
    },
    {
      "cell_type": "code",
      "metadata": {
        "id": "2-WrCJvt2EuE"
      },
      "source": [
        "# Scrape ECB speeches.\n",
        "sp210429 = 'https://www.ecb.europa.eu/press/key/date/2021/html/ecb.sp210429~3f8606edca.en.html'\n",
        "sp210429 = BeautifulSoup(urlopen(sp210429).read())\n",
        "\n",
        "# Extract paragraphs.\n",
        "paragraphs = sp210429 = [p.text for p in sp210429.find_all('p')]\n",
        "print(paragraphs[10])"
      ],
      "execution_count": null,
      "outputs": []
    },
    {
      "cell_type": "markdown",
      "metadata": {
        "id": "tpYbKFJwFUT6"
      },
      "source": [
        "#### **Compute sentiment.**"
      ]
    },
    {
      "cell_type": "code",
      "metadata": {
        "id": "w7reQ4YKE1fy"
      },
      "source": [
        "# Instantiate tokenizer.\n",
        "lm = ps.LM()\n",
        "\n",
        "# Tokenize speeches.\n",
        "tokens = [lm.tokenize(p) for p in paragraphs]\n",
        "\n",
        "# Compute sentiment.\n",
        "sentiment = [lm.get_score(p)['Polarity'] for p in tokens]\n",
        "\n",
        "# Print paragraph and sentiment score.\n",
        "print(paragraphs[10])\n",
        "print(sentiment[10])"
      ],
      "execution_count": null,
      "outputs": []
    },
    {
      "cell_type": "markdown",
      "metadata": {
        "id": "mn6N__8tFXok"
      },
      "source": [
        "#### **Identify latent topics.**"
      ]
    },
    {
      "cell_type": "code",
      "metadata": {
        "id": "k8p6cARlED8t"
      },
      "source": [
        "from sklearn.decomposition import LatentDirichletAllocation"
      ],
      "execution_count": null,
      "outputs": []
    },
    {
      "cell_type": "code",
      "metadata": {
        "id": "fvVfolXHFTXJ"
      },
      "source": [
        "# Vectorize tokens into count matrix.\n",
        "vectorizer = CountVectorizer()\n",
        "tfreq = vectorizer.fit_transform([' '.join(token) for token in tokens])\n",
        "feature_names = vectorizer.get_feature_names_out()\n",
        "\n",
        "# Instantiate LDA model.\n",
        "lda = LatentDirichletAllocation(n_components=5)\n",
        "\n",
        "# Fit LDA model and transform data.\n",
        "props = lda.fit_transform(tfreq)\n",
        "\n",
        "# Recover word distribution for each topic.\n",
        "wordDist = lda.components_\n",
        "\n",
        "# Collect five highest probability terms for each topic.\n",
        "topics = []\n",
        "\n",
        "for i in range(5):\n",
        "\ttopics.append([feature_names[name] for name in\n",
        "\twordDist[i].argsort()[-3:][::-1]])\n",
        "\n",
        "# Print topics.\n",
        "print(topics)"
      ],
      "execution_count": null,
      "outputs": []
    }
  ]
}