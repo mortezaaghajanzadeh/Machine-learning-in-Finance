{
  "nbformat": 4,
  "nbformat_minor": 0,
  "metadata": {
    "colab": {
      "provenance": [],
      "include_colab_link": true
    },
    "kernelspec": {
      "name": "python3",
      "display_name": "Python 3"
    },
    "language_info": {
      "name": "python"
    }
  },
  "cells": [
    {
      "cell_type": "markdown",
      "metadata": {
        "id": "view-in-github",
        "colab_type": "text"
      },
      "source": [
        "<a href=\"https://colab.research.google.com/github/mortezaaghajanzadeh/Machine-learning-in-Finance/blob/main/Lecture%206/time_series_lecture_7.ipynb\" target=\"_parent\"><img src=\"https://colab.research.google.com/assets/colab-badge.svg\" alt=\"Open In Colab\"/></a>"
      ]
    },
    {
      "cell_type": "markdown",
      "source": [
        "# **Lecture 7: Time Series.**\n",
        "### Based on code from Chapter 7 in ``Machine Learning for Economics and Finance in TensorFlow 2'' (Hull, 2021)."
      ],
      "metadata": {
        "id": "uTxaRXhp98WS"
      }
    },
    {
      "cell_type": "code",
      "source": [
        "# Import libraries.\n",
        "import pandas as pd\n",
        "import tensorflow as tf\n",
        "from tensorflow.keras.preprocessing.sequence import TimeseriesGenerator"
      ],
      "metadata": {
        "id": "RH3GPpmU-KAp"
      },
      "execution_count": null,
      "outputs": []
    },
    {
      "cell_type": "markdown",
      "source": [
        "## **Listing 7-1.** Instantiate a sequence generator for inflation."
      ],
      "metadata": {
        "id": "w5Lycwa7-SE6"
      }
    },
    {
      "cell_type": "code",
      "source": [
        "# Load data.\n",
        "inflation = pd.read_csv('https://www.dropbox.com/scl/fi/ot4jjxlj7nymez5xnrns4/inflation.csv?rlkey=86pmfk1kswwza5fb51gig3u2y&dl=1')\n",
        "\n",
        "# Convert to numpy array.\n",
        "inflation = np.array(inflation['Inflation'])\n",
        "\n",
        "# Instantiate time series generator.\n",
        "generator = TimeseriesGenerator(inflation, inflation,\n",
        "\tlength = 4, batch_size = 12)"
      ],
      "metadata": {
        "id": "UG5DW7dd5kxb"
      },
      "execution_count": null,
      "outputs": []
    },
    {
      "cell_type": "markdown",
      "source": [
        "## **Listing 7-2.** Train a neural network using generated sequences."
      ],
      "metadata": {
        "id": "WQojvs3s-daM"
      }
    },
    {
      "cell_type": "code",
      "source": [
        "# Define sequential model.\n",
        "model = tf.keras.models.Sequential()\n",
        "\n",
        "# Add input layer.\n",
        "model.add(tf.keras.Input(shape=(4,)))\n",
        "\n",
        "# Define dense layer.\n",
        "model.add(tf.keras.layers.Dense(2, activation=\"relu\"))\n",
        "\n",
        "# Define output layer.\n",
        "model.add(tf.keras.layers.Dense(1, activation=\"linear\"))\n",
        "\n",
        "# Compile the model.\n",
        "model.compile(loss=\"mse\", optimizer=\"adam\")\n",
        "\n",
        "# Train the model.\n",
        "model.fit_generator(generator, epochs=100)"
      ],
      "metadata": {
        "id": "j5E5gGui9UGy"
      },
      "execution_count": null,
      "outputs": []
    },
    {
      "cell_type": "markdown",
      "source": [
        "## **Listing 7-3.** Summarize model architecture."
      ],
      "metadata": {
        "id": "gKYwm-I1-70A"
      }
    },
    {
      "cell_type": "code",
      "source": [
        "# Print model architecture.\n",
        "print(model.summary())"
      ],
      "metadata": {
        "id": "eZmvxTpF9WZv"
      },
      "execution_count": null,
      "outputs": []
    },
    {
      "cell_type": "markdown",
      "source": [
        "## **Listing 7-4.** Instantiate a sequence generator for inflation."
      ],
      "metadata": {
        "id": "1hOJKAxZGITB"
      }
    },
    {
      "cell_type": "code",
      "source": [
        "# Load data.\n",
        "inflation = pd.read_csv('https://www.dropbox.com/scl/fi/ot4jjxlj7nymez5xnrns4/inflation.csv?rlkey=86pmfk1kswwza5fb51gig3u2y&dl=1')\n",
        "\n",
        "# Convert to numpy array.\n",
        "inflation = np.array(inflation['Inflation'])\n",
        "\n",
        "# Add dimension.\n",
        "inflation = np.expand_dims(inflation, 1)\n",
        "\n",
        "# Instantiate time series generator.\n",
        "train_generator = TimeseriesGenerator(\n",
        "\tinflation[:211], inflation[:211],\n",
        "\tlength = 4, batch_size = 12)"
      ],
      "metadata": {
        "id": "9YN2Cwi19ZYI"
      },
      "execution_count": null,
      "outputs": []
    },
    {
      "cell_type": "markdown",
      "source": [
        "## **Listing 7-5.** Define an RNN model in Keras."
      ],
      "metadata": {
        "id": "vvq4U6R6GOQI"
      }
    },
    {
      "cell_type": "code",
      "source": [
        "# Define sequential model.\n",
        "model = tf.keras.models.Sequential()\n",
        "\n",
        "# Define recurrent layer.\n",
        "model.add(tf.keras.layers.SimpleRNN(2, input_shape=(4, 1)))\n",
        "\n",
        "# Define output layer.\n",
        "model.add(tf.keras.layers.Dense(1, activation=\"linear\"))"
      ],
      "metadata": {
        "id": "YRtVQHiY9ay4"
      },
      "execution_count": null,
      "outputs": []
    },
    {
      "cell_type": "markdown",
      "source": [
        "## **Listing 7-6.** Compile and train an RNN model in Keras."
      ],
      "metadata": {
        "id": "ckX9jaWpGW21"
      }
    },
    {
      "cell_type": "code",
      "source": [
        "# Compile the model.\n",
        "model.compile(loss=\"mse\", optimizer=\"adam\")\n",
        "\n",
        "# Fit model to data using generator.\n",
        "model.fit_generator(train_generator, epochs=100)"
      ],
      "metadata": {
        "id": "hE_5fjwh9cTW"
      },
      "execution_count": null,
      "outputs": []
    },
    {
      "cell_type": "markdown",
      "source": [
        "## **Listing 7-7.** Summarize RNN architecture in a Keras model."
      ],
      "metadata": {
        "id": "RAFRa4pJgcve"
      }
    },
    {
      "cell_type": "code",
      "source": [
        "print(model.summary())"
      ],
      "metadata": {
        "id": "YR7Ay7A5gfRM"
      },
      "execution_count": null,
      "outputs": []
    },
    {
      "cell_type": "markdown",
      "source": [
        "## **Listing 7-8.** Train an LSTM model in Keras."
      ],
      "metadata": {
        "id": "iApx9mwbgklu"
      }
    },
    {
      "cell_type": "code",
      "source": [
        "# Define sequential model.\n",
        "model = tf.keras.models.Sequential()\n",
        "\n",
        "# Define recurrent layer.\n",
        "model.add(tf.keras.layers.LSTM(2, input_shape=(4, 1)))\n",
        "\n",
        "# Define output layer.\n",
        "model.add(tf.keras.layers.Dense(1, activation=\"linear\"))\n",
        "\n",
        "# Compile the model.\n",
        "model.compile(loss=\"mse\", optimizer=\"adam\")\n",
        "\n",
        "# Train the model.\n",
        "model.fit_generator(train_generator, epochs=100)"
      ],
      "metadata": {
        "id": "yMgNku-Zgo--"
      },
      "execution_count": null,
      "outputs": []
    },
    {
      "cell_type": "markdown",
      "source": [
        "## **Listing 7-9.** Summarize LSTM architecture in a Keras model."
      ],
      "metadata": {
        "id": "Ea_mSHWhgqq4"
      }
    },
    {
      "cell_type": "code",
      "source": [
        "# Print model architecture.\n",
        "print(model.summary())"
      ],
      "metadata": {
        "id": "thtIaWrOgxd9"
      },
      "execution_count": null,
      "outputs": []
    },
    {
      "cell_type": "markdown",
      "source": [
        "## **Listing 7-10.** Incorrect use of LSTM hidden states."
      ],
      "metadata": {
        "id": "2GIrEebzgzaZ"
      }
    },
    {
      "cell_type": "code",
      "source": [
        "# Define sequential model.\n",
        "model = tf.keras.models.Sequential()\n",
        "\n",
        "# Define recurrent layer to return hidden states.\n",
        "model.add(tf.keras.layers.LSTM(2, return_sequences=True, input_shape=(4, 1)))\n",
        "\n",
        "# Define output layer.\n",
        "model.add(tf.keras.layers.Dense(1, activation=\"linear\"))\n",
        "\n",
        "# Summarize model architecture.\n",
        "model.summary()"
      ],
      "metadata": {
        "id": "Hjsbt6jGtLW-"
      },
      "execution_count": null,
      "outputs": []
    },
    {
      "cell_type": "markdown",
      "source": [
        "## **Listing 7-11.** Define a stacked LSTM model."
      ],
      "metadata": {
        "id": "yDM34wVeg4HM"
      }
    },
    {
      "cell_type": "code",
      "source": [
        "# Define sequential model.\n",
        "model = tf.keras.models.Sequential()\n",
        "\n",
        "# Define recurrent layer to return hidden states.\n",
        "model.add(tf.keras.layers.LSTM(3, return_sequences=True, input_shape=(4, 1)))\n",
        "\n",
        "# Define second recurrent layer.\n",
        "model.add(tf.keras.layers.LSTM(2))\n",
        "\n",
        "# Define output layer.\n",
        "model.add(tf.keras.layers.Dense(1, activation=\"linear\"))"
      ],
      "metadata": {
        "id": "L9-xsXDVg-st"
      },
      "execution_count": null,
      "outputs": []
    },
    {
      "cell_type": "markdown",
      "source": [
        "## **Listing 7-12.** Summarize stacked LSTM architecture."
      ],
      "metadata": {
        "id": "jUl34j9QGlrq"
      }
    },
    {
      "cell_type": "code",
      "source": [
        "# Summarize model architecture.\n",
        "model.summary()"
      ],
      "metadata": {
        "id": "UnDdrdqFGnE_"
      },
      "execution_count": null,
      "outputs": []
    },
    {
      "cell_type": "markdown",
      "source": [
        "## **Listing 7-13.** Load and preview inflation forecast data."
      ],
      "metadata": {
        "id": "DOV3gVxJGof1"
      }
    },
    {
      "cell_type": "code",
      "source": [
        "# Load data.\n",
        "macroData = pd.read_csv('https://www.dropbox.com/scl/fi/v7iqtlyf3voedweq7xct5/macrodata.csv?rlkey=ccr7auc4i910z2h3xrs7caprn&dl=1',\n",
        "                        index_col = 'Date')\n",
        "\n",
        "# Preview data.\n",
        "print(macroData.round(1).tail())"
      ],
      "metadata": {
        "id": "sZ4EBWyLGuMT"
      },
      "execution_count": null,
      "outputs": []
    },
    {
      "cell_type": "markdown",
      "source": [
        "## **Listing 7-14.**  Prepare data for use in LSTM model."
      ],
      "metadata": {
        "id": "101U0HSdGxIt"
      }
    },
    {
      "cell_type": "code",
      "source": [
        "# Define target and features.\n",
        "target = np.array(macroData['Inflation'])\n",
        "features = np.array(macroData)\n",
        "\n",
        "# Define train generator.\n",
        "train_generator = TimeseriesGenerator(features[:393], target[:393], length = 12, batch_size = 6)\n",
        "\n",
        "# Define test generator.\n",
        "test_generator = TimeseriesGenerator(features[393:], target[393:], length = 12, batch_size = 6)"
      ],
      "metadata": {
        "id": "Lks3nnX-G0M5"
      },
      "execution_count": null,
      "outputs": []
    },
    {
      "cell_type": "markdown",
      "source": [
        "## **Listing 7-15.** Define and train LSTM model with multiple features."
      ],
      "metadata": {
        "id": "Mhe9-QxytnPr"
      }
    },
    {
      "cell_type": "code",
      "source": [
        "# Define sequential model.\n",
        "model = tf.keras.models.Sequential()\n",
        "\n",
        "# Define LSTM model with two cells.\n",
        "model.add(tf.keras.layers.LSTM(2, input_shape=(12, 5)))\n",
        "\n",
        "# Define output layer.\n",
        "model.add(tf.keras.layers.Dense(1, activation=\"linear\"))\n",
        "\n",
        "# Compile the model.\n",
        "model.compile(loss=\"mse\", optimizer=\"adam\")\n",
        "\n",
        "# Train the model.\n",
        "model.fit_generator(train_generator, epochs=100)"
      ],
      "metadata": {
        "id": "rz6QF4Idw587"
      },
      "execution_count": null,
      "outputs": []
    },
    {
      "cell_type": "markdown",
      "source": [
        "## **Listing 7-16.** Use MSE to evaluate train and test sets."
      ],
      "metadata": {
        "id": "D3HA_WjCw6Vu"
      }
    },
    {
      "cell_type": "code",
      "source": [
        "# Evaluate training set using MSE.\n",
        "model.evaluate_generator(train_generator)\n",
        "\n",
        "# Evaluate test set using MSE.\n",
        "model.evaluate_generator(test_generator)"
      ],
      "metadata": {
        "id": "S0LIWvuww_YR"
      },
      "execution_count": null,
      "outputs": []
    },
    {
      "cell_type": "markdown",
      "source": [
        "## **Listing 7-17.** Define feature columns."
      ],
      "metadata": {
        "id": "X8Pd_4FKxAIn"
      }
    },
    {
      "cell_type": "code",
      "source": [
        "# Define lagged inflation feature column.\n",
        "inflation = tf.feature_column.numeric_column(\"inflation\")\n",
        "\n",
        "# Define unemployment feature column.\n",
        "unemployment = tf.feature_column.numeric_column(\"unemployment\")\n",
        "\n",
        "# Define hours feature column.\n",
        "hours = tf.feature_column.numeric_column(\"hours\")\n",
        "\n",
        "# Define earnings feature column.\n",
        "earnings = tf.feature_column.numeric_column(\"earnings\")\n",
        "\n",
        "# Define M1 feature column.\n",
        "m1 = tf.feature_column.numeric_column(\"m1\")\n",
        "\n",
        "# Define feature list.\n",
        "feature_list = [inflation, unemployment, hours, earnings, m1]"
      ],
      "metadata": {
        "id": "PLs1ScN3xIji"
      },
      "execution_count": null,
      "outputs": []
    },
    {
      "cell_type": "markdown",
      "source": [
        "## **Listing 7-18.** Define the data generation functions."
      ],
      "metadata": {
        "id": "ZCi8TrldxJA7"
      }
    },
    {
      "cell_type": "code",
      "source": [
        "# Define input function for training data.\n",
        "def train_data():\n",
        "\ttrain = macroData.iloc[:392]\n",
        "\tfeatures = {\"inflation\": train[\"Inflation\"],\n",
        "\t\"unemployment\": train[\"Unemployment\"],\n",
        "\t\"hours\": train[\"Hours\"],\n",
        "\t\"earnings\": train[\"Earnings\"],\n",
        "\t\"m1\": train[\"M1\"]}\n",
        "\tlabels = macroData[\"Inflation\"].iloc[1:393]\n",
        "\treturn features, labels\n",
        "\n",
        "# Define input function for test data.\n",
        "def test_data():\n",
        "\ttest = macroData.iloc[393:-1]\n",
        "\tfeatures = {\"inflation\": test[\"Inflation\"],\n",
        "\t\"unemployment\": test[\"Unemployment\"],\n",
        "\t\"hours\": test[\"Hours\"],\n",
        "\t\"earnings\": test[\"Earnings\"],\n",
        "\t\"m1\": test[\"M1\"]}\n",
        "\tlabels = macroData[\"Inflation\"].iloc[394:]\n",
        "\treturn features, labels"
      ],
      "metadata": {
        "id": "51hTF6NcxNas"
      },
      "execution_count": null,
      "outputs": []
    },
    {
      "cell_type": "markdown",
      "source": [
        "## **Listing 7-19.** Train and evaluate model. Print results."
      ],
      "metadata": {
        "id": "ShHXlfAfxPjz"
      }
    },
    {
      "cell_type": "code",
      "source": [
        "# Instantiate boosted trees regressor.\n",
        "model = tf.estimator.BoostedTreesRegressor(feature_columns =\n",
        "\tfeature_list, n_batches_per_layer = 1)\n",
        "\n",
        "# Train model.\n",
        "model.train(train_data, steps=100)\n",
        "\n",
        "# Evaluate train and test set.\n",
        "train_eval = model.evaluate(train_data, steps = 1)\n",
        "test_eval = model.evaluate(test_data, steps = 1)\n",
        "\n",
        "# Print results.\n",
        "print(pd.Series(train_eval))\n",
        "print(pd.Series(test_eval))"
      ],
      "metadata": {
        "id": "fxlsvVJTxTMt"
      },
      "execution_count": null,
      "outputs": []
    }
  ]
}