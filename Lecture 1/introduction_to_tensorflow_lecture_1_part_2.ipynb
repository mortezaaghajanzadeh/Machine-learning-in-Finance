{
  "nbformat": 4,
  "nbformat_minor": 0,
  "metadata": {
    "colab": {
      "provenance": [],
      "include_colab_link": true
    },
    "kernelspec": {
      "name": "python3",
      "display_name": "Python 3"
    },
    "language_info": {
      "name": "python"
    }
  },
  "cells": [
    {
      "cell_type": "markdown",
      "metadata": {
        "id": "view-in-github",
        "colab_type": "text"
      },
      "source": [
        "<a href=\"https://colab.research.google.com/github/mortezaaghajanzadeh/Machine-learning-in-Finance/blob/main/Lecture%201/introduction_to_tensorflow_lecture_1_part_2.ipynb\" target=\"_parent\"><img src=\"https://colab.research.google.com/assets/colab-badge.svg\" alt=\"Open In Colab\"/></a>"
      ]
    },
    {
      "cell_type": "markdown",
      "source": [
        "# **Lecture 1 (Part 2): Introduction to TensorFlow in Python.**\n",
        "### Based on code from Chapter 1 in ``Machine Learning for Economics and Finance in TensorFlow 2'' (Hull, 2021)."
      ],
      "metadata": {
        "id": "uTxaRXhp98WS"
      }
    },
    {
      "cell_type": "code",
      "source": [
        "# Import libraries.\n",
        "import tensorflow as tf\n",
        "import numpy as np\n",
        "import pandas as pd\n",
        "import requests\n",
        "import io"
      ],
      "metadata": {
        "id": "RH3GPpmU-KAp"
      },
      "execution_count": null,
      "outputs": []
    },
    {
      "cell_type": "markdown",
      "source": [
        "## **Listing 1-11.** Define constants and variables for OLS."
      ],
      "metadata": {
        "id": "tvurcld1GhCd"
      }
    },
    {
      "cell_type": "code",
      "source": [
        "# Define the data as constants.\n",
        "X = tf.constant([[1, 0], [1, 2]], tf.float32)\n",
        "Y = tf.constant([[2], [4]], tf.float32)\n",
        "\n",
        "# Initialize beta.\n",
        "beta = tf.Variable([[0.01],[0.01]], tf.float32)\n",
        "\n",
        "# Compute the residual.\n",
        "residuals = Y - tf.matmul(X, beta)"
      ],
      "metadata": {
        "id": "fAebATPY9fo9"
      },
      "execution_count": null,
      "outputs": []
    },
    {
      "cell_type": "markdown",
      "source": [
        "## **Listing 1-12.** Perform scalar addition and multiplication."
      ],
      "metadata": {
        "id": "6R759OTmGmLs"
      }
    },
    {
      "cell_type": "code",
      "source": [
        "# Define two scalars as constants.\n",
        "s1 = tf.constant(5, tf.float32)\n",
        "s2 = tf.constant(15, tf.float32)\n",
        "\n",
        "# Add and multiply using tf.add() and tf.multiply().\n",
        "s1s2_sum = tf.add(s1, s2)\n",
        "s1s2_product = tf.multiply(s1, s2)\n",
        "\n",
        "# Add and multiply using operator overloading.\n",
        "s1s2_sum = s1+s2\n",
        "s1s2_product = s1*s2\n",
        "\n",
        "# Print sum.\n",
        "print(s1s2_sum)\n",
        "\n",
        "# Print product.\n",
        "print(s1s2_product)"
      ],
      "metadata": {
        "id": "n4SJNyTG9hME",
        "colab": {
          "base_uri": "https://localhost:8080/"
        },
        "outputId": "cbaf4060-a093-4fa1-a54d-3c6de8bc5e06"
      },
      "execution_count": null,
      "outputs": [
        {
          "output_type": "stream",
          "name": "stdout",
          "text": [
            "tf.Tensor(20.0, shape=(), dtype=float32)\n",
            "tf.Tensor(75.0, shape=(), dtype=float32)\n"
          ]
        }
      ]
    },
    {
      "cell_type": "markdown",
      "source": [
        "## **Listing 1-13.** Perform tensor addition."
      ],
      "metadata": {
        "id": "dLhel-GcGpxS"
      }
    },
    {
      "cell_type": "code",
      "source": [
        "# Generate random images.\n",
        "images = np.random.randint(0, 245, size=(32, 64, 64, 3))\n",
        "transform = np.random.randint(0, 10, size=(32, 64, 64, 3))\n",
        "\n",
        "# Print the shapes of the two tensors.\n",
        "print(images.shape)\n",
        "\n",
        "# Convert numpy arrays into tensorflow constants.\n",
        "images = tf.constant(images, tf.float32)\n",
        "transform = tf.constant(transform, tf.float32)\n",
        "\n",
        "# Perform tensor addition with tf.add().\n",
        "images = tf.add(images, transform)\n",
        "\n",
        "# Perform tensor addition with operator overloading.\n",
        "images = images + transform"
      ],
      "metadata": {
        "colab": {
          "base_uri": "https://localhost:8080/"
        },
        "id": "-EukMjAF9jIN",
        "outputId": "225cca86-8c00-44ac-c0f0-4de10d1b73fd"
      },
      "execution_count": null,
      "outputs": [
        {
          "output_type": "stream",
          "name": "stdout",
          "text": [
            "(32, 64, 64, 3)\n"
          ]
        }
      ]
    },
    {
      "cell_type": "markdown",
      "source": [
        "## **Listing 1-14.** Perform elementwise multiplication."
      ],
      "metadata": {
        "id": "Y8sh1an7GtGz"
      }
    },
    {
      "cell_type": "code",
      "source": [
        "# Generate 6-tensors from normal distribution draws.\n",
        "A = tf.random.normal([5, 10, 7, 3, 2, 15])\n",
        "B = tf.random.normal([5, 10, 7, 3, 2, 15])\n",
        "\n",
        "# Perform elementwise multiplication.\n",
        "C = tf.multiply(A, B)\n",
        "C = A*B"
      ],
      "metadata": {
        "id": "th-yAh6u9k6c"
      },
      "execution_count": null,
      "outputs": []
    },
    {
      "cell_type": "markdown",
      "source": [
        "## **Listing 1-15.** Perform dot product."
      ],
      "metadata": {
        "id": "_p1CYcEEGyq7"
      }
    },
    {
      "cell_type": "code",
      "source": [
        "# Set random seed to generate reproducible results.\n",
        "tf.random.set_seed(1)\n",
        "\n",
        "# Use normal distribution draws to generate tensors.\n",
        "A = tf.random.normal([200])\n",
        "B = tf.random.normal([200])\n",
        "\n",
        "# Perform dot product.\n",
        "c = tf.tensordot(A, B, axes = 1)\n",
        "\n",
        "# Print numpy argument of c.\n",
        "print(c.numpy())"
      ],
      "metadata": {
        "colab": {
          "base_uri": "https://localhost:8080/"
        },
        "id": "L-o3mlHw9mam",
        "outputId": "c734de81-d77b-4ac0-faab-b1b5e33c42e5"
      },
      "execution_count": null,
      "outputs": [
        {
          "output_type": "stream",
          "name": "stdout",
          "text": [
            "-15.284365\n"
          ]
        }
      ]
    },
    {
      "cell_type": "markdown",
      "source": [
        "## **Listing 1-16.** Perform matrix multiplication."
      ],
      "metadata": {
        "id": "3wxUI2mtG2pT"
      }
    },
    {
      "cell_type": "code",
      "source": [
        "# Use normal distribution draws to generate tensors.\n",
        "A = tf.random.normal([200, 50])\n",
        "B = tf.random.normal([50, 10])\n",
        "\n",
        "# Perform matrix multiplication.\n",
        "C = tf.matmul(A, B)\n",
        "\n",
        "# Print shape of C.\n",
        "print(C.shape)"
      ],
      "metadata": {
        "id": "FLe3luFM9om6",
        "colab": {
          "base_uri": "https://localhost:8080/"
        },
        "outputId": "26ad5ad5-48eb-4f36-acb3-1534182be92b"
      },
      "execution_count": null,
      "outputs": [
        {
          "output_type": "stream",
          "name": "stdout",
          "text": [
            "(200, 10)\n"
          ]
        }
      ]
    },
    {
      "cell_type": "markdown",
      "source": [
        "## **Listing 1-17.** Perform scalar-tensor addition and multiplication."
      ],
      "metadata": {
        "id": "dkJNBF68HHSA"
      }
    },
    {
      "cell_type": "code",
      "source": [
        "# Define scalar term as a constant.\n",
        "gamma = tf.constant(1/255.0)\n",
        "mu = tf.constant(-0.50)\n",
        "\n",
        "# Perform tensor-scalar multiplication.\n",
        "images = gamma * images\n",
        "\n",
        "# Perform tensor-scalar addition.\n",
        "images = mu + images"
      ],
      "metadata": {
        "id": "Q1wg3gDl9q7w"
      },
      "execution_count": null,
      "outputs": []
    },
    {
      "cell_type": "markdown",
      "source": [
        "## **Listing 1-18.** Define random tensors."
      ],
      "metadata": {
        "id": "aIZIscuxHK8q"
      }
    },
    {
      "cell_type": "code",
      "source": [
        "# Define random 3-tensor of images.\n",
        "images = tf.random.uniform((64, 256, 256))\n",
        "\n",
        "# Define random 2-tensor image transformation.\n",
        "transform = tf.random.normal((256, 256))"
      ],
      "metadata": {
        "id": "Yghc4iQ_9sYa"
      },
      "execution_count": null,
      "outputs": []
    },
    {
      "cell_type": "markdown",
      "source": [
        "## **Listing 1-19.** Perform batch matrix multiplication."
      ],
      "metadata": {
        "id": "c0sK2MWBHPQq"
      }
    },
    {
      "cell_type": "code",
      "source": [
        "# Perform batch matrix multiplication.\n",
        "batch_matmul = tf.matmul(images, transform)\n",
        "\n",
        "# Perform batch elementwise multiplication.\n",
        "batch_elementwise = tf.multiply(images, transform)"
      ],
      "metadata": {
        "id": "L_WEoWH49vZb"
      },
      "execution_count": null,
      "outputs": []
    },
    {
      "cell_type": "markdown",
      "source": [
        "## **Listing 1-20.** Compute a derivative in TensorFlow."
      ],
      "metadata": {
        "id": "FJxqvJxCHUUw"
      }
    },
    {
      "cell_type": "code",
      "source": [
        "# Define x as a constant.\n",
        "x = tf.constant(2.0)\n",
        "\n",
        "# Define f(g(x)) within an instance of gradient tape.\n",
        "with tf.GradientTape() as t:\n",
        "\tt.watch(x)\n",
        "\ty = x**3\n",
        "\tf = 5*y**2\n",
        "\n",
        "# Compute gradient of f with respect to x.\n",
        "df_dx = t.gradient(f, x)\n",
        "print(df_dx.numpy())"
      ],
      "metadata": {
        "id": "nsvw6aZ19vXr",
        "colab": {
          "base_uri": "https://localhost:8080/"
        },
        "outputId": "c1da0b26-fa92-4369-f49d-46e11e671165"
      },
      "execution_count": null,
      "outputs": [
        {
          "output_type": "stream",
          "name": "stdout",
          "text": [
            "960.0\n"
          ]
        }
      ]
    },
    {
      "cell_type": "markdown",
      "source": [
        "## **Listing 1-21.** Import image data with numpy."
      ],
      "metadata": {
        "id": "WdWFCGeZHY7Y"
      }
    },
    {
      "cell_type": "code",
      "source": [
        "# Load images as npy file.\n",
        "url = 'https://www.dropbox.com/scl/fi/yd8xvzj758f10pvss9l4c/images.npy?rlkey=9d6ayqf5v7zox94j7khxgq0fv&dl=1'\n",
        "image_file = np.DataSource().open(url)\n",
        "images = np.load(image_file.name)\n",
        "\n",
        "# Normalize pixel values to [0,1] interval.\n",
        "images = images / 255.0\n",
        "\n",
        "# Print the tensor shape.\n",
        "print(images.shape)"
      ],
      "metadata": {
        "id": "YfNg0swS9yho",
        "colab": {
          "base_uri": "https://localhost:8080/"
        },
        "outputId": "fbdc2435-ed1f-4fce-900e-02f1455b3303"
      },
      "execution_count": null,
      "outputs": [
        {
          "output_type": "stream",
          "name": "stdout",
          "text": [
            "(70000, 28, 28)\n"
          ]
        }
      ]
    },
    {
      "cell_type": "markdown",
      "source": [
        "## **Listing 1-22.** Perform division in TensorFlow using constant tensors."
      ],
      "metadata": {
        "id": "p6jjrIw_Hfcq"
      }
    },
    {
      "cell_type": "code",
      "source": [
        "# Convert the numpy array into a TensorFlow constant.\n",
        "images = tf.constant(images, tf.float32)\n",
        "\n",
        "# Normalize pixel values to [0,1] interval.\n",
        "images = images / 255.0"
      ],
      "metadata": {
        "id": "fVttkti790R-"
      },
      "execution_count": null,
      "outputs": []
    },
    {
      "cell_type": "markdown",
      "source": [
        "## **Listing 1-24.** Load data in pandas for use in TensorFlow."
      ],
      "metadata": {
        "id": "kFoZMy1DHq2s"
      }
    },
    {
      "cell_type": "code",
      "source": [
        "# Import data using pandas.\n",
        "data = pd.read_csv('https://www.dropbox.com/scl/fi/f9av6lou2xcr0xh2up90q/us-software-engineer-jobs-zenrows.csv?rlkey=4weav5xabxmmssi613emvo6fj&dl=1')\n",
        "\n",
        "# Convert data to a TensorFlow constant.\n",
        "data_tensorflow = tf.constant(data['rating'], tf.float32)\n",
        "\n",
        "# Convert data to a numpy array.\n",
        "data_numpy = np.array(data)"
      ],
      "metadata": {
        "id": "4IbGKfMg91xQ"
      },
      "execution_count": null,
      "outputs": []
    }
  ]
}