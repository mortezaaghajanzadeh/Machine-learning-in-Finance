{
  "nbformat": 4,
  "nbformat_minor": 0,
  "metadata": {
    "colab": {
      "provenance": [],
      "include_colab_link": true
    },
    "kernelspec": {
      "name": "python3",
      "display_name": "Python 3"
    },
    "language_info": {
      "name": "python"
    }
  },
  "cells": [
    {
      "cell_type": "markdown",
      "metadata": {
        "id": "view-in-github",
        "colab_type": "text"
      },
      "source": [
        "<a href=\"https://colab.research.google.com/github/mortezaaghajanzadeh/Machine-learning-in-Finance/blob/main/Lecture%201/introduction_to_tensorflow_lecture_1_part_1.ipynb\" target=\"_parent\"><img src=\"https://colab.research.google.com/assets/colab-badge.svg\" alt=\"Open In Colab\"/></a>"
      ]
    },
    {
      "cell_type": "markdown",
      "source": [
        "# **Lecture 1 (Part 1): Introduction to TensorFlow in Python.**\n",
        "### Based on code from Chapter 1 in ``Machine Learning for Economics and Finance in TensorFlow 2'' (Hull, 2021)."
      ],
      "metadata": {
        "id": "uTxaRXhp98WS"
      }
    },
    {
      "cell_type": "code",
      "source": [
        "# Import libraries.\n",
        "import tensorflow as tf\n",
        "import numpy as np\n",
        "import pandas as pd"
      ],
      "metadata": {
        "id": "RH3GPpmU-KAp"
      },
      "execution_count": null,
      "outputs": []
    },
    {
      "cell_type": "markdown",
      "source": [
        "## **Listing 1-2.** Implement OLS."
      ],
      "metadata": {
        "id": "w5Lycwa7-SE6"
      }
    },
    {
      "cell_type": "code",
      "source": [
        "print(tf.__version__)\n",
        "\n",
        "# Define the data as constants.\n",
        "X = tf.constant([[1, 0], [1, 2]], tf.float32)\n",
        "Y = tf.constant([[2], [4]], tf.float32)\n",
        "\n",
        "# Matrix multiply X by X’s transpose and invert.\n",
        "beta_0 = tf.linalg.inv(tf.matmul(tf.transpose(X), X))\n",
        "\n",
        "# Matrix multiply beta_0 by X’s transpose.\n",
        "beta_1 = tf.matmul(beta_0, tf.transpose(X))\n",
        "\n",
        "# Matrix multiply beta_1 by Y.\n",
        "beta = tf.matmul(beta_1, Y)"
      ],
      "metadata": {
        "colab": {
          "base_uri": "https://localhost:8080/"
        },
        "id": "d9dAZ-Dx9QD4",
        "outputId": "ccb25630-5115-4a03-c680-30d2ff35a143"
      },
      "execution_count": null,
      "outputs": [
        {
          "output_type": "stream",
          "name": "stdout",
          "text": [
            "2.14.0\n",
            "[[2.]\n",
            " [1.]]\n"
          ]
        }
      ]
    },
    {
      "cell_type": "markdown",
      "source": [
        "## **Listing 1-4.** Print tensors."
      ],
      "metadata": {
        "id": "WQojvs3s-daM"
      }
    },
    {
      "cell_type": "code",
      "source": [
        "# Print the feature matrix.\n",
        "print(X)\n",
        "\n",
        "# Print the coefficient vector.\n",
        "print(beta.numpy())"
      ],
      "metadata": {
        "colab": {
          "base_uri": "https://localhost:8080/"
        },
        "id": "j5E5gGui9UGy",
        "outputId": "c6b0c455-d783-4ca9-a048-d73d54716475"
      },
      "execution_count": null,
      "outputs": [
        {
          "output_type": "stream",
          "name": "stdout",
          "text": [
            "tf.Tensor(\n",
            "[[1. 0.]\n",
            " [1. 2.]], shape=(2, 2), dtype=float32)\n",
            "[[2.]\n",
            " [1.]]\n"
          ]
        }
      ]
    },
    {
      "cell_type": "markdown",
      "source": [
        "## **Listing 1-6.** Generate OLS predictions with static graphs."
      ],
      "metadata": {
        "id": "gKYwm-I1-70A"
      }
    },
    {
      "cell_type": "code",
      "source": [
        "# Define OLS prediction function as static graph.\n",
        "@tf.function\n",
        "def ols_predict(X, beta):\n",
        "\ty_hat = tf.matmul(X, beta)\n",
        "\treturn y_hat\n",
        "\n",
        "# Predict Y using X and beta.\n",
        "predictions = ols_predict(X, beta)\n",
        "\n",
        "# Print predictions.\n",
        "print(predictions)"
      ],
      "metadata": {
        "id": "eZmvxTpF9WZv",
        "colab": {
          "base_uri": "https://localhost:8080/"
        },
        "outputId": "470587b2-518d-49c9-c67d-130908a060a5"
      },
      "execution_count": null,
      "outputs": [
        {
          "output_type": "stream",
          "name": "stdout",
          "text": [
            "tf.Tensor(\n",
            "[[2.]\n",
            " [4.]], shape=(2, 1), dtype=float32)\n"
          ]
        }
      ]
    },
    {
      "cell_type": "markdown",
      "source": [
        "## **Listing 1-7.** Solve an OLS model with tf.keras()."
      ],
      "metadata": {
        "id": "1hOJKAxZGITB"
      }
    },
    {
      "cell_type": "code",
      "source": [
        "# Define sequential model.\n",
        "ols = tf.keras.Sequential()\n",
        "\n",
        "# Add dense layer with linear activation.\n",
        "ols.add(tf.keras.layers.Dense(1, input_shape = (2,),\n",
        "    use_bias = False , activation = 'linear'))\n",
        "\n",
        "# Set optimizer and loss.\n",
        "ols.compile(optimizer = 'SGD', loss = 'mse')\n",
        "\n",
        "# Train model.\n",
        "ols.fit(X, Y, epochs = 500)\n",
        "\n",
        "# Print parameter estimates.\n",
        "print(ols.weights[0].numpy())"
      ],
      "metadata": {
        "colab": {
          "base_uri": "https://localhost:8080/"
        },
        "id": "9YN2Cwi19ZYI",
        "outputId": "0698e199-a93f-4e29-9e65-4389c0d24a24"
      },
      "execution_count": null,
      "outputs": [
        {
          "output_type": "stream",
          "name": "stdout",
          "text": [
            "Epoch 1/10\n",
            "1/1 [==============================] - 1s 822ms/step - loss: 8.4241\n",
            "Epoch 2/10\n",
            "1/1 [==============================] - 0s 21ms/step - loss: 7.5676\n",
            "Epoch 3/10\n",
            "1/1 [==============================] - 0s 25ms/step - loss: 6.7984\n",
            "Epoch 4/10\n",
            "1/1 [==============================] - 0s 24ms/step - loss: 6.1077\n",
            "Epoch 5/10\n",
            "1/1 [==============================] - 0s 16ms/step - loss: 5.4873\n",
            "Epoch 6/10\n",
            "1/1 [==============================] - 0s 17ms/step - loss: 4.9302\n",
            "Epoch 7/10\n",
            "1/1 [==============================] - 0s 26ms/step - loss: 4.4298\n",
            "Epoch 8/10\n",
            "1/1 [==============================] - 0s 10ms/step - loss: 3.9804\n",
            "Epoch 9/10\n",
            "1/1 [==============================] - 0s 28ms/step - loss: 3.5769\n",
            "Epoch 10/10\n",
            "1/1 [==============================] - 0s 21ms/step - loss: 3.2144\n",
            "[[1.2289267 ]\n",
            " [0.24720308]]\n"
          ]
        }
      ]
    },
    {
      "cell_type": "markdown",
      "source": [
        "## **Listing 1-8.** Solve an OLS model with tf.estimator()."
      ],
      "metadata": {
        "id": "vvq4U6R6GOQI"
      }
    },
    {
      "cell_type": "code",
      "source": [
        "# Define feature columns.\n",
        "features = [\n",
        "tf.feature_column.numeric_column(\"constant\"),\n",
        "tf.feature_column.numeric_column(\"x1\")\n",
        "]\n",
        "\n",
        "# Define model.\n",
        "ols = tf.estimator.LinearRegressor(features)\n",
        "\n",
        "# Define function to feed data to model.\n",
        "def train_input_fn():\n",
        "\tfeatures = {\"constant\": [1, 1], \"x1\": [0, 2]}\n",
        "\ttarget = [2, 4]\n",
        "\treturn features, target\n",
        "\n",
        "# Train OLS model.\n",
        "ols.train(train_input_fn, steps = 100)"
      ],
      "metadata": {
        "colab": {
          "base_uri": "https://localhost:8080/"
        },
        "id": "YRtVQHiY9ay4",
        "outputId": "40cab9f6-9088-4748-9214-7891cbb99b73"
      },
      "execution_count": null,
      "outputs": [
        {
          "output_type": "stream",
          "name": "stderr",
          "text": [
            "WARNING:tensorflow:Using temporary folder as model directory: /tmp/tmp0vx149s3\n"
          ]
        },
        {
          "output_type": "execute_result",
          "data": {
            "text/plain": [
              "<tensorflow_estimator.python.estimator.canned.linear.LinearRegressorV2 at 0x7e3f4c086dd0>"
            ]
          },
          "metadata": {},
          "execution_count": 11
        }
      ]
    },
    {
      "cell_type": "markdown",
      "source": [
        "## **Listing 1-9.** Make predictions with an OLS model with tf.estimator()."
      ],
      "metadata": {
        "id": "ckX9jaWpGW21"
      }
    },
    {
      "cell_type": "code",
      "source": [
        "# Define feature columns.\n",
        "def test_input_fn():\n",
        "    features = {\"constant\": [1, 1], \"x1\": [3, 5]}\n",
        "    return features\n",
        "\n",
        "# Define prediction generator.\n",
        "predict_gen = ols.predict(input_fn=test_input_fn)\n",
        "\n",
        "# Generate predictions.\n",
        "predictions = [next(predict_gen) for j in range(2)]\n",
        "\n",
        "# Print predictions.\n",
        "print(predictions)"
      ],
      "metadata": {
        "colab": {
          "base_uri": "https://localhost:8080/"
        },
        "id": "hE_5fjwh9cTW",
        "outputId": "a4a57361-f122-471f-c9df-c5094b8a33a0"
      },
      "execution_count": null,
      "outputs": [
        {
          "output_type": "stream",
          "name": "stderr",
          "text": [
            "WARNING:tensorflow:Input graph does not use tf.data.Dataset or contain a QueueRunner. That means predict yields forever. This is probably a mistake.\n",
            "WARNING:tensorflow:From /usr/local/lib/python3.10/dist-packages/tensorflow_estimator/python/estimator/head/regression_head.py:356: RegressionOutput.__init__ (from tensorflow.python.saved_model.model_utils.export_output) is deprecated and will be removed in a future version.\n",
            "Instructions for updating:\n",
            "Use tf.keras instead.\n",
            "WARNING:tensorflow:From /usr/local/lib/python3.10/dist-packages/tensorflow_estimator/python/estimator/head/regression_head.py:364: PredictOutput.__init__ (from tensorflow.python.saved_model.model_utils.export_output) is deprecated and will be removed in a future version.\n",
            "Instructions for updating:\n",
            "Use tf.keras instead.\n"
          ]
        },
        {
          "output_type": "stream",
          "name": "stdout",
          "text": [
            "[{'predictions': array([5.0000067], dtype=float32)}, {'predictions': array([7.000059], dtype=float32)}]\n"
          ]
        }
      ]
    },
    {
      "cell_type": "markdown",
      "source": [
        "## **Listing 1-10.** List all available devices, select CPU, and then switch to GPU."
      ],
      "metadata": {
        "id": "ovciiHIfGbIV"
      }
    },
    {
      "cell_type": "code",
      "source": [
        "# Print list of devices.\n",
        "devices = tf.config.list_physical_devices()\n",
        "print(devices)\n",
        "\n",
        "# Set device to CPU.\n",
        "tf.config.experimental.set_visible_devices(\n",
        "devices[0], 'CPU')\n",
        "\n",
        "# Change device to GPU.\n",
        "tf.config.experimental.set_visible_devices(\n",
        "devices[3], 'GPU')"
      ],
      "metadata": {
        "id": "n2Peii5K9d1S"
      },
      "execution_count": null,
      "outputs": []
    }
  ]
}