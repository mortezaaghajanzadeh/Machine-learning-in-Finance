{
  "nbformat": 4,
  "nbformat_minor": 0,
  "metadata": {
    "colab": {
      "provenance": [],
      "include_colab_link": true
    },
    "kernelspec": {
      "name": "python3",
      "display_name": "Python 3"
    },
    "language_info": {
      "name": "python"
    }
  },
  "cells": [
    {
      "cell_type": "markdown",
      "metadata": {
        "id": "view-in-github",
        "colab_type": "text"
      },
      "source": [
        "<a href=\"https://colab.research.google.com/github/mortezaaghajanzadeh/Machine-learning-in-Finance/blob/main/Lecture%202/introduction_to_deep_learning_lecture_2_example_1.ipynb\" target=\"_parent\"><img src=\"https://colab.research.google.com/assets/colab-badge.svg\" alt=\"Open In Colab\"/></a>"
      ]
    },
    {
      "cell_type": "markdown",
      "source": [
        "# **Lecture 2: Introduction to Deep Learning.**\n",
        "### Example: train a model in TensorFlow to fit recovery rate date on assets using a triangular distribution."
      ],
      "metadata": {
        "id": "uTxaRXhp98WS"
      }
    },
    {
      "cell_type": "code",
      "source": [
        "# Import libraries.\n",
        "import numpy as np\n",
        "import tensorflow as tf\n",
        "import matplotlib.pyplot as plt"
      ],
      "metadata": {
        "id": "RH3GPpmU-KAp"
      },
      "execution_count": null,
      "outputs": []
    },
    {
      "cell_type": "markdown",
      "source": [
        "## Simulate recovery rates."
      ],
      "metadata": {
        "id": "w5Lycwa7-SE6"
      }
    },
    {
      "cell_type": "code",
      "source": [
        "# Simulate recovery rate data.\n",
        "np.random.seed(58)\n",
        "n = 500\n",
        "\n",
        "# Set true values pf parameters.\n",
        "a, b, c = 0.0, 0.2, 1.0\n",
        "data = np.random.triangular(a, b, c, n)"
      ],
      "metadata": {
        "id": "d9dAZ-Dx9QD4"
      },
      "execution_count": null,
      "outputs": []
    },
    {
      "cell_type": "markdown",
      "source": [
        "## Visualize data."
      ],
      "metadata": {
        "id": "WQojvs3s-daM"
      }
    },
    {
      "cell_type": "code",
      "source": [
        "# Plot histogram.\n",
        "plt.hist(data, bins=30, density=True, alpha=0.5)\n",
        "plt.title('Simulated Recovery Rates')\n",
        "plt.xlabel('Rate')\n",
        "plt.ylabel('Density')\n",
        "plt.show()"
      ],
      "metadata": {
        "id": "j5E5gGui9UGy",
        "colab": {
          "base_uri": "https://localhost:8080/",
          "height": 472
        },
        "outputId": "87767c14-537b-4988-92f6-f6e2a7f7b543"
      },
      "execution_count": null,
      "outputs": [
        {
          "output_type": "display_data",
          "data": {
            "text/plain": [
              "<Figure size 640x480 with 1 Axes>"
            ],
            "image/png": "[encoded data removed]"
          },
          "metadata": {}
        }
      ]
    },
    {
      "cell_type": "markdown",
      "source": [
        "## Define trainable variables for triangular distribution."
      ],
      "metadata": {
        "id": "gKYwm-I1-70A"
      }
    },
    {
      "cell_type": "code",
      "source": [
        "# Define trainable parameters for the triangular distribution\n",
        "a_hat = tf.Variable(np.min(data), name='a', dtype=tf.float32)\n",
        "b_hat = tf.Variable(np.mean(data), name='b', dtype=tf.float32)\n",
        "c_hat = tf.Variable(np.max(data), name='c', dtype=tf.float32)"
      ],
      "metadata": {
        "id": "eZmvxTpF9WZv"
      },
      "execution_count": null,
      "outputs": []
    },
    {
      "cell_type": "markdown",
      "source": [
        "## Define loss function and optimizer."
      ],
      "metadata": {
        "id": "1hOJKAxZGITB"
      }
    },
    {
      "cell_type": "code",
      "source": [
        "# Define the loss function (negative log likelihood)\n",
        "def nll_loss():\n",
        "    # Compute the probability density function of the triangular distribution\n",
        "    pdf_values = tf.where(\n",
        "        data < b_hat,\n",
        "        2 * (data - a_hat) / ((b_hat - a_hat) * (c_hat - a_hat)),\n",
        "        2 * (c_hat - data) / ((c_hat - b_hat) * (c_hat - a_hat))\n",
        "    )\n",
        "    # Add a small constant to avoid taking log(0)\n",
        "    log_likelihood = tf.math.log(pdf_values + 1e-6)\n",
        "    return -tf.reduce_mean(log_likelihood)"
      ],
      "metadata": {
        "id": "9YN2Cwi19ZYI"
      },
      "execution_count": null,
      "outputs": []
    },
    {
      "cell_type": "code",
      "source": [
        "# Instantiate optimizer.\n",
        "optimizer = tf.optimizers.Adam(learning_rate=0.01)"
      ],
      "metadata": {
        "id": "_tpjq4qR1nWQ"
      },
      "execution_count": null,
      "outputs": []
    },
    {
      "cell_type": "markdown",
      "source": [
        "## Train model."
      ],
      "metadata": {
        "id": "vvq4U6R6GOQI"
      }
    },
    {
      "cell_type": "code",
      "source": [
        "# Training loop.\n",
        "for epoch in range(500):\n",
        "    # Use the minimize method, which computes gradients and applies them\n",
        "    optimizer.minimize(nll_loss, var_list=[a_hat, b_hat, c_hat])\n",
        "    if epoch % 50 == 0:\n",
        "        print(f'Epoch {epoch}: Loss: {nll_loss().numpy()}')"
      ],
      "metadata": {
        "id": "YRtVQHiY9ay4",
        "colab": {
          "base_uri": "https://localhost:8080/"
        },
        "outputId": "e75569bd-d860-4190-aca4-559f03c8af9f"
      },
      "execution_count": null,
      "outputs": [
        {
          "output_type": "stream",
          "name": "stdout",
          "text": [
            "Epoch 0: Loss: -0.08640243858098984\n",
            "Epoch 50: Loss: -0.17052648961544037\n",
            "Epoch 100: Loss: -0.17043457925319672\n",
            "Epoch 150: Loss: -0.17053937911987305\n",
            "Epoch 200: Loss: -0.17066234350204468\n",
            "Epoch 250: Loss: -0.17080271244049072\n",
            "Epoch 300: Loss: -0.170959010720253\n",
            "Epoch 350: Loss: -0.17112977802753448\n",
            "Epoch 400: Loss: -0.1713135987520218\n",
            "Epoch 450: Loss: -0.17151007056236267\n"
          ]
        }
      ]
    },
    {
      "cell_type": "markdown",
      "source": [
        "## Plot fitted distribution."
      ],
      "metadata": {
        "id": "ckX9jaWpGW21"
      }
    },
    {
      "cell_type": "code",
      "source": [
        "# Plot the fitted distribution against data.\n",
        "x = np.linspace(0, 1, 200)\n",
        "pdf = tf.where(\n",
        "    x < b,\n",
        "    2 * (x - a_hat) / ((b_hat - a_hat) * (c_hat - a)),\n",
        "    2 * (c_hat - x) / ((c_hat - b) * (c_hat - a))\n",
        ")\n",
        "\n",
        "plt.hist(data, bins=30, density=True, alpha=0.5)\n",
        "plt.plot(x, pdf, label='Fitted distribution', color='red')\n",
        "plt.title('Fitted Triangular Distribution')\n",
        "plt.xlabel('Rate')\n",
        "plt.ylabel('Density')\n",
        "plt.legend()\n",
        "plt.show()"
      ],
      "metadata": {
        "id": "hE_5fjwh9cTW",
        "colab": {
          "base_uri": "https://localhost:8080/",
          "height": 472
        },
        "outputId": "e921afc5-1ccd-458a-d708-e7ef1d05bc73"
      },
      "execution_count": null,
      "outputs": [
        {
          "output_type": "display_data",
          "data": {
            "text/plain": [
              "<Figure size 640x480 with 1 Axes>"
            ],
            "image/png": "[encoded data removed]"
          },
          "metadata": {}
        }
      ]
    },
    {
      "cell_type": "markdown",
      "source": [
        "## Print parameter estimates."
      ],
      "metadata": {
        "id": "ovciiHIfGbIV"
      }
    },
    {
      "cell_type": "code",
      "source": [
        "# Output the estimated parameters\n",
        "print(f\"Estimated a (min): {a_hat.numpy()}\")\n",
        "print(f\"Estimated b (mode): {b_hat.numpy()}\")\n",
        "print(f\"Estimated c (max): {c_hat.numpy()}\")"
      ],
      "metadata": {
        "id": "n2Peii5K9d1S",
        "colab": {
          "base_uri": "https://localhost:8080/"
        },
        "outputId": "4dddddbe-df10-417c-94d8-96c9e08748c0"
      },
      "execution_count": null,
      "outputs": [
        {
          "output_type": "stream",
          "name": "stdout",
          "text": [
            "Estimated a (min): -0.038574133068323135\n",
            "Estimated b (mode): 0.19838978350162506\n",
            "Estimated c (max): 1.0333555936813354\n"
          ]
        }
      ]
    }
  ]
}