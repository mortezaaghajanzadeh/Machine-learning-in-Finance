{
  "cells": [
    {
      "cell_type": "markdown",
      "metadata": {
        "colab_type": "text",
        "id": "view-in-github"
      },
      "source": [
        "<a href=\"https://colab.research.google.com/github/mortezaaghajanzadeh/Machine-learning-in-Finance/blob/main/Lecture%202/introduction_to_deep_learning_lecture_2_example_1.ipynb\" target=\"_parent\"><img src=\"https://colab.research.google.com/assets/colab-badge.svg\" alt=\"Open In Colab\"/></a>"
      ]
    },
    {
      "cell_type": "markdown",
      "metadata": {
        "id": "uTxaRXhp98WS"
      },
      "source": [
        "# **Lecture 2: Introduction to Deep Learning.**\n",
        "### Example: train a model in TensorFlow to fit recovery rate date on assets using a triangular distribution."
      ]
    },
    {
      "cell_type": "code",
      "execution_count": 5,
      "metadata": {
        "id": "RH3GPpmU-KAp"
      },
      "outputs": [],
      "source": [
        "# Import libraries.\n",
        "import numpy as np\n",
        "import tensorflow as tf\n",
        "import matplotlib.pyplot as plt"
      ]
    },
    {
      "cell_type": "markdown",
      "metadata": {
        "id": "w5Lycwa7-SE6"
      },
      "source": [
        "## Simulate recovery rates."
      ]
    },
    {
      "cell_type": "code",
      "execution_count": 6,
      "metadata": {
        "id": "d9dAZ-Dx9QD4"
      },
      "outputs": [],
      "source": [
        "# Simulate recovery rate data.\n",
        "np.random.seed(58)\n",
        "n = 500\n",
        "\n",
        "# Set true values pf parameters.\n",
        "a, b, c = 0.0, 0.2, 1.0\n",
        "data = np.random.triangular(a, b, c, n)"
      ]
    },
    {
      "cell_type": "markdown",
      "metadata": {
        "id": "WQojvs3s-daM"
      },
      "source": [
        "## Visualize data."
      ]
    },
    {
      "cell_type": "code",
      "execution_count": 7,
      "metadata": {
        "colab": {
          "base_uri": "https://localhost:8080/",
          "height": 472
        },
        "id": "j5E5gGui9UGy",
        "outputId": "87767c14-537b-4988-92f6-f6e2a7f7b543"
      },
      "outputs": [
        {
          "data": {
            "image/png": "[encoded data removed]",
            "text/plain": [
              "<Figure size 640x480 with 1 Axes>"
            ]
          },
          "metadata": {},
          "output_type": "display_data"
        }
      ],
      "source": [
        "# Plot histogram.\n",
        "plt.hist(data, bins=30, density=True, alpha=0.5)\n",
        "plt.title('Simulated Recovery Rates')\n",
        "plt.xlabel('Rate')\n",
        "plt.ylabel('Density')\n",
        "plt.show()"
      ]
    },
    {
      "cell_type": "markdown",
      "metadata": {
        "id": "gKYwm-I1-70A"
      },
      "source": [
        "## Define trainable variables for triangular distribution."
      ]
    },
    {
      "cell_type": "code",
      "execution_count": 8,
      "metadata": {
        "id": "eZmvxTpF9WZv"
      },
      "outputs": [],
      "source": [
        "# Define trainable parameters for the triangular distribution\n",
        "a_hat = tf.Variable(np.min(data), name='a', dtype=tf.float32)\n",
        "b_hat = tf.Variable(np.mean(data), name='b', dtype=tf.float32)\n",
        "c_hat = tf.Variable(np.max(data), name='c', dtype=tf.float32)"
      ]
    },
    {
      "cell_type": "markdown",
      "metadata": {
        "id": "1hOJKAxZGITB"
      },
      "source": [
        "## Define loss function and optimizer."
      ]
    },
    {
      "cell_type": "code",
      "execution_count": 9,
      "metadata": {
        "id": "9YN2Cwi19ZYI"
      },
      "outputs": [],
      "source": [
        "# Define the loss function (negative log likelihood)\n",
        "def nll_loss():\n",
        "    # Compute the probability density function of the triangular distribution\n",
        "    pdf_values = tf.where(\n",
        "        data < b_hat,\n",
        "        2 * (data - a_hat) / ((b_hat - a_hat) * (c_hat - a_hat)),\n",
        "        2 * (c_hat - data) / ((c_hat - b_hat) * (c_hat - a_hat))\n",
        "    )\n",
        "    # Add a small constant to avoid taking log(0)\n",
        "    log_likelihood = tf.math.log(pdf_values + 1e-6)\n",
        "    return -tf.reduce_mean(log_likelihood)"
      ]
    },
    {
      "cell_type": "code",
      "execution_count": 10,
      "metadata": {
        "id": "_tpjq4qR1nWQ"
      },
      "outputs": [],
      "source": [
        "# Instantiate optimizer.\n",
        "optimizer = tf.optimizers.Adam(learning_rate=0.01)"
      ]
    },
    {
      "cell_type": "markdown",
      "metadata": {
        "id": "vvq4U6R6GOQI"
      },
      "source": [
        "## Train model."
      ]
    },
    {
      "cell_type": "code",
      "execution_count": 11,
      "metadata": {
        "colab": {
          "base_uri": "https://localhost:8080/"
        },
        "id": "YRtVQHiY9ay4",
        "outputId": "e75569bd-d860-4190-aca4-559f03c8af9f"
      },
      "outputs": [
        {
          "name": "stdout",
          "output_type": "stream",
          "text": [
            "Epoch 0: Loss: -0.08640243113040924\n",
            "Epoch 50: Loss: -0.17052645981311798\n",
            "Epoch 100: Loss: -0.17043450474739075\n",
            "Epoch 150: Loss: -0.1705389767885208\n",
            "Epoch 200: Loss: -0.17066238820552826\n",
            "Epoch 250: Loss: -0.17080269753932953\n",
            "Epoch 300: Loss: -0.17095910012722015\n",
            "Epoch 350: Loss: -0.17112979292869568\n",
            "Epoch 400: Loss: -0.17131344974040985\n",
            "Epoch 450: Loss: -0.1715097278356552\n"
          ]
        }
      ],
      "source": [
        "# Training loop.\n",
        "for epoch in range(500):\n",
        "    # Use the minimize method, which computes gradients and applies them\n",
        "    optimizer.minimize(nll_loss, var_list=[a_hat, b_hat, c_hat])\n",
        "    if epoch % 50 == 0:\n",
        "        print(f'Epoch {epoch}: Loss: {nll_loss().numpy()}')"
      ]
    },
    {
      "cell_type": "markdown",
      "metadata": {
        "id": "ckX9jaWpGW21"
      },
      "source": [
        "## Plot fitted distribution."
      ]
    },
    {
      "cell_type": "code",
      "execution_count": 12,
      "metadata": {
        "colab": {
          "base_uri": "https://localhost:8080/",
          "height": 472
        },
        "id": "hE_5fjwh9cTW",
        "outputId": "e921afc5-1ccd-458a-d708-e7ef1d05bc73"
      },
      "outputs": [
        {
          "data": {
            "image/png": "[encoded data removed]",
            "text/plain": [
              "<Figure size 640x480 with 1 Axes>"
            ]
          },
          "metadata": {},
          "output_type": "display_data"
        }
      ],
      "source": [
        "# Plot the fitted distribution against data.\n",
        "x = np.linspace(0, 1, 200)\n",
        "pdf = tf.where(\n",
        "    x < b,\n",
        "    2 * (x - a_hat) / ((b_hat - a_hat) * (c_hat - a)),\n",
        "    2 * (c_hat - x) / ((c_hat - b) * (c_hat - a))\n",
        ")\n",
        "\n",
        "plt.hist(data, bins=30, density=True, alpha=0.5)\n",
        "plt.plot(x, pdf, label='Fitted distribution', color='red')\n",
        "plt.title('Fitted Triangular Distribution')\n",
        "plt.xlabel('Rate')\n",
        "plt.ylabel('Density')\n",
        "plt.legend()\n",
        "plt.show()"
      ]
    },
    {
      "cell_type": "markdown",
      "metadata": {
        "id": "ovciiHIfGbIV"
      },
      "source": [
        "## Print parameter estimates."
      ]
    },
    {
      "cell_type": "code",
      "execution_count": 13,
      "metadata": {
        "colab": {
          "base_uri": "https://localhost:8080/"
        },
        "id": "n2Peii5K9d1S",
        "outputId": "4dddddbe-df10-417c-94d8-96c9e08748c0"
      },
      "outputs": [
        {
          "name": "stdout",
          "output_type": "stream",
          "text": [
            "Estimated a (min): -0.03857438266277313\n",
            "Estimated b (mode): 0.1982359141111374\n",
            "Estimated c (max): 1.0333552360534668\n"
          ]
        }
      ],
      "source": [
        "# Output the estimated parameters\n",
        "print(f\"Estimated a (min): {a_hat.numpy()}\")\n",
        "print(f\"Estimated b (mode): {b_hat.numpy()}\")\n",
        "print(f\"Estimated c (max): {c_hat.numpy()}\")"
      ]
    },
    {
      "cell_type": "code",
      "execution_count": null,
      "metadata": {},
      "outputs": [],
      "source": []
    }
  ],
  "metadata": {
    "colab": {
      "include_colab_link": true,
      "provenance": []
    },
    "kernelspec": {
      "display_name": "Python 3",
      "name": "python3"
    },
    "language_info": {
      "codemirror_mode": {
        "name": "ipython",
        "version": 3
      },
      "file_extension": ".py",
      "mimetype": "text/x-python",
      "name": "python",
      "nbconvert_exporter": "python",
      "pygments_lexer": "ipython3",
      "version": "3.10.11"
    }
  },
  "nbformat": 4,
  "nbformat_minor": 0
}
