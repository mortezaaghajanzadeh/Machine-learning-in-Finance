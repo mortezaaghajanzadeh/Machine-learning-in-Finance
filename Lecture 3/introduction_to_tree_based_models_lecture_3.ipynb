{
  "nbformat": 4,
  "nbformat_minor": 0,
  "metadata": {
    "colab": {
      "provenance": [],
      "include_colab_link": true
    },
    "kernelspec": {
      "name": "python3",
      "display_name": "Python 3"
    },
    "language_info": {
      "name": "python"
    }
  },
  "cells": [
    {
      "cell_type": "markdown",
      "metadata": {
        "id": "view-in-github",
        "colab_type": "text"
      },
      "source": [
        "<a href=\"https://colab.research.google.com/github/mortezaaghajanzadeh/Machine-learning-in-Finance/blob/main/Lecture%203/introduction_to_tree_based_models_lecture_3.ipynb\" target=\"_parent\"><img src=\"https://colab.research.google.com/assets/colab-badge.svg\" alt=\"Open In Colab\"/></a>"
      ]
    },
    {
      "cell_type": "markdown",
      "source": [
        "# **Lecture 3: Introduction to Tree-Based Models.**\n",
        "### Based on code from Chapter 4 in ``Machine Learning for Economics and Finance in TensorFlow 2'' (Hull, 2021)."
      ],
      "metadata": {
        "id": "uTxaRXhp98WS"
      }
    },
    {
      "cell_type": "code",
      "source": [
        "# Import libraries.\n",
        "import pandas as pd\n",
        "import tensorflow as tf"
      ],
      "metadata": {
        "id": "RH3GPpmU-KAp"
      },
      "execution_count": null,
      "outputs": []
    },
    {
      "cell_type": "markdown",
      "source": [
        "## **Listing 4-1.** Prepare data for use in gradient boosted classification trees."
      ],
      "metadata": {
        "id": "w5Lycwa7-SE6"
      }
    },
    {
      "cell_type": "code",
      "source": [
        "# Define data path.\n",
        "data_path = 'https://www.dropbox.com/scl/fi/w3qorenil6l8f668nfr5t/hmda.csv?rlkey=iwze0b681zn9ui6zz2eayrvtq&dl=1'\n",
        "\n",
        "# Load hmda data using pandas.\n",
        "hmda = pd.read_csv(data_path)\n",
        "\n",
        "# Define applicant income feature column.\n",
        "applicantIncome = tf.feature_column.numeric_column(\"applicantIncome\")\n",
        "\n",
        "# Define applicant msa relative income.\n",
        "areaIncome = tf.feature_column.numeric_column(\"areaIncome\")\n",
        "\n",
        "# Combine features into list.\n",
        "feature_list = [applicantIncome, areaIncome]"
      ],
      "metadata": {
        "id": "d9dAZ-Dx9QD4",
        "colab": {
          "base_uri": "https://localhost:8080/"
        },
        "outputId": "c698c962-4a39-497d-9c34-6d9e66d44c47"
      },
      "execution_count": null,
      "outputs": [
        {
          "output_type": "stream",
          "name": "stderr",
          "text": [
            "<ipython-input-2-d7dee2567795>:5: DtypeWarning: Columns (36,38,46,48) have mixed types. Specify dtype option on import or set low_memory=False.\n",
            "  hmda = pd.read_csv(data_path)\n",
            "WARNING:tensorflow:From <ipython-input-2-d7dee2567795>:8: numeric_column (from tensorflow.python.feature_column.feature_column_v2) is deprecated and will be removed in a future version.\n",
            "Instructions for updating:\n",
            "Use Keras preprocessing layers instead, either directly or via the `tf.keras.utils.FeatureSpace` utility. Each of `tf.feature_column.*` has a functional equivalent in `tf.keras.layers` for feature preprocessing when training a Keras model.\n"
          ]
        }
      ]
    },
    {
      "cell_type": "markdown",
      "source": [
        "## **Listing 4-2.** Define function to generate input data function."
      ],
      "metadata": {
        "id": "WQojvs3s-daM"
      }
    },
    {
      "cell_type": "code",
      "source": [
        "# Define input data function.\n",
        "def input_fn():\n",
        "\t# Define dictionary of features.\n",
        "features = {\"applicantIncome\": hmda['income’],\n",
        "     \"areaIncome\": hmda['area_income’]}\n",
        "\n",
        "\t# Define labels.\n",
        "labels = hmda['accepted'].copy()\n",
        "\n",
        "\t# Return features and labels.\n",
        "return features, labels"
      ],
      "metadata": {
        "colab": {
          "base_uri": "https://localhost:8080/"
        },
        "id": "j5E5gGui9UGy",
        "outputId": "aa487575-146a-4e48-ec87-8b2ef81e52b8"
      },
      "execution_count": null,
      "outputs": [
        {
          "output_type": "stream",
          "name": "stdout",
          "text": [
            "tf.Tensor(\n",
            "[[1. 0.]\n",
            " [1. 2.]], shape=(2, 2), dtype=float32)\n",
            "[[2.]\n",
            " [1.]]\n"
          ]
        }
      ]
    },
    {
      "cell_type": "markdown",
      "source": [
        "## **Listing 4-3.** Define and train a boosted trees classifier."
      ],
      "metadata": {
        "id": "gKYwm-I1-70A"
      }
    },
    {
      "cell_type": "code",
      "source": [
        "# Define boosted trees classifier.\n",
        "model = tf.estimator.BoostedTreesClassifier(\n",
        "feature_columns = feature_list,\n",
        "\tn_batches_per_layer = 1)\n",
        "\n",
        "# Train model using 100 epochs.\n",
        "model.train(input_fn, steps=100)"
      ],
      "metadata": {
        "id": "eZmvxTpF9WZv"
      },
      "execution_count": null,
      "outputs": []
    },
    {
      "cell_type": "markdown",
      "source": [
        "## **Listing 4-4.** Evaluate a boosted trees classifier."
      ],
      "metadata": {
        "id": "1hOJKAxZGITB"
      }
    },
    {
      "cell_type": "code",
      "source": [
        "# Evaluate model in-sample.\n",
        "result = model.evaluate(input_fn, steps = 1)\n",
        "\n",
        "# Print results.\n",
        "print(pd.Series(result))"
      ],
      "metadata": {
        "id": "9YN2Cwi19ZYI"
      },
      "execution_count": null,
      "outputs": []
    },
    {
      "cell_type": "markdown",
      "source": [
        "## **Listing 4-5.** Define and train a boosted trees regressor."
      ],
      "metadata": {
        "id": "vvq4U6R6GOQI"
      }
    },
    {
      "cell_type": "code",
      "source": [
        "# Define input data function.\n",
        "def input_fn():\n",
        "\tfeatures = {\"applicantIncome\": data['income],\n",
        "\t\"msaIncome\": data['area_income']}\n",
        "\ttargets = data['loan_amount’].copy()\n",
        "\treturn features, targets\n",
        "\n",
        "# Define model.\n",
        "model = tf.estimator.BoostedTreesRegressor(\n",
        "feature_columns = feature_list,\n",
        "n_batches_per_layer = 1)"
      ],
      "metadata": {
        "id": "YRtVQHiY9ay4"
      },
      "execution_count": null,
      "outputs": []
    },
    {
      "cell_type": "markdown",
      "source": [
        "## **Listing 4-6.** Evaluate a boosted trees regressor."
      ],
      "metadata": {
        "id": "ckX9jaWpGW21"
      }
    },
    {
      "cell_type": "code",
      "source": [
        "# Evaluate model in-sample.\n",
        "result = model.evaluate(input_fn, steps = 1)\n",
        "\n",
        "# Print results.\n",
        "print(pd.Series(result))"
      ],
      "metadata": {
        "id": "hE_5fjwh9cTW"
      },
      "execution_count": null,
      "outputs": []
    }
  ]
}