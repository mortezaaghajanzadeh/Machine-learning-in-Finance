{
  "nbformat": 4,
  "nbformat_minor": 0,
  "metadata": {
    "colab": {
      "provenance": [],
      "include_colab_link": true
    },
    "kernelspec": {
      "name": "python3",
      "display_name": "Python 3"
    },
    "language_info": {
      "name": "python"
    }
  },
  "cells": [
    {
      "cell_type": "markdown",
      "metadata": {
        "id": "view-in-github",
        "colab_type": "text"
      },
      "source": [
        "<a href=\"https://colab.research.google.com/github/mortezaaghajanzadeh/Machine-learning-in-Finance/blob/main/Exam/phd430_t2.ipynb\" target=\"_parent\"><img src=\"https://colab.research.google.com/assets/colab-badge.svg\" alt=\"Open In Colab\"/></a>"
      ]
    },
    {
      "cell_type": "markdown",
      "source": [
        "# **PhD 430 Take Home Exam: Task 2.**\n",
        "### In this question, you will estimate an autoregressive exchange rate model using different optimizers and loss functions."
      ],
      "metadata": {
        "id": "uTxaRXhp98WS"
      }
    },
    {
      "cell_type": "markdown",
      "source": [
        "Assume you want to estimate an AR(1) model of the log USD-GBP exchange rate:\n",
        "\n",
        "\\begin{equation}\n",
        "y_{t} = \\alpha + \\rho y_{t-1} + \\epsilon_t\n",
        "\\end{equation}\n",
        "\n",
        "The code in this notebook trains the model by minimizing the following loss function:\n",
        "\n",
        "\\begin{equation}\n",
        "L = \\frac{1}{T}\\sum_{t=1}^{T} \\left(y_{t} - \\alpha - \\rho y_{t-1}\n",
        "\\right)^{2}\n",
        "\\end{equation}"
      ],
      "metadata": {
        "id": "sO6AEYSbE7FH"
      }
    },
    {
      "cell_type": "code",
      "source": [
        "# Import libraries.\n",
        "import tensorflow as tf\n",
        "import numpy as np\n",
        "import pandas as pd\n",
        "import matplotlib.pyplot as plt"
      ],
      "metadata": {
        "id": "RH3GPpmU-KAp"
      },
      "execution_count": null,
      "outputs": []
    },
    {
      "cell_type": "markdown",
      "source": [
        "### **Load data and define variables.**"
      ],
      "metadata": {
        "id": "Q4ZbMxoa7ENi"
      }
    },
    {
      "cell_type": "code",
      "source": [
        "# Define data path.\n",
        "file_path = 'https://www.dropbox.com/scl/fi/utj4vox9yudaj5z0ngd8d/exchange_rate.csv?rlkey=1szy4yh3x1w3pac4qds3y6hpw&dl=1'\n",
        "\n",
        "# Load data.\n",
        "data = pd.read_csv(file_path)\n",
        "\n",
        "# Convert log exchange rate to numpy array.\n",
        "e = np.array(np.log(data['USD_GBP']))\n",
        "\n",
        "# Define the lagged exchange rate as a tensorflow constant.\n",
        "le = tf.constant(e[1:-1], tf.float32)\n",
        "\n",
        "# Define the exchange rate as a tensorflow constant.\n",
        "e = tf.constant(e[2:], tf.float32)"
      ],
      "metadata": {
        "id": "4xe7P2J47OVH"
      },
      "execution_count": null,
      "outputs": []
    },
    {
      "cell_type": "markdown",
      "source": [
        "### **Define trainable parameters for the model.**"
      ],
      "metadata": {
        "id": "mRkRumju7GKr"
      }
    },
    {
      "cell_type": "code",
      "source": [
        "# Initialize parameters.\n",
        "alpha = tf.Variable(0.05, tf.float32)\n",
        "rho = tf.Variable(0.05, tf.float32)"
      ],
      "metadata": {
        "id": "QLdZVJNX7Xab"
      },
      "execution_count": null,
      "outputs": []
    },
    {
      "cell_type": "markdown",
      "source": [
        "### **Define model and loss function.**"
      ],
      "metadata": {
        "id": "uNo1pdob7Gzp"
      }
    },
    {
      "cell_type": "code",
      "source": [
        "# Define AR(1) model to make predictions.\n",
        "def ar(alpha, rho, le):\n",
        "\tyhat = alpha + rho*le\n",
        "\treturn yhat"
      ],
      "metadata": {
        "id": "Vc46pa2t7Z7F"
      },
      "execution_count": null,
      "outputs": []
    },
    {
      "cell_type": "code",
      "source": [
        "# Define loss function.\n",
        "def loss(alpha, rho, e, le):\n",
        "\tyhat = ar(alpha, rho, le)\n",
        "\treturn tf.keras.losses.mse(e, yhat)"
      ],
      "metadata": {
        "id": "mZOb5G0kC7du"
      },
      "execution_count": null,
      "outputs": []
    },
    {
      "cell_type": "markdown",
      "source": [
        "### **Train model.**"
      ],
      "metadata": {
        "id": "LTanTz7d7id4"
      }
    },
    {
      "cell_type": "code",
      "source": [
        "# Insantiate optimizer.\n",
        "opt = tf.keras.optimizers.SGD()"
      ],
      "metadata": {
        "id": "HSOsMde4DbtU"
      },
      "execution_count": null,
      "outputs": []
    },
    {
      "cell_type": "code",
      "source": [
        "# Perform minimization.\n",
        "for i in range(100):\n",
        "\topt.minimize(lambda:\n",
        "\tloss(alpha, rho, e, le),\n",
        "\tvar_list = [alpha, rho]\n",
        "\t)"
      ],
      "metadata": {
        "id": "V7Yeso4U7mqO"
      },
      "execution_count": null,
      "outputs": []
    },
    {
      "cell_type": "markdown",
      "source": [
        "### **Evaluate results.**"
      ],
      "metadata": {
        "id": "d7_3xxlG_OFI"
      }
    },
    {
      "cell_type": "code",
      "source": [
        "# Print parameters.\n",
        "print('alpha: {}, rho: {}'.format(alpha.numpy(), rho.numpy()))\n",
        "\n",
        "# Generate predictions.\n",
        "ypred = ar(alpha, rho, le)\n",
        "\n",
        "# Print loss.\n",
        "print('loss: {}'.format(loss(alpha, rho, e, le).numpy()))"
      ],
      "metadata": {
        "id": "BAiPqNRXDy8S"
      },
      "execution_count": null,
      "outputs": []
    }
  ]
}