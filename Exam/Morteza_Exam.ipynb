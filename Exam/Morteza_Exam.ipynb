{
 "cells": [
  {
   "cell_type": "markdown",
   "metadata": {},
   "source": [
    "# **PhD430 - Machine Learning Exam**\n",
    "## Morteza Aghajanzadeh \n",
    "### Dec 2023"
   ]
  },
  {
   "cell_type": "code",
   "execution_count": 35,
   "metadata": {},
   "outputs": [],
   "source": [
    "import random"
   ]
  },
  {
   "cell_type": "markdown",
   "metadata": {},
   "source": [
    "## **Task 1**"
   ]
  },
  {
   "cell_type": "markdown",
   "metadata": {},
   "source": [
    "### (a) *Symbolic differentiation*\n",
    "\n",
    "\\begin{equation*}\n",
    "\\begin{split}\n",
    "L & = (y - \\omega x -b)^2\\\\\n",
    "\\frac{\\partial L}{\\partial \\omega} &  = 2 (-x)(y - \\omega x -b)\\\\\n",
    "& = 2 (-2)(3 - 2 \\omega ) \\\\\n",
    "& = 8 \\omega - 12\n",
    "\\end{split}\n",
    "\\end{equation*}\n"
   ]
  },
  {
   "cell_type": "markdown",
   "metadata": {},
   "source": [
    "### (b) *The forward difference method*\n",
    "\n",
    "\\begin{equation*}\n",
    "\\begin{split}\n",
    "L & = (y - \\omega x -b)^2\\\\\n",
    "\\frac{\\partial L}{\\partial \\omega} &  \\approx  \\dfrac{(y - (\\omega + h) x -b)^2 - (y - \\omega x -b)^2}{h}\\\\\n",
    "& \\approx \\dfrac{((y - (\\omega + h) x -b) + (y - \\omega x -b)) ((y - (\\omega + h) x -b) - (y - \\omega x -b))}{h} \\\\\n",
    "& \\approx \\dfrac{(2(y - \\omega x -b) - hx) (-hx)}{h} \\\\\n",
    "& \\approx {(2(y - \\omega x -b) - hx) (-x)}\\\\\n",
    "& \\approx {2(-x) (y - \\omega x -b)}\\\\\n",
    "& \\approx 2 (-2)(3 - 2 \\omega ) \\\\\n",
    "& = 8 \\omega - 12\n",
    "\\end{split}\n",
    "\\end{equation*}\n"
   ]
  },
  {
   "cell_type": "markdown",
   "metadata": {},
   "source": [
    "### (c) *Autodifferentiation*\n",
    "\n",
    "\\begin{equation*}\n",
    "\n",
    "\\left.\\begin{array}{c}\n",
    "g(z) = z^2 \\Rightarrow \\frac{\\partial g(z)}{\\partial z} = 2z\\\\\n",
    "f(w) = y - wx - b \\Rightarrow \\frac{\\partial f(w)}{\\partial w} = -x\n",
    "\\end{array}\\right\\} \\Rightarrow \\frac{\\partial L}{\\partial \\omega} = \\frac{\\partial g(f(w))}{\\partial f(w)} \\frac{\\partial f(w)}{\\partial \\omega} = (2f(w)) (-x) = 2 (y - \\omega x -b)(-x)  = 2 (-2)(3 - 2 \\omega ) = 8 \\omega - 12\n",
    "\\end{equation*}\n"
   ]
  },
  {
   "cell_type": "markdown",
   "metadata": {},
   "source": [
    "## **Task 2**"
   ]
  },
  {
   "cell_type": "markdown",
   "metadata": {},
   "source": [
    "Assume you want to estimate an AR(1) model of the log USD-GBP exchange rate:\n",
    "\n",
    "\\begin{equation}\n",
    "y_{t} = \\alpha + \\rho y_{t-1} + \\epsilon_t\n",
    "\\end{equation}\n",
    "\n",
    "The code in this notebook trains the model by minimizing the following loss function:\n",
    "\n",
    "\\begin{equation}\n",
    "L = \\frac{1}{T}\\sum_{t=1}^{T} \\left(y_{t} - \\alpha - \\rho y_{t-1}\n",
    "\\right)^{2}\n",
    "\\end{equation}"
   ]
  },
  {
   "cell_type": "code",
   "execution_count": 1,
   "metadata": {},
   "outputs": [],
   "source": [
    "# Import libraries.\n",
    "import tensorflow as tf\n",
    "import numpy as np\n",
    "import pandas as pd\n",
    "import matplotlib.pyplot as plt\n",
    "\n",
    "# Define data path.\n",
    "file_path = 'https://www.dropbox.com/scl/fi/utj4vox9yudaj5z0ngd8d/exchange_rate.csv?rlkey=1szy4yh3x1w3pac4qds3y6hpw&dl=1'\n",
    "\n",
    "# Load data.\n",
    "data = pd.read_csv(file_path)\n"
   ]
  },
  {
   "cell_type": "markdown",
   "metadata": {},
   "source": [
    "### Modified code\n",
    "I wrote than a function that do all the trainings based on the code that you provided for us.\n",
    "I set seed number in the function to get the same result every time.\n",
    "The function get the $\\alpha_{0}$, $\\rho_0$, loss_function, and opt as an input.\n",
    "I set the baseline values as given to the function"
   ]
  },
  {
   "cell_type": "code",
   "execution_count": 2,
   "metadata": {},
   "outputs": [],
   "source": [
    "def estimation_model(data,α_0 = 0.05,ρ_0 = 0.05,loss_function = tf.keras.losses.mse,opt = tf.keras.optimizers.SGD()):\n",
    "\trandom.seed(13990508)\n",
    "\t# Convert log exchange rate to numpy array.\n",
    "\te = np.array(np.log(data['USD_GBP']))\n",
    "\n",
    "\t# Define the lagged exchange rate as a tensorflow constant.\n",
    "\tle = tf.constant(e[1:-1], tf.float32)\n",
    "\n",
    "\t# Define the exchange rate as a tensorflow constant.\n",
    "\te = tf.constant(e[2:], tf.float32)\n",
    "\t# Initialize parameters.\n",
    "\talpha = tf.Variable(α_0, tf.float32)\n",
    "\trho = tf.Variable(ρ_0, tf.float32)\n",
    "\t# Define AR(1) model to make predictions.\n",
    "\tdef ar(alpha, rho, le):\n",
    "\t\tyhat = alpha + rho*le\n",
    "\t\treturn yhat\n",
    "\t# Define loss function.\n",
    "\tdef loss(alpha, rho, e, le):\n",
    "\t\tyhat = ar(alpha, rho, le)\n",
    "\t\treturn loss_function(e, yhat)\n",
    "\t# Insantiate optimizer.\n",
    "\topt = tf.keras.optimizers.SGD()\n",
    "\t# Perform minimization.\n",
    "\tfor i in range(100):\n",
    "\t\topt.minimize(lambda:\n",
    "\t\tloss(alpha, rho, e, le),\n",
    "\t\tvar_list = [alpha, rho]\n",
    "\t\t)\n",
    "\t# Print parameters.\n",
    "\tprint('alpha: {}, rho: {}'.format(alpha.numpy(), rho.numpy()))\n",
    "\n",
    "\t# Generate predictions.\n",
    "\typred = ar(alpha, rho, le)\n",
    "\n",
    "\t# Print loss.\n",
    "\tprint('loss: {}'.format(loss(alpha, rho, e, le).numpy()))"
   ]
  },
  {
   "cell_type": "code",
   "execution_count": 3,
   "metadata": {},
   "outputs": [
    {
     "name": "stdout",
     "output_type": "stream",
     "text": [
      "Results for the baseline model:\n",
      "alpha: 0.36203432083129883, rho: 0.2650577127933502\n",
      "loss: 0.017625970765948296\n"
     ]
    }
   ],
   "source": [
    "print(\"Results for the baseline model:\")\n",
    "estimation_model(data)"
   ]
  },
  {
   "cell_type": "markdown",
   "metadata": {},
   "source": [
    "### (a) \n",
    "Now I modify the loss function input in the defined function"
   ]
  },
  {
   "cell_type": "code",
   "execution_count": 4,
   "metadata": {},
   "outputs": [
    {
     "name": "stdout",
     "output_type": "stream",
     "text": [
      "alpha: 0.34546560049057007, rho: 0.306787371635437\n",
      "loss: 0.09436121582984924\n"
     ]
    }
   ],
   "source": [
    "estimation_model(data,loss_function = tf.keras.losses.mae)"
   ]
  },
  {
   "cell_type": "markdown",
   "metadata": {},
   "source": [
    "### (b) \n",
    "Now I modify the optimizer in the defined function"
   ]
  },
  {
   "cell_type": "code",
   "execution_count": 5,
   "metadata": {},
   "outputs": [
    {
     "name": "stdout",
     "output_type": "stream",
     "text": [
      "alpha: 0.36203432083129883, rho: 0.2650577127933502\n",
      "loss: 0.017625970765948296\n"
     ]
    }
   ],
   "source": [
    "estimation_model(data,opt=tf.keras.optimizers.Adam())"
   ]
  },
  {
   "cell_type": "markdown",
   "metadata": {},
   "source": [
    "### (c) \n",
    "Now I would use different initial guess"
   ]
  },
  {
   "cell_type": "code",
   "execution_count": 6,
   "metadata": {},
   "outputs": [
    {
     "name": "stdout",
     "output_type": "stream",
     "text": [
      "alpha: 0.31938737630844116, rho: 0.43941545486450195\n",
      "loss: 0.010513707995414734\n"
     ]
    }
   ],
   "source": [
    "estimation_model(data,α_0 = 0.5,ρ_0 = 0.5)"
   ]
  },
  {
   "cell_type": "markdown",
   "metadata": {},
   "source": [
    "As you can see, the change that we made in the last section has the major effect on the loss value that we get from the estimation. The initial guesses are important to provide a better estimation results for the model."
   ]
  },
  {
   "cell_type": "markdown",
   "metadata": {},
   "source": [
    "## **Task 3**"
   ]
  },
  {
   "cell_type": "markdown",
   "metadata": {},
   "source": [
    "### (a) \n",
    "After calculating the initial loss value, we need to find the next guess. Gradient is helpful to provide a direction for us to find the next guess.\n",
    "The gradient is used to update $\\theta$ because it points in the direction of the steepest increase of the loss function. By moving in the opposite direction of the gradient, we can iteratively update the parameters to minimize the loss. "
   ]
  },
  {
   "cell_type": "markdown",
   "metadata": {},
   "source": [
    "### (b)\n",
    "When selecting a learning rate for an optimization algorithm, it is essential to consider the trade-off between taking larger steps with each iteration and the potential for overshooting the minimum. A high learning rate can help us approach the minimum faster, but it may also lead us to miss it entirely. So, it's crucial to choose a learning rate that strikes the right balance between convergence speed and accuracy."
   ]
  },
  {
   "cell_type": "markdown",
   "metadata": {},
   "source": [
    "### (c)\n",
    "In the SDG we select a sample j uniformly form all the observations in the data and update $\\theta$ by using the \n",
    "$$\n",
    "\\theta \\coloneqq \\theta - \\alpha \\Delta_{\\theta} J^{(j)}(\\theta)\n",
    "$$\n",
    "This is the main difference between SDG and DG"
   ]
  },
  {
   "cell_type": "markdown",
   "metadata": {},
   "source": [
    "### (d)\n",
    "Computing the gradient of B examples simultaneously for the parameter $\\theta$ can be faster than computing B gradients separately due to hardware parallelization. So we sample B examples $j_1,\\dots, j_B$ (without replacement) form the observations and update $\\theta$ by \n",
    "$$\n",
    "\\theta \\coloneqq \\theta - \\frac{\\alpha}{B} \\sum_{k=1}^{B}\\Delta_{\\theta} J^{(j_k)}(\\theta)\n",
    "$$"
   ]
  },
  {
   "cell_type": "markdown",
   "metadata": {},
   "source": [
    "### (e)\n",
    "Due to their efficiency and effectiveness, Stochastic Gradient Descent (SGD) and Mini-Batch SGD have become popular optimization techniques for training deep learning models. Unlike regular Gradient Descent, which uses the entire dataset to calculate gradients, SGD and Mini-Batch SGD operate on random subsets of the data. This randomness not only makes computations more scalable for large datasets but also leads to faster convergence. Training deep learning models is computationally intensive, and the frequent parameter updates in SGD and Mini-Batch SGD contribute to quicker convergence during optimization. Additionally, the inherent randomness introduced by these methods can enhance the model's ability to generalize well to new, unseen data, acting as a form of regularization. Furthermore, their memory-efficient nature allows for the processing of large datasets that may not fit into memory at once. Overall, the combination of efficiency, faster convergence, potential for better generalization, and memory efficiency makes SGD and Mini-Batch SGD advantageous choices for training deep learning models"
   ]
  },
  {
   "cell_type": "markdown",
   "metadata": {},
   "source": [
    "## **Task 4**"
   ]
  },
  {
   "cell_type": "code",
   "execution_count": 28,
   "metadata": {},
   "outputs": [],
   "source": [
    "# Import libraries.\n",
    "import pandas as pd\n",
    "import tensorflow as tf\n",
    "# Load data.\n",
    "data = pd.read_csv('https://www.dropbox.com/scl/fi/v7iqtlyf3voedweq7xct5/macrodata.csv?rlkey=ccr7auc4i910z2h3xrs7caprn&dl=1',\n",
    "                        index_col = 'Date')"
   ]
  },
  {
   "cell_type": "markdown",
   "metadata": {},
   "source": [
    "### (a)"
   ]
  },
  {
   "cell_type": "code",
   "execution_count": 42,
   "metadata": {},
   "outputs": [
    {
     "name": "stdout",
     "output_type": "stream",
     "text": [
      "Model: \"Task_4_a\"\n",
      "_________________________________________________________________\n",
      " Layer (type)                Output Shape              Param #   \n",
      "=================================================================\n",
      " First-Layer (Dense)         (None, 2)                 6         \n",
      "                                                                 \n",
      " Output-Layer (Dense)        (None, 1)                 3         \n",
      "                                                                 \n",
      "=================================================================\n",
      "Total params: 9 (36.00 Byte)\n",
      "Trainable params: 9 (36.00 Byte)\n",
      "Non-trainable params: 0 (0.00 Byte)\n",
      "_________________________________________________________________\n",
      "None\n",
      "13/13 [==============================] - 0s 672us/step - loss: 0.0792\n",
      "8/8 [==============================] - 0s 726us/step - loss: 0.1435\n",
      "MSE for training set: 0.07924933731555939, MSE for test set: 0.14351896941661835\n"
     ]
    },
    {
     "data": {
      "image/png": "[encoded data removed]",
      "text/plain": [
       "<IPython.core.display.Image object>"
      ]
     },
     "execution_count": 42,
     "metadata": {},
     "output_type": "execute_result"
    }
   ],
   "source": [
    "random.seed(13990508)\n",
    "# Define target.\n",
    "y = data['Inflation'].iloc[1:]\n",
    "\n",
    "# Define features.\n",
    "X = data[['Inflation', 'Unemployment']].iloc[:-1]\n",
    "\n",
    "# Create train and test sets.\n",
    "y_train, y_test = y.iloc[:400], y.iloc[400:]\n",
    "X_train, X_test = X.iloc[:400], X.iloc[400:]\n",
    "\n",
    "# Define sequential model.\n",
    "model = tf.keras.models.Sequential(name=\"Task_4_a\")\n",
    "\n",
    "# Add input layer.\n",
    "model.add(tf.keras.Input(shape=(2,),name = \"Two Inputs\"))\n",
    "\n",
    "# Define dense layer.\n",
    "model.add(tf.keras.layers.Dense(2, activation=\"relu\", name = \"First-Layer\" ))\n",
    "\n",
    "# Define output layer.\n",
    "model.add(tf.keras.layers.Dense(1, activation=\"linear\",name = \"Output-Layer\"))\n",
    "\n",
    "# Compile the model.\n",
    "model.compile(loss=\"mse\", optimizer= tf.keras.optimizers.Adam())\n",
    "\n",
    "# Train the model.\n",
    "model.fit(X_train, y_train, epochs=100,verbose=0)\n",
    "\n",
    "\n",
    "# Print model architecture.\n",
    "print(model.summary())\n",
    "\n",
    "# Evaluate training set using MSE.\n",
    "MSE_train_a = model.evaluate(X_train, y_train)\n",
    "\n",
    "# Evaluate test set using MSE.\n",
    "MSE_test_a = model.evaluate(X_test, y_test)\n",
    "\n",
    "print(\"MSE for training set: {}, MSE for test set: {}\".format(MSE_train_a,MSE_test_a))\n",
    "\n",
    "# Print model architecture.\n",
    "tf.keras.utils.plot_model(model)\n"
   ]
  },
  {
   "cell_type": "markdown",
   "metadata": {},
   "source": [
    "### (b) Add more features\n",
    "Here I will use all the possible data to train the model and evaluate the results"
   ]
  },
  {
   "cell_type": "code",
   "execution_count": 43,
   "metadata": {},
   "outputs": [
    {
     "name": "stdout",
     "output_type": "stream",
     "text": [
      "Model: \"Task_4_b\"\n",
      "_________________________________________________________________\n",
      " Layer (type)                Output Shape              Param #   \n",
      "=================================================================\n",
      " First-Layer (Dense)         (None, 5)                 30        \n",
      "                                                                 \n",
      " Output-Layer (Dense)        (None, 1)                 6         \n",
      "                                                                 \n",
      "=================================================================\n",
      "Total params: 36 (144.00 Byte)\n",
      "Trainable params: 36 (144.00 Byte)\n",
      "Non-trainable params: 0 (0.00 Byte)\n",
      "_________________________________________________________________\n",
      "None\n",
      "13/13 [==============================] - 0s 670us/step - loss: 0.0666\n",
      "8/8 [==============================] - 0s 719us/step - loss: 0.1323\n",
      "MSE for training set: 0.06658747047185898, MSE for test set: 0.13232964277267456\n",
      "The MSE for the training set has change -0.012661866843700409 from the part (a) \n",
      "The MSE for the test set has change -0.011189326643943787 from the part (a)\n"
     ]
    },
    {
     "data": {
      "image/png": "[encoded data removed]",
      "text/plain": [
       "<IPython.core.display.Image object>"
      ]
     },
     "execution_count": 43,
     "metadata": {},
     "output_type": "execute_result"
    }
   ],
   "source": [
    "random.seed(13990508)\n",
    "# Define target.\n",
    "y = data['Inflation'].iloc[1:]\n",
    "\n",
    "# Define features.\n",
    "columns = list(data)\n",
    "X = data[columns].iloc[:-1]\n",
    "\n",
    "# Create train and test sets.\n",
    "y_train, y_test = y.iloc[:400], y.iloc[400:]\n",
    "X_train, X_test = X.iloc[:400], X.iloc[400:]\n",
    "\n",
    "# Define sequential model.\n",
    "model = tf.keras.models.Sequential(name=\"Task_4_b\")\n",
    "\n",
    "# Add input layer.\n",
    "model.add(tf.keras.Input(shape=(len(columns),),name = \"All the Inputs\"))\n",
    "\n",
    "# Define dense layer.\n",
    "model.add(tf.keras.layers.Dense(len(columns), activation=\"relu\", name = \"First-Layer\" ))\n",
    "\n",
    "# Define output layer.\n",
    "model.add(tf.keras.layers.Dense(1, activation=\"linear\",name = \"Output-Layer\"))\n",
    "\n",
    "# Compile the model.\n",
    "model.compile(loss=\"mse\", optimizer= tf.keras.optimizers.Adam())\n",
    "\n",
    "# Train the model.\n",
    "model.fit(X_train, y_train, epochs=100,verbose=0)\n",
    "\n",
    "\n",
    "# Print model architecture.\n",
    "print(model.summary())\n",
    "# Evaluate training set using MSE.\n",
    "MSE_train_b = model.evaluate(X_train, y_train)\n",
    "\n",
    "# Evaluate test set using MSE.\n",
    "MSE_test_b = model.evaluate(X_test, y_test)\n",
    "\n",
    "print(\"MSE for training set: {}, MSE for test set: {}\".format(MSE_train_b,MSE_test_b))\n",
    "print(\"The MSE for the training set has change {} from the part (a) \".format(MSE_train_b-MSE_train_a))\n",
    "print(\"The MSE for the test set has change {} from the part (a)\".format(MSE_test_b-MSE_test_a))\n",
    "\n",
    "# Print model architecture.\n",
    "tf.keras.utils.plot_model(model)\n"
   ]
  },
  {
   "cell_type": "markdown",
   "metadata": {},
   "source": [
    "As you can see the MSE is lower for both the training and test set. This is because we have more features to train on and so the model is able to learn more about the data."
   ]
  },
  {
   "cell_type": "markdown",
   "metadata": {},
   "source": [
    "### (c) Adding another hidden layer"
   ]
  },
  {
   "cell_type": "code",
   "execution_count": 45,
   "metadata": {},
   "outputs": [
    {
     "name": "stdout",
     "output_type": "stream",
     "text": [
      "Model: \"Task_4_c\"\n",
      "_________________________________________________________________\n",
      " Layer (type)                Output Shape              Param #   \n",
      "=================================================================\n",
      " First-Layer (Dense)         (None, 2)                 6         \n",
      "                                                                 \n",
      " Second-Layer (Dense)        (None, 2)                 6         \n",
      "                                                                 \n",
      " Output-Layer (Dense)        (None, 1)                 3         \n",
      "                                                                 \n",
      "=================================================================\n",
      "Total params: 15 (60.00 Byte)\n",
      "Trainable params: 15 (60.00 Byte)\n",
      "Non-trainable params: 0 (0.00 Byte)\n",
      "_________________________________________________________________\n",
      "None\n",
      "13/13 [==============================] - 0s 748us/step - loss: 0.0873\n",
      "8/8 [==============================] - 0s 1ms/step - loss: 0.1225\n",
      "MSE for training set: 0.08730211108922958, MSE for test set: 0.12248902767896652\n",
      "The MSE for the training set has change 0.008052773773670197 from the part (a) \n",
      "The MSE for the test set has change -0.021029941737651825 from the part (a)\n"
     ]
    },
    {
     "data": {
      "image/png": "[encoded data removed]",
      "text/plain": [
       "<IPython.core.display.Image object>"
      ]
     },
     "execution_count": 45,
     "metadata": {},
     "output_type": "execute_result"
    }
   ],
   "source": [
    "random.seed(13990508)\n",
    "# Define target.\n",
    "y = data['Inflation'].iloc[1:]\n",
    "\n",
    "# Define features.\n",
    "X = data[['Inflation', 'Unemployment']].iloc[:-1]\n",
    "\n",
    "# Create train and test sets.\n",
    "y_train, y_test = y.iloc[:400], y.iloc[400:]\n",
    "X_train, X_test = X.iloc[:400], X.iloc[400:]\n",
    "\n",
    "# Define sequential model.\n",
    "model = tf.keras.models.Sequential(name=\"Task_4_c\")\n",
    "\n",
    "# Add input layer.\n",
    "model.add(tf.keras.Input(shape=(2,),name = \"Two Inputs\"))\n",
    "\n",
    "# Define dense layer.\n",
    "model.add(tf.keras.layers.Dense(2, activation=\"relu\", name = \"First-Layer\" ))\n",
    "\n",
    "# Add hidden layer.\n",
    "model.add(tf.keras.layers.Dense(2, activation=\"relu\", name = \"Second-Layer\" ))\n",
    "\n",
    "\n",
    "# Define output layer.\n",
    "model.add(tf.keras.layers.Dense(1, activation=\"linear\",name = \"Output-Layer\"))\n",
    "\n",
    "# Compile the model.\n",
    "model.compile(loss=\"mse\", optimizer= tf.keras.optimizers.Adam())\n",
    "\n",
    "# Train the model.\n",
    "model.fit(X_train, y_train, epochs=100,verbose=0)\n",
    "\n",
    "\n",
    "# Print model architecture.\n",
    "print(model.summary())\n",
    "\n",
    "# Evaluate training set using MSE.\n",
    "MSE_train_c = model.evaluate(X_train, y_train)\n",
    "\n",
    "# Evaluate test set using MSE.\n",
    "MSE_test_c = model.evaluate(X_test, y_test)\n",
    "\n",
    "print(\"MSE for training set: {}, MSE for test set: {}\".format(MSE_train_c,MSE_test_c))\n",
    "print(\"The MSE for the training set has change {} from the part (a) \".format(MSE_train_c-MSE_train_a))\n",
    "print(\"The MSE for the test set has change {} from the part (a)\".format(MSE_test_c-MSE_test_a))\n",
    "\n",
    "tf.keras.utils.plot_model(model)\n"
   ]
  },
  {
   "cell_type": "markdown",
   "metadata": {},
   "source": [
    "As we can see the MSE for the training set is higher from the part (a) and the MSE for the test set is lower from the part (a). This means that the model is overfitting the training set and it is not generalizing well to the test set."
   ]
  },
  {
   "cell_type": "markdown",
   "metadata": {},
   "source": [
    "### (d) Change Hyperparameter\n",
    "Here I will change the number of epochs to 200 and learning rate 0.01."
   ]
  },
  {
   "cell_type": "code",
   "execution_count": 48,
   "metadata": {},
   "outputs": [
    {
     "name": "stdout",
     "output_type": "stream",
     "text": [
      "Model: \"Task_4_d\"\n",
      "_________________________________________________________________\n",
      " Layer (type)                Output Shape              Param #   \n",
      "=================================================================\n",
      " First-Layer (Dense)         (None, 2)                 6         \n",
      "                                                                 \n",
      " Output-Layer (Dense)        (None, 1)                 3         \n",
      "                                                                 \n",
      "=================================================================\n",
      "Total params: 9 (36.00 Byte)\n",
      "Trainable params: 9 (36.00 Byte)\n",
      "Non-trainable params: 0 (0.00 Byte)\n",
      "_________________________________________________________________\n",
      "None\n",
      "13/13 [==============================] - 0s 664us/step - loss: 0.0661\n",
      "8/8 [==============================] - 0s 728us/step - loss: 0.1378\n",
      "MSE for training set: 0.06606683135032654, MSE for test set: 0.13776244223117828\n",
      "The MSE for the training set has change -0.013182505965232849 from the part (a) \n",
      "The MSE for the test set has change -0.0057565271854400635 from the part (a)\n"
     ]
    },
    {
     "data": {
      "image/png": "[encoded data removed]",
      "text/plain": [
       "<IPython.core.display.Image object>"
      ]
     },
     "execution_count": 48,
     "metadata": {},
     "output_type": "execute_result"
    }
   ],
   "source": [
    "random.seed(13990508)\n",
    "# Define target.\n",
    "y = data['Inflation'].iloc[1:]\n",
    "\n",
    "# Define features.\n",
    "X = data[['Inflation', 'Unemployment']].iloc[:-1]\n",
    "\n",
    "# Create train and test sets.\n",
    "y_train, y_test = y.iloc[:400], y.iloc[400:]\n",
    "X_train, X_test = X.iloc[:400], X.iloc[400:]\n",
    "\n",
    "# Define sequential model.\n",
    "model = tf.keras.models.Sequential(name=\"Task_4_d\")\n",
    "\n",
    "# Add input layer.\n",
    "model.add(tf.keras.Input(shape=(2,),name = \"Two Inputs\"))\n",
    "\n",
    "# Define dense layer.\n",
    "model.add(tf.keras.layers.Dense(2, activation=\"relu\", name = \"First-Layer\" ))\n",
    "\n",
    "# Define output layer.\n",
    "model.add(tf.keras.layers.Dense(1, activation=\"linear\",name = \"Output-Layer\"))\n",
    "\n",
    "# Compile the model.\n",
    "model.compile(loss=\"mse\", optimizer= tf.keras.optimizers.Adam(learning_rate=0.01))\n",
    "\n",
    "# Train the model.\n",
    "model.fit(X_train, y_train, epochs=200,verbose=0)\n",
    "\n",
    "\n",
    "# Print model architecture.\n",
    "print(model.summary())\n",
    "\n",
    "# Evaluate training set using MSE.\n",
    "MSE_train_d = model.evaluate(X_train, y_train)\n",
    "\n",
    "# Evaluate test set using MSE.\n",
    "MSE_test_d = model.evaluate(X_test, y_test)\n",
    "\n",
    "print(\"MSE for training set: {}, MSE for test set: {}\".format(MSE_train_d,MSE_test_d))\n",
    "print(\"The MSE for the training set has change {} from the part (a) \".format(MSE_train_d-MSE_train_a))\n",
    "print(\"The MSE for the test set has change {} from the part (a)\".format(MSE_test_d-MSE_test_a))\n",
    "\n",
    "# Print model architecture.\n",
    "tf.keras.utils.plot_model(model)\n"
   ]
  },
  {
   "cell_type": "markdown",
   "metadata": {},
   "source": [
    "As you can see th MSE for both the training and test set has decreased from the part (a) to part (d). This is because we have increased the learning rate from 0.001 to 0.01 and the number of epochs from 100 to 200. This has allowed the model to learn more from the data and therefore decrease the MSE."
   ]
  },
  {
   "cell_type": "markdown",
   "metadata": {},
   "source": [
    "### (e)\n"
   ]
  },
  {
   "cell_type": "markdown",
   "metadata": {},
   "source": [
    "## **Task 5**"
   ]
  },
  {
   "cell_type": "code",
   "execution_count": 86,
   "metadata": {},
   "outputs": [],
   "source": [
    "# Load packages.\n",
    "import pandas as pd\n",
    "import matplotlib.pyplot as plt\n",
    "import seaborn as sns\n",
    "from sklearn.model_selection import train_test_split\n",
    "from sklearn.ensemble import GradientBoostingClassifier\n",
    "from sklearn.metrics import log_loss\n",
    "from sklearn.metrics import accuracy_score, confusion_matrix\n",
    "# Load data.\n",
    "file_path = 'https://www.dropbox.com/scl/fi/7d1orgbpbi6ug2c0u3e6w/crisis.csv?rlkey=itacct9ifoo7s672h3stp7ycv&dl=1'\n",
    "data = pd.read_csv(file_path)\n",
    "\n",
    "# Define features.\n",
    "X = data[['stir', 'debtgdp', 'inflation', 'stock_price_growth']].copy()\n",
    "\n",
    "# Define target.\n",
    "y = data['crisisJST'].copy()\n",
    "\n",
    "# Generate training and test sets.\n",
    "X_train, X_test, y_train, y_test = train_test_split(X,\n",
    "                                                    y,\n",
    "                                                    test_size=0.4,\n",
    "                                                    random_state=103)\n",
    "\n",
    "def fit_the_model(param_set):\n",
    "    # Instantiate gradient boosting model.\n",
    "    gbt_model = GradientBoostingClassifier(**param_set, random_state=103)\n",
    "    # Train gradient boosting model.\n",
    "    gbt_model.fit(X_train, y_train)\n",
    "    return gbt_model\n",
    "\n",
    "# Define function to evaluate trained model.\n",
    "def evaluate_model(model, X_sample, y_sample,set_name):\n",
    "    # Generate predictions.\n",
    "    y_pred = model.predict(X_sample)\n",
    "\n",
    "    # Compute accuracy.\n",
    "    accuracy = accuracy_score(y_sample, y_pred)\n",
    "\n",
    "    # Generate confusion matrix.\n",
    "    conf_matrix = confusion_matrix(y_sample, y_pred)\n",
    "\n",
    "    # Print accuracy.\n",
    "    print(\"Gradient Boosting Classifier - Accuracy:\", accuracy)\n",
    "\n",
    "    # Plot confusion matrix.\n",
    "    plt.figure(figsize=(8, 5))\n",
    "    sns.heatmap(conf_matrix, annot=True, fmt='g', cmap='Blues')\n",
    "    plt.title('Confusion Matrix for {}'.format(set_name))\n",
    "    plt.xlabel('Predicted Label')\n",
    "    plt.ylabel('True Label')\n",
    "    plt.show()\n"
   ]
  },
  {
   "cell_type": "code",
   "execution_count": 87,
   "metadata": {},
   "outputs": [
    {
     "name": "stdout",
     "output_type": "stream",
     "text": [
      "Gradient Boosting Classifier - Accuracy: 1.0\n"
     ]
    },
    {
     "data": {
      "image/png": "[encoded data removed]",
      "text/plain": [
       "<Figure size 800x500 with 2 Axes>"
      ]
     },
     "metadata": {},
     "output_type": "display_data"
    },
    {
     "name": "stdout",
     "output_type": "stream",
     "text": [
      "Gradient Boosting Classifier - Accuracy: 0.9616724738675958\n"
     ]
    },
    {
     "data": {
      "image/png": "[encoded data removed]",
      "text/plain": [
       "<Figure size 800x500 with 2 Axes>"
      ]
     },
     "metadata": {},
     "output_type": "display_data"
    }
   ],
   "source": [
    "# Set hyperparameters.\n",
    "param_set = {'n_estimators': 100, 'learning_rate': 0.10, 'max_depth': 3}\n",
    "gbt_model = fit_the_model(param_set)\n",
    "\n",
    "# Evaluate model on training data.\n",
    "\n",
    "evaluate_model(gbt_model, X_train, y_train,\"Training Set\")\n",
    "# Evaluate model on test data.\n",
    "evaluate_model(gbt_model, X_test, y_test,\"Test Set\")"
   ]
  },
  {
   "cell_type": "markdown",
   "metadata": {},
   "source": [
    "### (a)\n",
    "As you can see in the figures, the model is overfitting the training set. The accuracy of the model on the training set is 1, and the accuracy on the test set is 0.96. This is a clear sign of overfitting. The model is not able to generalize well to unseen data. The main reason for this problem is the simple data set. In the training set, we do not have that many observations for the crisis period. Therefore, the model is not able to learn the patterns in the data. "
   ]
  },
  {
   "cell_type": "markdown",
   "metadata": {},
   "source": [
    "### (b)\n",
    "In the test set, the model predict correctly for 275 values and only 1 value was predicted as a crisis when it was not. On the other hand, the model predicted 10 values as not a crisis when it was a crisis and 1 value as a crisis when it was. This feature is not good at predicting crisis because it has a lot of false negatives and false positives. The model has a good accuracy because the data is **unbalanced**. The model is predicting the majority class (not a crisis) and it is not predicting the minority class (crisis). "
   ]
  },
  {
   "cell_type": "markdown",
   "metadata": {},
   "source": [
    "### (c)\n",
    "Yes, of course, the model is overfitting. The accuracy of the training set is 1, while the accuracy of the test set is 0.95. If we calculate the accuracy of the test set for different clusters, then we have 99% accuracy for the non-crisis cluster and 9% accuracy for the crisis cluster. While the accuracy of the training set is 100% for both clusters. This is a clear sign of overfitting. "
   ]
  },
  {
   "cell_type": "markdown",
   "metadata": {},
   "source": [
    "### (d) Change the model\n",
    "As we can see the model is overfitting the training set, so we need to tune the hyperparameters. I am going to use the grid search method to find the best hyperparameters."
   ]
  },
  {
   "cell_type": "code",
   "execution_count": 88,
   "metadata": {},
   "outputs": [
    {
     "name": "stdout",
     "output_type": "stream",
     "text": [
      "Fitting 10 folds for each of 750 candidates, totalling 7500 fits\n",
      "{'learning_rate': 0.1, 'max_depth': 4, 'n_estimators': 200, 'validation_fraction': 0.1}\n",
      "0.9744186046511627\n"
     ]
    }
   ],
   "source": [
    "# import grid search\n",
    "from sklearn.model_selection import GridSearchCV\n",
    "\n",
    "# Set hyperparameters.\n",
    "param_set = {'n_estimators': 100, 'learning_rate': 0.10, 'max_depth': 3}\n",
    "\n",
    "# Set grid search parameters.\n",
    "param_set_grid = {\n",
    "    'n_estimators': [25, 50, 75, 100, 200, 300],\n",
    "    'learning_rate': [0.001, 0.01, 0.05, 0.10, 0.15],\n",
    "    'max_depth': [1, 2, 3, 4, 5],\n",
    "    'validation_fraction' : [0.1,0.2,0.3,0.4,0.5]\n",
    "\n",
    "}\n",
    "\n",
    "# Instantiate gradient boosting model.\n",
    "gbt_model = GradientBoostingClassifier(**param_set, random_state=103)\n",
    "\n",
    "grid_dt = GridSearchCV(estimator=gbt_model,param_grid=param_set_grid,cv=10,verbose=1,n_jobs=-1)\n",
    "grid_dt.fit(X_train, y_train)\n",
    "\n",
    "# Print best hyperparameters.\n",
    "print(grid_dt.best_params_)\n",
    "# Print best accuracy.\n",
    "print(grid_dt.best_score_)\n"
   ]
  },
  {
   "cell_type": "code",
   "execution_count": 90,
   "metadata": {},
   "outputs": [
    {
     "name": "stdout",
     "output_type": "stream",
     "text": [
      "Gradient Boosting Classifier - Accuracy: 1.0\n"
     ]
    },
    {
     "data": {
      "image/png": "[encoded data removed]",
      "text/plain": [
       "<Figure size 800x500 with 2 Axes>"
      ]
     },
     "metadata": {},
     "output_type": "display_data"
    },
    {
     "name": "stdout",
     "output_type": "stream",
     "text": [
      "Gradient Boosting Classifier - Accuracy: 0.9581881533101045\n"
     ]
    },
    {
     "data": {
      "image/png": "[encoded data removed]",
      "text/plain": [
       "<Figure size 800x500 with 2 Axes>"
      ]
     },
     "metadata": {},
     "output_type": "display_data"
    }
   ],
   "source": [
    "gbt_model = GradientBoostingClassifier(**grid_dt.best_params_, random_state=103)\n",
    "gbt_model.fit(X_train, y_train)\n",
    "evaluate_model(gbt_model, X_train, y_train,\"Training Set\")\n",
    "# Evaluate model on test data.\n",
    "evaluate_model(gbt_model, X_test, y_test,\"Test Set\")"
   ]
  },
  {
   "cell_type": "markdown",
   "metadata": {},
   "source": [
    "But As you can see, due to the fact that the main problem is the input data, the grid search does not improve the model. I am trying to change the training set.\n"
   ]
  },
  {
   "cell_type": "code",
   "execution_count": null,
   "metadata": {},
   "outputs": [],
   "source": [
    "X_train, X_test, y_train, y_test = train_test_split(X,\n",
    "                                                    y,\n",
    "                                                    test_size=0.4,\n",
    "                                                    random_state=103)"
   ]
  },
  {
   "cell_type": "code",
   "execution_count": 94,
   "metadata": {},
   "outputs": [],
   "source": [
    "columns = ['stir', 'debtgdp', 'inflation', 'stock_price_growth']\n",
    "X_crisis = data[data.crisisJST == 1][columns]\n",
    "y_crisis = data[data.crisisJST == 1]['crisisJST']\n",
    "X_no_crisis = data[data.crisisJST == 0][columns]\n",
    "y_no_crisis = data[data.crisisJST == 0]['crisisJST']\n",
    "\n",
    "# Generate training and test sets for crisis.\n",
    "X_train_crisis, X_test_crisis, y_train_crisis, y_test_crisis = train_test_split(X_crisis,y_crisis,test_size=0.4,random_state=103)\n",
    "\n",
    "# Generate training and test sets for no crisis.\n",
    "X_train_no_crisis, X_test_no_crisis, y_train_no_crisis, y_test_no_crisis = train_test_split(X_no_crisis,y_no_crisis,test_size=0.4,random_state=103)\n",
    "\n",
    "# Generate training and test sets.\n",
    "X_train_new = pd.concat([X_train_crisis,X_train_no_crisis])\n",
    "y_train_new = pd.concat([y_train_crisis,y_train_no_crisis])\n",
    "X_test_new = pd.concat([X_test_crisis,X_test_no_crisis])\n",
    "y_test_new = pd.concat([y_test_crisis,y_test_no_crisis])"
   ]
  },
  {
   "cell_type": "code",
   "execution_count": 97,
   "metadata": {},
   "outputs": [
    {
     "name": "stdout",
     "output_type": "stream",
     "text": [
      "Gradient Boosting Classifier - Accuracy: 0.9836829836829837\n"
     ]
    },
    {
     "data": {
      "image/png": "[encoded data removed]",
      "text/plain": [
       "<Figure size 800x500 with 2 Axes>"
      ]
     },
     "metadata": {},
     "output_type": "display_data"
    },
    {
     "name": "stdout",
     "output_type": "stream",
     "text": [
      "Gradient Boosting Classifier - Accuracy: 0.9826388888888888\n"
     ]
    },
    {
     "data": {
      "image/png": "[encoded data removed]",
      "text/plain": [
       "<Figure size 800x500 with 2 Axes>"
      ]
     },
     "metadata": {},
     "output_type": "display_data"
    }
   ],
   "source": [
    "gbt_model = fit_the_model(grid_dt.best_params_)\n",
    "\n",
    "# Evaluate model on training data.\n",
    "\n",
    "evaluate_model(gbt_model, X_train_new, y_train_new,\"Training Set\")\n",
    "# Evaluate model on test data.\n",
    "evaluate_model(gbt_model, X_test_new, y_test_new,\"Test Set\")"
   ]
  },
  {
   "cell_type": "markdown",
   "metadata": {},
   "source": [
    "Still we have the problem, that's best I can do."
   ]
  },
  {
   "cell_type": "markdown",
   "metadata": {},
   "source": [
    "## **Task 1**"
   ]
  },
  {
   "cell_type": "markdown",
   "metadata": {},
   "source": [
    "### (a)\n",
    "A typical approach involves running the k-means algorithm multiple times, each time with different randomly initialized cluster centroids ($\\mu_j$). From the various clustering results obtained, select the one that yields the minimum distortion $J(c, \\mu_j)$ where $J(c, \\mu_j)$ is:\n",
    "$$\n",
    "J(c,\\mu_j) = \\sum_{i=1}^{n} || x^{(i)} - \\mu_{c}(i) ||^2\n",
    "$$\n"
   ]
  },
  {
   "cell_type": "markdown",
   "metadata": {},
   "source": [
    "### (b)\n",
    "PCA and PLS have different objectives and applications. PCA simplifies data by identifying orthogonal axes that capture maximum variance, while PLS finds latent variables that maximize covariance between predictor variables and a target variable. PCA is unsupervised and used for dimensionality reduction, while PLS is supervised and preferred for predictive modeling with high-dimensional datasets. The key difference is that PLS incorporates information about the relationship with the target variable, making it a powerful tool for regression tasks."
   ]
  },
  {
   "cell_type": "markdown",
   "metadata": {},
   "source": [
    "## **Task 7**"
   ]
  },
  {
   "cell_type": "markdown",
   "metadata": {},
   "source": [
    "### (a)\n",
    "This approach introduce a penalty term to the traditional least squares objective function, aiming to shrink or eliminate some of the coefficients, effectively performing variable selection and reducing the number of predictors. The objective function is:\n",
    "$$\n",
    "\\sum_{i=1}^{n}(y_i + \\beta_0 - \\sum_{j=1}^p \\beta_jX_{ij})^2 + \\lambda f(\\beta)\n",
    "$$\n",
    "Regularized regression methods can help recover meaningful model parameters even when $p >n $ by providing a way to handle the high-dimensional feature space and avoid overfitting.\n"
   ]
  },
  {
   "cell_type": "markdown",
   "metadata": {},
   "source": [
    "### (b)\n",
    "\n",
    "- OLS:\n",
    "$$\n",
    "RSS = \\sum_{i=1}^{n}(y_i + \\beta_0 - \\sum_{j=1}^p \\beta_jX_{ij})^2 \n",
    "$$\n",
    "- Ridge:\n",
    "$$\n",
    "\\sum_{i=1}^{n}(y_i + \\beta_0 - \\sum_{j=1}^p \\beta_jX_{ij})^2  + \\lambda \\sum_{j=1}^p \\beta_j^2 = RSS + \\lambda \\sum_{j=1}^p \\beta_j^2\n",
    "$$\n",
    "As you can see, OLS do not have the penalty for the coefficients, and in Ridge we use the sum of square of the coefficients rather than the absolute values.\n",
    "\n",
    "Using this feature of Lasso, caring about the sum of absolute values, we can set some coefficients exactly zero. This can lead to feature selection, that some predictors are entirely excluded from the model."
   ]
  },
  {
   "cell_type": "markdown",
   "metadata": {},
   "source": [
    "### (c)\n",
    "To address this issue, cross-validation offers a straightforward solution. We select a range of $\\lambda$ values and calculate the cross-validation error for each $\\lambda$. The tuning parameter value is then chosen based on the smallest cross-validation error. Subsequently, the model is refitted using all observations, utilizing the selected tuning parameter value."
   ]
  },
  {
   "cell_type": "markdown",
   "metadata": {},
   "source": [
    "## **Task 8**\n",
    "In part a, describe the types of features you want to measure in the text without discussing the methods you would use to extract them. \n",
    "\n",
    "In part b, list the methods you would use to extract each of the features. \n",
    "\n",
    "And in part c, explain how the features produced by the methods given in part b are represented numerically (e.g. as embedding vectors, word counts, etc.)."
   ]
  },
  {
   "cell_type": "markdown",
   "metadata": {},
   "source": [
    "### (a)\n",
    "- Text classification\n",
    "-  Sentiment \n",
    "-\n"
   ]
  },
  {
   "cell_type": "markdown",
   "metadata": {},
   "source": [
    "### (b)\n",
    "-\n",
    "-\n",
    "-"
   ]
  },
  {
   "cell_type": "markdown",
   "metadata": {},
   "source": [
    "### (c)\n",
    "-\n",
    "-\n",
    "-"
   ]
  },
  {
   "cell_type": "markdown",
   "metadata": {},
   "source": [
    "### (d)"
   ]
  }
 ],
 "metadata": {
  "kernelspec": {
   "display_name": "Python 3",
   "language": "python",
   "name": "python3"
  },
  "language_info": {
   "codemirror_mode": {
    "name": "ipython",
    "version": 3
   },
   "file_extension": ".py",
   "mimetype": "text/x-python",
   "name": "python",
   "nbconvert_exporter": "python",
   "pygments_lexer": "ipython3",
   "version": "3.10.11"
  }
 },
 "nbformat": 4,
 "nbformat_minor": 2
}
