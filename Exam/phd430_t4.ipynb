{
  "nbformat": 4,
  "nbformat_minor": 0,
  "metadata": {
    "colab": {
      "provenance": [],
      "include_colab_link": true
    },
    "kernelspec": {
      "name": "python3",
      "display_name": "Python 3"
    },
    "language_info": {
      "name": "python"
    }
  },
  "cells": [
    {
      "cell_type": "markdown",
      "metadata": {
        "id": "view-in-github",
        "colab_type": "text"
      },
      "source": [
        "<a href=\"https://colab.research.google.com/github/mortezaaghajanzadeh/Machine-learning-in-Finance/blob/main/Exam/phd430_t4.ipynb\" target=\"_parent\"><img src=\"https://colab.research.google.com/assets/colab-badge.svg\" alt=\"Open In Colab\"/></a>"
      ]
    },
    {
      "cell_type": "markdown",
      "source": [
        "# **PhD 430 Take Home Exam: Task 4.**\n"
      ],
      "metadata": {
        "id": "uTxaRXhp98WS"
      }
    },
    {
      "cell_type": "code",
      "source": [
        "# Import libraries.\n",
        "import pandas as pd\n",
        "import tensorflow as tf"
      ],
      "metadata": {
        "id": "RH3GPpmU-KAp"
      },
      "execution_count": 1,
      "outputs": []
    },
    {
      "cell_type": "markdown",
      "source": [
        "### **Load data and define target and features.**"
      ],
      "metadata": {
        "id": "_hmgEbOaB3yW"
      }
    },
    {
      "cell_type": "code",
      "source": [
        "# Load data.\n",
        "data = pd.read_csv('https://www.dropbox.com/scl/fi/v7iqtlyf3voedweq7xct5/macrodata.csv?rlkey=ccr7auc4i910z2h3xrs7caprn&dl=1',\n",
        "                        index_col = 'Date')\n",
        "\n",
        "# Define target.\n",
        "y = data['Inflation'].iloc[1:]\n",
        "\n",
        "# Define features.\n",
        "X = data[['Inflation', 'Unemployment']].iloc[:-1]\n",
        "\n",
        "# Create train and test sets.\n",
        "y_train, y_test = y.iloc[:400], y.iloc[400:]\n",
        "X_train, X_test = X.iloc[:400], X.iloc[400:]"
      ],
      "metadata": {
        "id": "zPEL3TDj_YQy"
      },
      "execution_count": null,
      "outputs": []
    },
    {
      "cell_type": "markdown",
      "source": [
        "### **Define sequential model in keras.**"
      ],
      "metadata": {
        "id": "WQojvs3s-daM"
      }
    },
    {
      "cell_type": "code",
      "source": [
        "# Define sequential model.\n",
        "model = tf.keras.models.Sequential()\n",
        "\n",
        "# Add input layer.\n",
        "model.add(tf.keras.Input(shape=(2,)))\n",
        "\n",
        "# Define dense layer.\n",
        "model.add(tf.keras.layers.Dense(2, activation=\"relu\"))\n",
        "\n",
        "# Define output layer.\n",
        "model.add(tf.keras.layers.Dense(1, activation=\"linear\"))\n",
        "\n",
        "# Compile the model.\n",
        "model.compile(loss=\"mse\", optimizer=\"adam\")\n",
        "\n",
        "# Train the model.\n",
        "model.fit(X_train, y_train, epochs=100)"
      ],
      "metadata": {
        "id": "j5E5gGui9UGy"
      },
      "execution_count": null,
      "outputs": []
    },
    {
      "cell_type": "markdown",
      "source": [
        "### **Summarize model architecture.**"
      ],
      "metadata": {
        "id": "gKYwm-I1-70A"
      }
    },
    {
      "cell_type": "code",
      "source": [
        "# Print model architecture.\n",
        "print(model.summary())"
      ],
      "metadata": {
        "id": "eZmvxTpF9WZv"
      },
      "execution_count": null,
      "outputs": []
    },
    {
      "cell_type": "markdown",
      "source": [
        "### **Use MSE to evaluate train and test sets.**"
      ],
      "metadata": {
        "id": "D3HA_WjCw6Vu"
      }
    },
    {
      "cell_type": "code",
      "source": [
        "# Evaluate training set using MSE.\n",
        "model.evaluate(X_train, y_train)"
      ],
      "metadata": {
        "id": "S0LIWvuww_YR"
      },
      "execution_count": null,
      "outputs": []
    },
    {
      "cell_type": "code",
      "source": [
        "# Evaluate test set using MSE.\n",
        "model.evaluate(X_test, y_test)"
      ],
      "metadata": {
        "id": "1ZONOrj7ByNu"
      },
      "execution_count": null,
      "outputs": []
    }
  ]
}